{
 "cells": [
  {
   "cell_type": "code",
   "execution_count": 12,
   "metadata": {
    "collapsed": false
   },
   "outputs": [],
   "source": [
    "# coding: utf-8\n",
    "\n",
    "import pandas as pd\n",
    "import numpy as np\n",
    "from matplotlib import rcParams\n",
    "import matplotlib.pyplot as plt\n",
    "from collections import defaultdict\n",
    "from datetime import datetime\n",
    "import matplotlib.patches as mpatches\n",
    "import matplotlib\n",
    "import time\n",
    "import math\n",
    "from operator import itemgetter\n",
    "from scipy.spatial import distance\n",
    "%matplotlib inline  \n",
    "\n",
    "rcParams['font.family'] = 'NanumGothic'\n",
    "rcParams.update({'font.size': 12})\n",
    "matplotlib.style.use('ggplot')\n",
    "pd.options.display.max_rows=14\n"
   ]
  },
  {
   "cell_type": "markdown",
   "metadata": {},
   "source": [
    "## 무비 렌즈 데이터로 별점을 예측해 보자 \n",
    "* User Based 별점 예측 \n",
    "* Item(Movie) Based 별점 예측"
   ]
  },
  {
   "cell_type": "markdown",
   "metadata": {},
   "source": [
    "Movie Lens 데이터 로드 \n",
    "http://grouplens.org/datasets/movielens/"
   ]
  },
  {
   "cell_type": "code",
   "execution_count": 167,
   "metadata": {
    "collapsed": false,
    "scrolled": true
   },
   "outputs": [],
   "source": [
    "class ub_ressys:\n",
    "    home_dir = '/Users/goodvc/Documents/data-analytics/movie-recommendation/'\n",
    "    nn_func = None\n",
    "    sim_func = None\n",
    "    \n",
    "    \n",
    "    def __init__(self, dataname='ml-latest-small'):\n",
    "        self.ds_type = dataname\n",
    "        self.nn_func = self.nearest_neighbor_user\n",
    "        self.sim_func = self.distance_euclidean\n",
    "        self.movieLensDataLoad()\n",
    "        self.UM_matrix_ds = self.ratings.pivot(index='userId', columns='movieId', values='rating')\n",
    "    \n",
    "    def movieLensDataLoad(self):\n",
    "        ## user 영화 별점 data \n",
    "        self.ratings = pd.read_csv('{home}/{type}/{name}'.format( home=self.home_dir, type=self.ds_type, name='ratings.csv'))\n",
    "\n",
    "        ## movie meta(타이트,장르) data \n",
    "        self.movies = pd.read_csv('{home}/{type}/{name}'.format( home=self.home_dir, type=self.ds_type, name='movies.csv'))\n",
    "\n",
    "        ## user가 영화에 tag를 기입한 data\n",
    "        self.tags = pd.read_csv('{home}/{type}/{name}'.format( home=self.home_dir, type=self.ds_type, name='tags.csv'))\n",
    "\n",
    "\n",
    "    def compute(self):\n",
    "        ## 1. U X M vector Matrix를 만든다. \n",
    "        self.UM_matrix_ds = self.ratings.pivot(index='userId', columns='movieId', values='rating')\n",
    "        \n",
    "        ## pre-clustering\n",
    "        #self.graph_cut()\n",
    "\n",
    "    ## filtering movies by rating frequency\n",
    "    def cut_movie(self, threshold=5):\n",
    "        movie_rating_count = self.ratings.groupby(['movieId'])['rating'].count()\n",
    "        except_list = movie_rating_count[movie_rating_count<threshold].index\n",
    "        self.ratings = self.ratings[(~self.ratings['movieId'].isin(except_list))]\n",
    "        return (self.ratings.count()[0])\n",
    "        \n",
    "    ## distance functions\n",
    "    def distance_cosine(self, a, b):        return 1-distance.cosine(a,b)\n",
    "    def disance_corr(self, a, b):           return 1-distance.correlation (a,b)\n",
    "    def distance_euclidean(self, a, b):     return 1/(distance.euclidean(a,b)+1)\n",
    "    \n",
    "    ## none-cluster nn functions\n",
    "    def nearest_neighbor_user(self, user, topN, simFunc ) :  \n",
    "        u1 = self.UM_matrix_ds.loc[user].dropna()\n",
    "        ratedIndex = u1.index\n",
    "        nn = {}\n",
    "\n",
    "        ## Brote Force Compute\n",
    "        for uid, row in self.UM_matrix_ds.iterrows():\n",
    "            interSectionU1 = []\n",
    "            interSectionU2 = []\n",
    "            if uid==user:\n",
    "                continue\n",
    "            for i in ratedIndex:\n",
    "                if False==math.isnan(row[i]):\n",
    "                    interSectionU1.append(u1[i])\n",
    "                    interSectionU2.append(row[i])\n",
    "            interSectionLen = len(interSectionU1)\n",
    "\n",
    "            ## At least 3 intersection items\n",
    "            if interSectionLen < 3 :\n",
    "                continue\n",
    "\n",
    "            ## similarity functon\n",
    "            sim = simFunc(interSectionU1,interSectionU2)\n",
    "\n",
    "            if  math.isnan(sim) == False:\n",
    "                nn[uid] = sim\n",
    "\n",
    "        ## top N returned         \n",
    "        return sorted(nn.items(),key=itemgetter(1))[:-(topN+1):-1]\n",
    "\n",
    "    ## rating prediction by user\n",
    "    def predictRating(self, userid, nn=100) :\n",
    "        ## neighboorhood \n",
    "        neighbor = self.nn_func(userid, nn, self.sim_func)\n",
    "        neighbor_id = [id for id,sim in neighbor]\n",
    "\n",
    "        ## neighboorhood's movie : al least 4 ratings\n",
    "        neighbor_movie = self.UM_matrix_ds.loc[neighbor_id]\\\n",
    "                        .dropna(1, how='all', thresh = 4 )\n",
    "        neighbor_dic = (dict(neighbor))\n",
    "        ret = [] # ['movieId', 'predictedRate']\n",
    "\n",
    "        ## rating predict by my similarities \n",
    "        for movieId, row in neighbor_movie.iteritems():\n",
    "            jsum, wsum = 0, 0\n",
    "            for v in row.dropna().iteritems():\n",
    "                sim = neighbor_dic.get(v[0],0)\n",
    "                jsum += sim\n",
    "                wsum += (v[1]*sim)\n",
    "            ret.append([movieId, wsum/jsum])\n",
    "\n",
    "        return ret\n",
    "\n",
    "    \n",
    "    ## evaluation \n",
    "    def evaluation(self, user_list, acc_func, nn=50):\n",
    "        eval_ds = pd.merge(self.ratings, \n",
    "                           self.ratings[['movieId','rating']].groupby(['movieId']).mean().reset_index(), \n",
    "                           on='movieId', how='left')\n",
    "        eval_ds = eval_ds.rename(columns= {'rating_x':'rating', 'rating_y':'mean_rating'})\n",
    "        st = time.time()\n",
    "        name = self.sim_func.__name__\n",
    "        eval_ds[name] = 0\n",
    "        for userId in user_list:\n",
    "            for x in self.predictRating(userId, nn):\n",
    "                eval_ds.loc[(eval_ds.userId==userId) & (eval_ds.movieId==x[0]),name]=x[1]\n",
    "        print('elapsed', round(time.time()-st,2), 'sec')\n",
    "        eval_ds = eval_ds[eval_ds[name]>0]\n",
    "        \n",
    "        pzn_acc = acc_func(eval_ds, 'rating', name)\n",
    "        nopzn_acc = acc_func(eval_ds, 'rating', 'mean_rating')\n",
    "        return (pzn_acc, nopzn_acc, eval_ds)\n",
    "    \n",
    "    def graph_cut(self, threshold=3 ):\n",
    "        st = time.time()\n",
    "        grouped = self.ratings.groupby('movieId')\n",
    "        userlink = defaultdict(int)\n",
    "        for name, g in grouped:\n",
    "            users = g['userId'].values\n",
    "            cnt = users.size\n",
    "            if cnt<2:\n",
    "                continue\n",
    "\n",
    "            for n in range(0,cnt):\n",
    "                for m in range(n+1,cnt):\n",
    "                    key = \"{0}:{1}\" if users[n]<users[m] else \"{1}:{0}\"\n",
    "                    key = key.format(users[n], users[m])\n",
    "                    userlink[key] = userlink[key] + 1\n",
    "\n",
    "        self.neighbors = defaultdict(list)\n",
    "        n=0\n",
    "        for k, v in userlink.items():\n",
    "            if (v) > threshold:\n",
    "                nm = k.split(':')\n",
    "                if len(nm) == 2:\n",
    "                    self.neighbors[int(nm[0])].append(int(nm[1]))\n",
    "                    self.neighbors[int(nm[1])].append(int(nm[0]))\n",
    "                    n = n+1\n",
    "        cnt = len(self.UM_matrix_ds.index)\n",
    "        return (time.time()-st, n/(cnt**2-cnt))\n",
    "\n",
    "    def clustered_nearest_neighbor_user(self, user, topN, simFunc ) :  \n",
    "        u1 = self.UM_matrix_ds.loc[user].dropna()\n",
    "        ratedIndex = u1.index\n",
    "        nn = {}\n",
    "\n",
    "        members = self.neighbors[user]\n",
    "        ## pre-clustered Compute\n",
    "        for uid in members:\n",
    "            interSectionU1 = []\n",
    "            interSectionU2 = []\n",
    "            if uid==user:\n",
    "                continue\n",
    "            row = self.UM_matrix_ds.loc[uid]\n",
    "            for i in ratedIndex:\n",
    "                if False==math.isnan(row[i]):\n",
    "                    interSectionU1.append(u1[i])\n",
    "                    interSectionU2.append(row[i])\n",
    "            interSectionLen = len(interSectionU1)\n",
    "\n",
    "\n",
    "        ## At least 3 intersection items\n",
    "            if interSectionLen < 3 :\n",
    "                continue\n",
    "\n",
    "            ## similarity functon\n",
    "            sim = simFunc(interSectionU1,interSectionU2)\n",
    "\n",
    "            if  math.isnan(sim) == False:\n",
    "                nn[uid] = sim\n",
    "\n",
    "        ## top N returned         \n",
    "        return sorted(nn.items(),key=itemgetter(1))[:-(topN+1):-1]\n",
    "\n",
    "    ## accuracy measure functions\n",
    "    def RMSE(self, X, left_col, right_col):\n",
    "        return(np.sqrt(np.mean((X[left_col] - X[right_col])**2)))\n",
    "    def MAE(self, X, left_col, right_col):\n",
    "        return(np.mean(np.absolute(X[left_col] - X[right_col])) )\n",
    "ub = ub_ressys()"
   ]
  },
  {
   "cell_type": "markdown",
   "metadata": {},
   "source": [
    "* 별점 예측 객체 생성\n",
    " * euclidean distance\n",
    " * none-clustered nearest neighborhood\n"
   ]
  },
  {
   "cell_type": "code",
   "execution_count": 190,
   "metadata": {
    "collapsed": true
   },
   "outputs": [],
   "source": [
    "ub = ub_ressys()"
   ]
  },
  {
   "cell_type": "code",
   "execution_count": 119,
   "metadata": {
    "collapsed": false
   },
   "outputs": [
    {
     "data": {
      "text/plain": [
       "[(651, 0.5),\n",
       " (591, 0.5),\n",
       " (424, 0.5),\n",
       " (513, 0.4721359549995794),\n",
       " (473, 0.4721359549995794),\n",
       " (436, 0.4494897427831781),\n",
       " (97, 0.4494897427831781),\n",
       " (81, 0.4494897427831781),\n",
       " (57, 0.4494897427831781),\n",
       " (510, 0.4142135623730951),\n",
       " (312, 0.4142135623730951),\n",
       " (300, 0.4142135623730951),\n",
       " (240, 0.4142135623730951),\n",
       " (220, 0.4142135623730951),\n",
       " (93, 0.4142135623730951),\n",
       " (67, 0.4142135623730951),\n",
       " (16, 0.4142135623730951),\n",
       " (12, 0.4142135623730951),\n",
       " (696, 0.4),\n",
       " (288, 0.4)]"
      ]
     },
     "execution_count": 119,
     "metadata": {},
     "output_type": "execute_result"
    }
   ],
   "source": [
    "ub.nearest_neighbor_user(1,20,ub.distance_euclidean)"
   ]
  },
  {
   "cell_type": "code",
   "execution_count": 122,
   "metadata": {
    "collapsed": true
   },
   "outputs": [
    {
     "data": {
      "text/plain": [
       "[[1, 3.4973757725576129],\n",
       " [2, 2.7747861526493329],\n",
       " [3, 3.1137190994529718],\n",
       " [5, 3.7161621943950065],\n",
       " [7, 3.6761266239129329],\n",
       " [10, 3.0140608684784622],\n",
       " [11, 3.8072629433412737],\n",
       " [16, 3.5236389990063142],\n",
       " [17, 4.0564496803920296],\n",
       " [19, 2.5008287819113257],\n",
       " [21, 3.649250062205434],\n",
       " [25, 3.4993114631374516],\n",
       " [34, 3.1591863510187821],\n",
       " [36, 4.5362050315446636],\n",
       " [39, 3.0572343242590638],\n",
       " [47, 4.1461922072466191],\n",
       " [50, 4.6291333840685196],\n",
       " [58, 3.8056727568416218],\n",
       " [62, 3.8266779938410362],\n",
       " [64, 2.7720015923782153],\n",
       " [95, 3.562572880882525],\n",
       " [104, 3.7246411662957439],\n",
       " [110, 4.0446774455572809],\n",
       " [111, 3.8174805450628155],\n",
       " [141, 3.8184761216903294],\n",
       " [150, 3.6393638353377944],\n",
       " [151, 4.5374647163504056],\n",
       " [153, 3.0550438924610943],\n",
       " [161, 3.9208845348800416],\n",
       " [165, 3.318787814709848],\n",
       " [168, 2.8431105992410308],\n",
       " [185, 3.1572235872383585],\n",
       " [186, 2.8243305690765879],\n",
       " [203, 4.2401978961145543],\n",
       " [208, 2.9833541068444007],\n",
       " [223, 3.3977992935652548],\n",
       " [231, 2.287905428509069],\n",
       " [235, 4.0164972797460203],\n",
       " [246, 4.2441319059724556],\n",
       " [252, 3.2566770585442026],\n",
       " [253, 3.4901923397189116],\n",
       " [260, 4.4762818180982924],\n",
       " [265, 4.2324135272098209],\n",
       " [266, 4.0758910636654386],\n",
       " [288, 3.8325010046225847],\n",
       " [292, 3.4396052384599063],\n",
       " [293, 3.6349613682863571],\n",
       " [296, 4.172908557296469],\n",
       " [300, 3.6266984717159536],\n",
       " [316, 3.2143305785540868],\n",
       " [318, 4.3009003187595614],\n",
       " [329, 3.3615056721110554],\n",
       " [337, 3.6149081076397258],\n",
       " [339, 3.1050945323067056],\n",
       " [342, 3.4768850226028598],\n",
       " [344, 2.4426839383152568],\n",
       " [349, 3.543987213220841],\n",
       " [356, 3.9408517896933177],\n",
       " [357, 4.1307054034491983],\n",
       " [364, 3.7250966586584231],\n",
       " [367, 3.3208010748478944],\n",
       " [376, 3.8108798722107791],\n",
       " [377, 3.5148239479608638],\n",
       " [380, 3.7556054461072454],\n",
       " [381, 3.487178063272351],\n",
       " [410, 3.2978199503034529],\n",
       " [420, 3.8029923749840173],\n",
       " [434, 2.8646454644707187],\n",
       " [454, 3.5489987630266051],\n",
       " [457, 4.0839079729138339],\n",
       " [468, 3.3163142944543296],\n",
       " [480, 3.8490807870852937],\n",
       " [494, 3.8824955238876102],\n",
       " [497, 4.6117733306445023],\n",
       " [500, 3.529134936349426],\n",
       " [527, 4.2924662264655682],\n",
       " [539, 3.6203641791758652],\n",
       " [543, 3.799701552288298],\n",
       " [552, 3.8364942457949529],\n",
       " [586, 3.2933403765923877],\n",
       " [587, 2.7584631974255132],\n",
       " [588, 3.172586127604875],\n",
       " [589, 4.0208211681858508],\n",
       " [590, 2.9525710499824869],\n",
       " [592, 3.2243560507375641],\n",
       " [593, 4.4703636892629683],\n",
       " [595, 3.0983714138278935],\n",
       " [597, 3.3376908862306038],\n",
       " [605, 4.0143737771267132],\n",
       " [608, 4.5402369752367342],\n",
       " [648, 4.1345774959237875],\n",
       " [708, 3.3217925009800848],\n",
       " [733, 3.9392293368114339],\n",
       " [736, 3.3434796636804291],\n",
       " [745, 3.1974460717459534],\n",
       " [780, 4.0792812497449837],\n",
       " [785, 2.9607381551976544],\n",
       " [802, 3.439720044593868],\n",
       " [805, 3.5525481946349884],\n",
       " [852, 3.0247634451877436],\n",
       " [858, 4.5320377662437066],\n",
       " [912, 4.3347695647857112],\n",
       " [919, 4.1227244921138473],\n",
       " [953, 4.1471228983240609],\n",
       " [1035, 3.5769937522795385],\n",
       " [1059, 3.5109119556510611],\n",
       " [1080, 4.9151036199014602],\n",
       " [1094, 3.7115483334016002],\n",
       " [1101, 3.7550436574504884],\n",
       " [1136, 4.5115187110576676],\n",
       " [1148, 4.4990024111609337],\n",
       " [1193, 4.2728130269168929],\n",
       " [1196, 4.2172815876590022],\n",
       " [1198, 4.5475739923485969],\n",
       " [1204, 4.1419960894546159],\n",
       " [1210, 3.8324436785984073],\n",
       " [1213, 3.8504102066402206],\n",
       " [1220, 3.6385672554612349],\n",
       " [1221, 4.5143875331343866],\n",
       " [1225, 3.6710371337941932],\n",
       " [1230, 3.8148082157471719],\n",
       " [1270, 4.0],\n",
       " [1356, 3.7712744367086293],\n",
       " [1376, 3.6812680649255372],\n",
       " [1597, 3.3956424073875104],\n",
       " [1610, 3.4434227013196947],\n",
       " [1721, 3.8255015977937696],\n",
       " [1784, 3.6404841411792739],\n",
       " [1959, 2.9690218064859613],\n",
       " [1961, 4.1504830545380491],\n",
       " [2006, 3.6422087156434952],\n",
       " [2019, 4.8753950266647363],\n",
       " [2028, 3.7440496257752964],\n",
       " [2278, 4.3770983312499574],\n",
       " [2324, 4.6605770955701491],\n",
       " [2340, 3.8641525928741847],\n",
       " [2353, 3.5457241191855333],\n",
       " [2355, 3.2185327092178482],\n",
       " [2396, 4.4652440049386488],\n",
       " [2470, 3.197918193070759],\n",
       " [2565, 3.0869463036589244],\n",
       " [2571, 4.5325924991830844],\n",
       " [2599, 4.3724017417121352],\n",
       " [2622, 3.5070122365060867],\n",
       " [2683, 3.5652212552558851],\n",
       " [2688, 3.0424798554853507],\n",
       " [2699, 2.7392654426101299],\n",
       " [2701, 2.0369944034946608],\n",
       " [2702, 3.0000000000000004],\n",
       " [2706, 3.3258691751271892],\n",
       " [2710, 3.0356372552306969],\n",
       " [2713, 2.3421410113850252],\n",
       " [2716, 3.8015135029117344],\n",
       " [2719, 2.2753188112653353],\n",
       " [2722, 3.1486081397779873],\n",
       " [2723, 2.6459674883447346],\n",
       " [2762, 3.9103790940584804],\n",
       " [2763, 2.8780489200012145],\n",
       " [2770, 2.4750864605388139],\n",
       " [2791, 3.7874494675642718],\n",
       " [2805, 2.3578864211774966],\n",
       " [2826, 1.9576837176244841],\n",
       " [2858, 4.150679098788042],\n",
       " [2881, 3.4030024633256062],\n",
       " [2918, 4.0],\n",
       " [2959, 4.402990744155785],\n",
       " [2987, 3.515890050660202],\n",
       " [2997, 4.4511908484573155],\n",
       " [3052, 3.0485598250291899],\n",
       " [3081, 3.2368057912691066],\n",
       " [3082, 2.7230485682396002],\n",
       " [3175, 2.6501160666038177],\n",
       " [3301, 4.345810123320561],\n",
       " [3408, 4.1786187427461448],\n",
       " [3578, 4.611429894657971],\n",
       " [3751, 3.2512815851827779],\n",
       " [3793, 2.7208763984656534],\n",
       " [3897, 3.9748605613965138],\n",
       " [3911, 4.4911682542331537],\n",
       " [3948, 4.080043640228701],\n",
       " [3977, 2.4796765812569301],\n",
       " [3996, 3.7724824628369116],\n",
       " [4022, 3.068090791982045],\n",
       " [4027, 3.697130635792663],\n",
       " [4226, 4.2428988527051965],\n",
       " [4306, 3.9537332998201422],\n",
       " [4886, 4.1737675670528569],\n",
       " [4973, 4.1336034593327406],\n",
       " [4993, 4.252990270186829],\n",
       " [4995, 4.2002677061121769],\n",
       " [5349, 3.8652025526591185],\n",
       " [5445, 3.8360087984161129],\n",
       " [5618, 3.8499087449604388],\n",
       " [5952, 4.5675269698115963],\n",
       " [6016, 4.3655637505627949],\n",
       " [6539, 4.3459708068604792],\n",
       " [7153, 4.4508177002727525],\n",
       " [7502, 4.2629878563727468],\n",
       " [44191, 3.2271348952020529],\n",
       " [58559, 4.1052006182194773],\n",
       " [59315, 4.0301952557411642],\n",
       " [64957, 2.5252758154802879],\n",
       " [72998, 3.2898502292392733],\n",
       " [79132, 3.9953728391429588],\n",
       " [89745, 3.4184204250409445],\n",
       " [92259, 4.2263121042608711],\n",
       " [99114, 3.5334328504379786]]"
      ]
     },
     "execution_count": 122,
     "metadata": {},
     "output_type": "execute_result"
    }
   ],
   "source": [
    "## 1번 유저 별점 예측\n",
    "ub.predictRating(1, nn=100)"
   ]
  },
  {
   "cell_type": "code",
   "execution_count": 123,
   "metadata": {
    "collapsed": false
   },
   "outputs": [
    {
     "data": {
      "text/plain": [
       "207"
      ]
     },
     "execution_count": 123,
     "metadata": {},
     "output_type": "execute_result"
    }
   ],
   "source": [
    "## 1번 유저 별점 예측\n",
    "len(ub.predictRating(1, nn=100))"
   ]
  },
  {
   "cell_type": "code",
   "execution_count": null,
   "metadata": {
    "collapsed": true
   },
   "outputs": [],
   "source": [
    "## 1번 유저 별점 예측\n",
    "len(ub.predictRating(1, nn=100))"
   ]
  },
  {
   "cell_type": "code",
   "execution_count": 192,
   "metadata": {
    "collapsed": false
   },
   "outputs": [
    {
     "name": "stdout",
     "output_type": "stream",
     "text": [
      "10 2\n",
      "20 36\n",
      "30 80\n",
      "40 128\n",
      "50 184\n",
      "60 246\n",
      "70 311\n",
      "80 359\n",
      "90 443\n"
     ]
    },
    {
     "data": {
      "text/plain": [
       "5.955229043960571"
      ]
     },
     "execution_count": 192,
     "metadata": {},
     "output_type": "execute_result"
    }
   ],
   "source": [
    "## nn 개수별 별점 예측 개수\n",
    "st = time.time()\n",
    "for n in range(10,100,10):\n",
    "    print(n, len(ub.predictRating(3,nn=n)))\n",
    "time.time()-st"
   ]
  },
  {
   "cell_type": "code",
   "execution_count": 193,
   "metadata": {
    "collapsed": false
   },
   "outputs": [
    {
     "data": {
      "text/plain": [
       "8552"
      ]
     },
     "execution_count": 193,
     "metadata": {},
     "output_type": "execute_result"
    }
   ],
   "source": [
    "ub.UM_matrix_ds.columns.size"
   ]
  },
  {
   "cell_type": "code",
   "execution_count": 194,
   "metadata": {
    "collapsed": false
   },
   "outputs": [
    {
     "name": "stdout",
     "output_type": "stream",
     "text": [
      "cut ratings 90637\n"
     ]
    }
   ],
   "source": [
    "print('cut ratings', ub.cut_movie(5))\n",
    "ub.compute()"
   ]
  },
  {
   "cell_type": "code",
   "execution_count": 195,
   "metadata": {
    "collapsed": false
   },
   "outputs": [
    {
     "data": {
      "text/plain": [
       "3313"
      ]
     },
     "execution_count": 195,
     "metadata": {},
     "output_type": "execute_result"
    }
   ],
   "source": [
    "ub.UM_matrix_ds.columns.size"
   ]
  },
  {
   "cell_type": "code",
   "execution_count": 196,
   "metadata": {
    "collapsed": false
   },
   "outputs": [
    {
     "name": "stdout",
     "output_type": "stream",
     "text": [
      "10 2\n",
      "20 36\n",
      "30 80\n",
      "40 128\n",
      "50 184\n",
      "60 246\n",
      "70 311\n",
      "80 359\n",
      "90 443\n"
     ]
    },
    {
     "data": {
      "text/plain": [
       "5.758426904678345"
      ]
     },
     "execution_count": 196,
     "metadata": {},
     "output_type": "execute_result"
    }
   ],
   "source": [
    "## nn 개수별 별점 예측 개수\n",
    "st = time.time()\n",
    "for n in range(10,100,10):\n",
    "    print(n, len(ub.predictRating(3,nn=n)))\n",
    "time.time()-st"
   ]
  },
  {
   "cell_type": "code",
   "execution_count": 175,
   "metadata": {
    "collapsed": false
   },
   "outputs": [
    {
     "data": {
      "text/plain": [
       "(9.016196966171265, 0.3066260824141603)"
      ]
     },
     "execution_count": 175,
     "metadata": {},
     "output_type": "execute_result"
    }
   ],
   "source": [
    "## pre-clustered nearest_neighbor_user\n",
    "ub.nn_func = ub.clustered_nearest_neighbor_user\n",
    "ub.graph_cut(3)"
   ]
  },
  {
   "cell_type": "code",
   "execution_count": 160,
   "metadata": {
    "collapsed": false
   },
   "outputs": [
    {
     "name": "stdout",
     "output_type": "stream",
     "text": [
      "1 75 1.3762969970703125\n",
      "2 218 0.3569459915161133\n",
      "3 267 0.563269853591919\n",
      "4 161 0.7298669815063477\n",
      "5 914 0.26584601402282715\n",
      "6 693 0.43865013122558594\n",
      "7 252 0.8145508766174316\n",
      "8 129 0.8499939441680908\n",
      "9 176 0.7811188697814941\n",
      "taken 6.180775165557861\n"
     ]
    }
   ],
   "source": [
    "## nn 개수별 별점 예측 개수\n",
    "ub.nn_func = ub.clustered_nearest_neighbor_user\n",
    "st = time.time()\n",
    "for u in range(1,10):\n",
    "    st2=time.time()\n",
    "    print(u, len(ub.predictRating(u,nn=50)), time.time()-st2)\n",
    "print('taken', time.time()-st)"
   ]
  },
  {
   "cell_type": "code",
   "execution_count": 161,
   "metadata": {
    "collapsed": false
   },
   "outputs": [
    {
     "name": "stdout",
     "output_type": "stream",
     "text": [
      "1 79 1.4130451679229736\n",
      "2 203 0.42317700386047363\n",
      "3 184 0.6401231288909912\n",
      "4 122 0.6389970779418945\n",
      "5 630 0.3234999179840088\n",
      "6 597 0.9553661346435547\n",
      "7 172 0.8523831367492676\n",
      "8 127 0.8880388736724854\n",
      "9 128 0.8787670135498047\n",
      "taken 7.0174241065979\n"
     ]
    }
   ],
   "source": [
    "## nn 개수별 별점 예측 개수\n",
    "ub.nn_func = ub.nearest_neighbor_user\n",
    "st = time.time()\n",
    "for u in range(1,10):\n",
    "    st2=time.time()\n",
    "    print(u, len(ub.predictRating(u,nn=50)), time.time()-st2)\n",
    "print('taken', time.time()-st)"
   ]
  },
  {
   "cell_type": "code",
   "execution_count": null,
   "metadata": {
    "collapsed": true
   },
   "outputs": [],
   "source": [
    "ub.UM_matrix_ds"
   ]
  },
  {
   "cell_type": "code",
   "execution_count": 103,
   "metadata": {
    "collapsed": false,
    "scrolled": false
   },
   "outputs": [
    {
     "name": "stdout",
     "output_type": "stream",
     "text": [
      "elapsed 1615.05 sec\n"
     ]
    }
   ],
   "source": [
    "#ub.nearest_neighbor_user(10,20, ub.distance_euclidean)\n",
    "result = ub.evaluation(ub.UM_matrix_ds.index.values.tolist(),ub.RMSE, 50)"
   ]
  },
  {
   "cell_type": "code",
   "execution_count": 116,
   "metadata": {
    "collapsed": false
   },
   "outputs": [
    {
     "data": {
      "text/plain": [
       "0.51365490423561666"
      ]
     },
     "execution_count": 116,
     "metadata": {},
     "output_type": "execute_result"
    }
   ],
   "source": [
    "ub.RMSE(result[2],'rating', 'distance_euclidean')"
   ]
  },
  {
   "cell_type": "code",
   "execution_count": null,
   "metadata": {
    "collapsed": true
   },
   "outputs": [],
   "source": []
  },
  {
   "cell_type": "code",
   "execution_count": null,
   "metadata": {
    "collapsed": true
   },
   "outputs": [],
   "source": []
  }
 ],
 "metadata": {
  "kernelspec": {
   "display_name": "Python 3",
   "language": "python",
   "name": "python3"
  },
  "language_info": {
   "codemirror_mode": {
    "name": "ipython",
    "version": 3
   },
   "file_extension": ".py",
   "mimetype": "text/x-python",
   "name": "python",
   "nbconvert_exporter": "python",
   "pygments_lexer": "ipython3",
   "version": "3.4.3"
  }
 },
 "nbformat": 4,
 "nbformat_minor": 0
}
