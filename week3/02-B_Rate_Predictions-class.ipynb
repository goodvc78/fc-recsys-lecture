{
 "cells": [
  {
   "cell_type": "code",
   "execution_count": 12,
   "metadata": {
    "collapsed": false
   },
   "outputs": [],
   "source": [
    "# coding: utf-8\n",
    "\n",
    "import pandas as pd\n",
    "import numpy as np\n",
    "from matplotlib import rcParams\n",
    "import matplotlib.pyplot as plt\n",
    "from collections import defaultdict\n",
    "from datetime import datetime\n",
    "import matplotlib.patches as mpatches\n",
    "import matplotlib\n",
    "import time\n",
    "import math\n",
    "from operator import itemgetter\n",
    "from scipy.spatial import distance\n",
    "%matplotlib inline  \n",
    "\n",
    "rcParams['font.family'] = 'NanumGothic'\n",
    "rcParams.update({'font.size': 12})\n",
    "matplotlib.style.use('ggplot')\n",
    "pd.options.display.max_rows=14\n"
   ]
  },
  {
   "cell_type": "markdown",
   "metadata": {},
   "source": [
    "## 무비 렌즈 데이터로 별점을 예측해 보자 \n",
    "* User Based 별점 예측 \n",
    "* Item(Movie) Based 별점 예측"
   ]
  },
  {
   "cell_type": "markdown",
   "metadata": {},
   "source": [
    "Movie Lens 데이터 로드 \n",
    "http://grouplens.org/datasets/movielens/"
   ]
  },
  {
   "cell_type": "code",
   "execution_count": 99,
   "metadata": {
    "collapsed": false,
    "scrolled": true
   },
   "outputs": [],
   "source": [
    "class ub_ressys:\n",
    "    home_dir = '/Users/goodvc/Documents/data-analytics/movie-recommendation/'\n",
    "    nn_func = None\n",
    "    sim_func = None\n",
    "    \n",
    "    \n",
    "    def __init__(self, dataname='ml-latest-small'):\n",
    "        self.ds_type = dataname\n",
    "        self.nn_func = self.nearest_neighbor_user\n",
    "        self.sim_func = self.distance_euclidean\n",
    "        self.movieLensDataLoad()\n",
    "    \n",
    "    def movieLensDataLoad(self):\n",
    "        ## user 영화 별점 data \n",
    "        self.ratings = pd.read_csv('{home}/{type}/{name}'.format( home=self.home_dir, type=self.ds_type, name='ratings.csv'))\n",
    "\n",
    "        ## movie meta(타이트,장르) data \n",
    "        self.movies = pd.read_csv('{home}/{type}/{name}'.format( home=self.home_dir, type=self.ds_type, name='movies.csv'))\n",
    "\n",
    "        ## user가 영화에 tag를 기입한 data\n",
    "        self.tags = pd.read_csv('{home}/{type}/{name}'.format( home=self.home_dir, type=self.ds_type, name='tags.csv'))\n",
    "\n",
    "    \n",
    "    def compute(self):\n",
    "        ## 1. U X M vector Matrix를 만든다. \n",
    "        self.UM_matrix_ds = self.ratings.pivot(index='userId', columns='movieId', values='rating')\n",
    "        \n",
    "        ## pre-clustering\n",
    "        #self.graph_cut()\n",
    "    \n",
    "    ## distance functions\n",
    "    def distance_cosine(self, a, b):        return 1-distance.cosine(a,b)\n",
    "    def disance_corr(self, a, b):           return 1-distance.correlation (a,b)\n",
    "    def distance_euclidean(self, a, b):     return 1/(distance.euclidean(a,b)+1)\n",
    "    \n",
    "    ## none-cluster nn functions\n",
    "    def nearest_neighbor_user(self, user, topN, simFunc ) :  \n",
    "        u1 = self.UM_matrix_ds.loc[user].dropna()\n",
    "        ratedIndex = u1.index\n",
    "        nn = {}\n",
    "\n",
    "        ## Brote Force Compute\n",
    "        for uid, row in self.UM_matrix_ds.iterrows():\n",
    "            interSectionU1 = []\n",
    "            interSectionU2 = []\n",
    "            if uid==user:\n",
    "                continue\n",
    "            for i in ratedIndex:\n",
    "                if False==math.isnan(row[i]):\n",
    "                    interSectionU1.append(u1[i])\n",
    "                    interSectionU2.append(row[i])\n",
    "            interSectionLen = len(interSectionU1)\n",
    "\n",
    "\n",
    "        ## At least 3 intersection items\n",
    "            if interSectionLen < 3 :\n",
    "                continue\n",
    "\n",
    "            ## similarity functon\n",
    "            sim = simFunc(interSectionU1,interSectionU2)\n",
    "\n",
    "            if  math.isnan(sim) == False:\n",
    "                nn[uid] = sim\n",
    "\n",
    "        ## top N returned         \n",
    "        return sorted(nn.items(),key=itemgetter(1))[:-(topN+1):-1]\n",
    "\n",
    "    ## rating prediction by user\n",
    "    def predictRating(self, userid, nn=100) :\n",
    "        ## neighboorhood \n",
    "        neighbor = self.nn_func(userid, nn, self.sim_func)\n",
    "        neighbor_id = [id for id,sim in neighbor]\n",
    "\n",
    "        ## neighboorhood's movie : al least 4 ratings\n",
    "        neighbor_movie = self.UM_matrix_ds.loc[neighbor_id]\\\n",
    "                        .dropna(1, how='all', thresh = 4 )\n",
    "        neighbor_dic = (dict(neighbor))\n",
    "        ret = [] # ['movieId', 'predictedRate']\n",
    "\n",
    "        ## rating predict by my similarities \n",
    "        for movieId, row in neighbor_movie.iteritems():\n",
    "            jsum, wsum = 0, 0\n",
    "            for v in row.dropna().iteritems():\n",
    "                sim = neighbor_dic.get(v[0],0)\n",
    "                jsum += sim\n",
    "                wsum += (v[1]*sim)\n",
    "            ret.append([movieId, wsum/jsum])\n",
    "\n",
    "        return ret\n",
    "\n",
    "    \n",
    "    ## evaluation \n",
    "    def evaluation(self, user_list, acc_func, nn=50):\n",
    "        eval_ds = pd.merge(self.ratings, \n",
    "                           self.ratings[['movieId','rating']].groupby(['movieId']).mean().reset_index(), \n",
    "                           on='movieId', how='left')\n",
    "        eval_ds = eval_ds.rename(columns= {'rating_x':'rating', 'rating_y':'mean_rating'})\n",
    "        st = time.time()\n",
    "        name = self.sim_func.__name__\n",
    "        eval_ds[name] = 0\n",
    "        for userId in user_list:\n",
    "            for x in self.predictRating(userId, nn):\n",
    "                eval_ds.loc[(eval_ds.userId==userId) & (eval_ds.movieId==x[0]),name]=x[1]\n",
    "        print('elapsed', round(time.time()-st,2), 'sec')\n",
    "        eval_ds = eval_ds[eval_ds[name]>0]\n",
    "        \n",
    "        nopzn_acc = acc_func(eval_ds, 'rating', 'mean_rating')\n",
    "        pzn_acc = acc_func(eval_ds, 'rating', name)\n",
    "        return (pzn_acc, nopzn_acc, eval_ds)\n",
    "    \n",
    "    def graph_cut(self, threshold=3 ):\n",
    "        grouped = self.ratings.groupby('movieId')\n",
    "        userlink = defaultdict(int)\n",
    "        for name, g in grouped:\n",
    "            users = g['userId'].values\n",
    "            cnt = users.size\n",
    "            if cnt<2:\n",
    "                continue\n",
    "\n",
    "            for n in range(0,cnt):\n",
    "                for m in range(n+1,cnt):\n",
    "                    key = \"{0}:{1}\" if users[n]<users[m] else \"{1}:{0}\"\n",
    "                    key = key.format(users[n], users[m])\n",
    "                    userlink[key] = userlink[key] + 1\n",
    "\n",
    "        self.neighbors = defaultdict(list)\n",
    "        n=0\n",
    "        for k, v in userlink.items():\n",
    "            if (v) > threshold:\n",
    "                nm = k.split(':')\n",
    "                if len(nm) == 2:\n",
    "                    self.neighbors[int(nm[0])].append(int(nm[1]))\n",
    "                    self.neighbors[int(nm[1])].append(int(nm[0]))\n",
    "                    n = n+1\n",
    "        return n\n",
    "\n",
    "    def clustered_nearest_neighbor_user(self, user, topN, simFunc ) :  \n",
    "        u1 = self.UM_matrix_ds.loc[user].dropna()\n",
    "        ratedIndex = u1.index\n",
    "        nn = {}\n",
    "\n",
    "        members = self.neighbors[user]\n",
    "        ## pre-clustered Compute\n",
    "        for uid in members:\n",
    "            interSectionU1 = []\n",
    "            interSectionU2 = []\n",
    "            if uid==user:\n",
    "                continue\n",
    "            row = self.UM_matrix_ds.loc[uid]\n",
    "            for i in ratedIndex:\n",
    "                if False==math.isnan(row[i]):\n",
    "                    interSectionU1.append(u1[i])\n",
    "                    interSectionU2.append(row[i])\n",
    "            interSectionLen = len(interSectionU1)\n",
    "\n",
    "\n",
    "        ## At least 3 intersection items\n",
    "            if interSectionLen < 3 :\n",
    "                continue\n",
    "\n",
    "            ## similarity functon\n",
    "            sim = simFunc(interSectionU1,interSectionU2)\n",
    "\n",
    "            if  math.isnan(sim) == False:\n",
    "                nn[uid] = sim\n",
    "\n",
    "        ## top N returned         \n",
    "        return sorted(nn.items(),key=itemgetter(1))[:-(topN+1):-1]\n",
    "\n",
    "    ## accuracy measure functions\n",
    "    def RMSE(self, X, left_col, right_col):\n",
    "        return(np.sqrt(np.mean((X[left_col] - X[right_col])**2)))\n",
    "    def MAE(self, X, left_col, right_col):\n",
    "        return(np.mean(np.absolute(X[left_col] - X[right_col])) )\n"
   ]
  },
  {
   "cell_type": "code",
   "execution_count": 100,
   "metadata": {
    "collapsed": true
   },
   "outputs": [],
   "source": [
    "ub = ub_ressys()\n",
    "ub.compute()"
   ]
  },
  {
   "cell_type": "code",
   "execution_count": 101,
   "metadata": {
    "collapsed": false,
    "scrolled": false
   },
   "outputs": [
    {
     "name": "stdout",
     "output_type": "stream",
     "text": [
      "elapsed 3.39 sec\n"
     ]
    },
    {
     "data": {
      "text/plain": [
       "(0.50153393424289572,\n",
       " 0.8172412684470779,\n",
       "      userId  movieId  rating   timestamp  mean_rating  distance_euclidean\n",
       " 3         1       50     5.0   980732037     4.368201            4.672419\n",
       " 4         1      110     4.0   980730408     4.037671            4.006801\n",
       " 7         1      260     5.0   980730769     4.196078            4.399413\n",
       " 8         1      296     4.0   980731208     4.137615            4.172790\n",
       " 10        1      318     3.0   980731417     4.442073            4.138711\n",
       " 17        1      457     4.0   980730816     3.998000            4.366333\n",
       " 19        1      480     4.0   980731903     3.601852            4.034469\n",
       " ..      ...      ...     ...         ...          ...                 ...\n",
       " 238       2      736     3.0  1091931476     3.299419            3.373706\n",
       " 240       2      858     4.0  1091931453     4.334135            4.487687\n",
       " 242       2     1101     3.0  1091931402     3.287037            2.973734\n",
       " 254       2     1721     4.0  1091931347     3.270968            4.173308\n",
       " 259       2     2028     4.0  1091931323     3.986631            4.183625\n",
       " 278       2     3996     3.0  1091930933     3.874172            4.000000\n",
       " 281       2     7153     4.5  1091932766     4.117450            4.443461\n",
       " \n",
       " [39 rows x 6 columns])"
      ]
     },
     "execution_count": 101,
     "metadata": {},
     "output_type": "execute_result"
    }
   ],
   "source": [
    "#ub.nearest_neighbor_user(10,20, ub.distance_euclidean)\n",
    "ub.evaluation([1,2],ub.RMSE, 50)"
   ]
  },
  {
   "cell_type": "code",
   "execution_count": 72,
   "metadata": {
    "collapsed": false
   },
   "outputs": [],
   "source": [
    "def movieLensDataLoad(type):\n",
    "    ## user 영화 별점 data \n",
    "    ratings = pd.read_csv(\"/Users/goodvc/Documents/data-analytics/movie-recommendation/\"+type+\"/ratings.csv\")\n",
    "\n",
    "    ## movie meta(타이트,장르) data \n",
    "    movies = pd.read_csv(\"/Users/goodvc/Documents/data-analytics/movie-recommendation/\"+type+\"/movies.csv\")\n",
    "\n",
    "    ## user가 영화에 tag를 기입한 data\n",
    "    tags = pd.read_csv(\"/Users/goodvc/Documents/data-analytics/movie-recommendation/\"+type+\"/tags.csv\")\n",
    "    # tags = pd.read_csv(\"/Users/goodvc/Documents/data-analytics/movie-recommendation/ml-20m/tags.csv\")\n",
    "    return ( ratings, movies, tags )\n",
    "\n",
    "#ratings, movies, tags = movieLensDataLoad('ml-20m')\n",
    "ratings, movies, tags = movieLensDataLoad('ml-latest-small')"
   ]
  },
  {
   "cell_type": "code",
   "execution_count": 4,
   "metadata": {
    "collapsed": false
   },
   "outputs": [
    {
     "data": {
      "text/html": [
       "<div style=\"max-height:1000px;max-width:1500px;overflow:auto;\">\n",
       "<table border=\"1\" class=\"dataframe\">\n",
       "  <thead>\n",
       "    <tr style=\"text-align: right;\">\n",
       "      <th></th>\n",
       "      <th>userId</th>\n",
       "      <th>movieId</th>\n",
       "      <th>rating</th>\n",
       "      <th>timestamp</th>\n",
       "    </tr>\n",
       "  </thead>\n",
       "  <tbody>\n",
       "    <tr>\n",
       "      <th>0</th>\n",
       "      <td> 1</td>\n",
       "      <td>  6</td>\n",
       "      <td> 2</td>\n",
       "      <td> 980730861</td>\n",
       "    </tr>\n",
       "    <tr>\n",
       "      <th>1</th>\n",
       "      <td> 1</td>\n",
       "      <td> 22</td>\n",
       "      <td> 3</td>\n",
       "      <td> 980731380</td>\n",
       "    </tr>\n",
       "  </tbody>\n",
       "</table>\n",
       "</div>"
      ],
      "text/plain": [
       "   userId  movieId  rating  timestamp\n",
       "0       1        6       2  980730861\n",
       "1       1       22       3  980731380"
      ]
     },
     "execution_count": 4,
     "metadata": {},
     "output_type": "execute_result"
    }
   ],
   "source": [
    "#ratings = pd.read_csv(\"movieLens/ml-latest-small/ratings.csv\")\n",
    "ratings.head(2)"
   ]
  },
  {
   "cell_type": "code",
   "execution_count": 5,
   "metadata": {
    "collapsed": false
   },
   "outputs": [
    {
     "data": {
      "text/html": [
       "<div style=\"max-height:1000px;max-width:1500px;overflow:auto;\">\n",
       "<table border=\"1\" class=\"dataframe\">\n",
       "  <thead>\n",
       "    <tr style=\"text-align: right;\">\n",
       "      <th></th>\n",
       "      <th>movieId</th>\n",
       "      <th>title</th>\n",
       "      <th>genres</th>\n",
       "    </tr>\n",
       "  </thead>\n",
       "  <tbody>\n",
       "    <tr>\n",
       "      <th>0</th>\n",
       "      <td> 1</td>\n",
       "      <td> Toy Story (1995)</td>\n",
       "      <td> Adventure|Animation|Children|Comedy|Fantasy</td>\n",
       "    </tr>\n",
       "    <tr>\n",
       "      <th>1</th>\n",
       "      <td> 2</td>\n",
       "      <td>   Jumanji (1995)</td>\n",
       "      <td>                  Adventure|Children|Fantasy</td>\n",
       "    </tr>\n",
       "  </tbody>\n",
       "</table>\n",
       "</div>"
      ],
      "text/plain": [
       "   movieId             title                                       genres\n",
       "0        1  Toy Story (1995)  Adventure|Animation|Children|Comedy|Fantasy\n",
       "1        2    Jumanji (1995)                   Adventure|Children|Fantasy"
      ]
     },
     "execution_count": 5,
     "metadata": {},
     "output_type": "execute_result"
    }
   ],
   "source": [
    "movies.head(2)"
   ]
  },
  {
   "cell_type": "code",
   "execution_count": 7,
   "metadata": {
    "collapsed": false
   },
   "outputs": [
    {
     "data": {
      "text/html": [
       "<div style=\"max-height:1000px;max-width:1500px;overflow:auto;\">\n",
       "<table border=\"1\" class=\"dataframe\">\n",
       "  <thead>\n",
       "    <tr style=\"text-align: right;\">\n",
       "      <th></th>\n",
       "      <th>userId</th>\n",
       "      <th>movieId</th>\n",
       "      <th>tag</th>\n",
       "      <th>timestamp</th>\n",
       "    </tr>\n",
       "  </thead>\n",
       "  <tbody>\n",
       "    <tr>\n",
       "      <th>0</th>\n",
       "      <td> 40</td>\n",
       "      <td> 1</td>\n",
       "      <td> animation</td>\n",
       "      <td> 1306926135</td>\n",
       "    </tr>\n",
       "    <tr>\n",
       "      <th>1</th>\n",
       "      <td> 40</td>\n",
       "      <td> 1</td>\n",
       "      <td>   fantasy</td>\n",
       "      <td> 1306926130</td>\n",
       "    </tr>\n",
       "  </tbody>\n",
       "</table>\n",
       "</div>"
      ],
      "text/plain": [
       "   userId  movieId        tag   timestamp\n",
       "0      40        1  animation  1306926135\n",
       "1      40        1    fantasy  1306926130"
      ]
     },
     "execution_count": 7,
     "metadata": {},
     "output_type": "execute_result"
    }
   ],
   "source": [
    "tags.head(2)"
   ]
  },
  {
   "cell_type": "markdown",
   "metadata": {},
   "source": [
    "### User Based 별점 예측 \n",
    "\n",
    "U(User) \n",
    "M(Movie)\n",
    "\n",
    "1. U X M vector Matrix를 만든다. \n",
    " key가 userid, value가 { 'movieId':rating } \n",
    "2. 나와 비슷한 유저를 찾는다. "
   ]
  },
  {
   "cell_type": "code",
   "execution_count": 91,
   "metadata": {
    "collapsed": false
   },
   "outputs": [
    {
     "name": "stdout",
     "output_type": "stream",
     "text": [
      "before filtering  6037712\n"
     ]
    }
   ],
   "source": [
    "## 1. U X M vector Matrix를 만든다. \n",
    "UM_matrix_ds = ratings.pivot(index='userId', columns='movieId', values='rating')\n",
    "print('before filtering ', UM_matrix_ds.size)"
   ]
  },
  {
   "cell_type": "code",
   "execution_count": 90,
   "metadata": {
    "collapsed": false
   },
   "outputs": [],
   "source": [
    "## filtering movies\n",
    "## 5개 이하 \n",
    "movie_rating_count = ratings.groupby(['movieId'])['rating'].count()\n",
    "except_list = movie_rating_count[movie_rating_count<5].index\n",
    "filtered_ratings = ratings[(~ratings['movieId'].isin(except_list))]"
   ]
  },
  {
   "cell_type": "code",
   "execution_count": 106,
   "metadata": {
    "collapsed": false
   },
   "outputs": [
    {
     "name": "stdout",
     "output_type": "stream",
     "text": [
      "after filtering  2338978\n"
     ]
    }
   ],
   "source": [
    "## 1. U X M vector Matrix를 만든다. \n",
    "UM_matrix_ds = filtered_ratings.pivot(index='userId', columns='movieId', values='rating')\n",
    "print('after filtering ', UM_matrix_ds.size)"
   ]
  },
  {
   "cell_type": "code",
   "execution_count": 105,
   "metadata": {
    "collapsed": false
   },
   "outputs": [
    {
     "data": {
      "text/plain": [
       "6037712"
      ]
     },
     "execution_count": 105,
     "metadata": {},
     "output_type": "execute_result"
    }
   ],
   "source": [
    "UM_matrix_ds.size"
   ]
  },
  {
   "cell_type": "code",
   "execution_count": 54,
   "metadata": {
    "collapsed": true
   },
   "outputs": [],
   "source": [
    "## 그럼 이제 최근접 이웃을 찾차 보자\n",
    "## \n",
    "\n",
    "\n",
    "def distance_cosine(a,b):\n",
    "    return 1-distance.cosine(a,b)\n",
    "\n",
    "def disance_corr(a,b):\n",
    "    return 1-distance.correlation (a,b)\n",
    "\n",
    "def distance_euclidean(a,b):\n",
    "    return 1/(distance.euclidean(a,b)+1)"
   ]
  },
  {
   "cell_type": "markdown",
   "metadata": {},
   "source": [
    "## None-Clustered"
   ]
  },
  {
   "cell_type": "code",
   "execution_count": 128,
   "metadata": {
    "collapsed": false
   },
   "outputs": [],
   "source": [
    "def nearest_neighbor_user( user, topN, simFunc ) :  \n",
    "    u1 = UM_matrix_ds.loc[user].dropna()\n",
    "    ratedIndex = u1.index\n",
    "    nn = {}\n",
    "    \n",
    "    ## Brote Force Compute\n",
    "    for uid, row in UM_matrix_ds.iterrows():\n",
    "        interSectionU1 = []\n",
    "        interSectionU2 = []\n",
    "        if uid==user:\n",
    "            continue\n",
    "        for i in ratedIndex:\n",
    "            if False==math.isnan(row[i]):\n",
    "                interSectionU1.append(u1[i])\n",
    "                interSectionU2.append(row[i])\n",
    "        interSectionLen = len(interSectionU1)\n",
    "        \n",
    "       \n",
    "    ## At least 3 intersection items\n",
    "        if interSectionLen < 3 :\n",
    "            continue\n",
    "            \n",
    "        ## similarity functon\n",
    "        sim = simFunc(interSectionU1,interSectionU2)\n",
    "        \n",
    "        if  math.isnan(sim) == False:\n",
    "            nn[uid] = sim\n",
    "            \n",
    "    ## top N returned         \n",
    "    return sorted(nn.items(),key=itemgetter(1))[:-(topN+1):-1]"
   ]
  },
  {
   "cell_type": "markdown",
   "metadata": {},
   "source": [
    "### Pre-Clustered"
   ]
  },
  {
   "cell_type": "code",
   "execution_count": 145,
   "metadata": {
    "collapsed": false
   },
   "outputs": [],
   "source": [
    "def graph_cut( ds, threshold=3 ):\n",
    "    grouped = ds.groupby('movieId')\n",
    "    userlink = defaultdict(int)\n",
    "    for name, g in grouped:\n",
    "        users = g['userId'].values\n",
    "        cnt = users.size\n",
    "        if cnt<2:\n",
    "            continue\n",
    "\n",
    "        for n in range(0,cnt):\n",
    "            for m in range(n+1,cnt):\n",
    "                key = \"{0}:{1}\" if users[n]<users[m] else \"{1}:{0}\"\n",
    "                key = key.format(users[n], users[m])\n",
    "                userlink[key] = userlink[key] + 1\n",
    "                \n",
    "    neighbors = defaultdict(list)\n",
    "    n=0\n",
    "    for k, v in userlink.items():\n",
    "        if (v) > threshold:\n",
    "            nm = k.split(':')\n",
    "            if len(nm) == 2:\n",
    "                neighbors[int(nm[0])].append(int(nm[1]))\n",
    "                neighbors[int(nm[1])].append(int(nm[0]))\n",
    "                n = n+1\n",
    "                \n",
    "    #print(\"user link수 : \", n)\n",
    "    return neighbors\n",
    "\n",
    "neighbors = graph_cut(ratings)\n",
    "\n",
    "\n",
    "def clustered_nearest_neighbor_user( user, topN, simFunc ) :  \n",
    "    u1 = UM_matrix_ds.loc[user].dropna()\n",
    "    ratedIndex = u1.index\n",
    "    nn = {}\n",
    "    \n",
    "    members = neighbors[user]\n",
    "    ## pre-clustered Compute\n",
    "    for uid in members:\n",
    "        interSectionU1 = []\n",
    "        interSectionU2 = []\n",
    "        if uid==user:\n",
    "            continue\n",
    "        row = UM_matrix_ds.loc[uid]\n",
    "        for i in ratedIndex:\n",
    "            if False==math.isnan(row[i]):\n",
    "                interSectionU1.append(u1[i])\n",
    "                interSectionU2.append(row[i])\n",
    "        interSectionLen = len(interSectionU1)\n",
    "        \n",
    "       \n",
    "    ## At least 3 intersection items\n",
    "        if interSectionLen < 3 :\n",
    "            continue\n",
    "            \n",
    "        ## similarity functon\n",
    "        sim = simFunc(interSectionU1,interSectionU2)\n",
    "        \n",
    "        if  math.isnan(sim) == False:\n",
    "            nn[uid] = sim\n",
    "            \n",
    "    ## top N returned         \n",
    "    return sorted(nn.items(),key=itemgetter(1))[:-(topN+1):-1]"
   ]
  },
  {
   "cell_type": "code",
   "execution_count": 113,
   "metadata": {
    "collapsed": false,
    "scrolled": true
   },
   "outputs": [
    {
     "data": {
      "text/plain": [
       "movieId\n",
       "1           4\n",
       "2         NaN\n",
       "3         NaN\n",
       "4         NaN\n",
       "5         NaN\n",
       "...\n",
       "111759    NaN\n",
       "112556    NaN\n",
       "112623    NaN\n",
       "112852    NaN\n",
       "115617    NaN\n",
       "Name: 10, Length: 3313, dtype: float64"
      ]
     },
     "execution_count": 113,
     "metadata": {},
     "output_type": "execute_result"
    }
   ],
   "source": [
    "UM_matrix_ds.loc[10]"
   ]
  },
  {
   "cell_type": "code",
   "execution_count": 141,
   "metadata": {
    "collapsed": false,
    "scrolled": false
   },
   "outputs": [
    {
     "name": "stdout",
     "output_type": "stream",
     "text": [
      "[(321, 1.0000000000000002), (336, 0.99999999999999989), (498, 0.99999999999999978), (105, 0.99963038254143022), (308, 0.99902486568714022), (183, 0.9989706289089969), (675, 0.99864916181932428), (630, 0.99863230431688021), (138, 0.99841721431714503), (290, 0.99840382978858955), (18, 0.99840382978858955), (244, 0.99822164389532697), (449, 0.99781579644559826), (26, 0.99627250721874983), (6, 0.99591000331047874), (574, 0.99540661581406098), (60, 0.99530644559096504), (260, 0.99524079127088427), (306, 0.99522750237829727), (515, 0.99502588831258199), (325, 0.99498743710661985), (685, 0.9949366763261821), (195, 0.9949366763261821), (127, 0.99493667632618188), (13, 0.99487339879682413), (430, 0.99484975116710983), (472, 0.99453584235718751), (57, 0.99444002464459091), (681, 0.99413484677243424), (217, 0.99413484677243413), (450, 0.99406708268692501), (35, 0.99399908854796626), (577, 0.99388373467361879), (56, 0.99385869319577624), (186, 0.99380892501375828), (690, 0.99349392130816161), (348, 0.99344607497167814), (551, 0.99336326137358022), (519, 0.9929145645409454), (363, 0.9929145645409454), (659, 0.99278096027659557), (388, 0.99257315357683584), (316, 0.99230222728434203), (695, 0.99224263894747755), (546, 0.9920605023176795), (194, 0.99185997577419183), (517, 0.99183659813417568), (34, 0.99183659813417568), (460, 0.99165145378584574), (670, 0.99150963762732347)]\n",
      "0.40846920013427734 sec\n",
      "434\n",
      "[(321, 1.0000000000000002), (336, 0.99999999999999989), (498, 0.99999999999999978), (675, 0.99864916181932428), (138, 0.99841721431714503), (574, 0.99540661581406098), (60, 0.99530644559096504), (260, 0.99524079127088427), (306, 0.99522750237829727), (515, 0.99502588831258199), (127, 0.99493667632618188), (13, 0.99487339879682413), (430, 0.99484975116710983), (57, 0.99444002464459091), (450, 0.99406708268692501), (35, 0.99399908854796626), (56, 0.99385869319577624), (186, 0.99380892501375828), (690, 0.99349392130816161), (348, 0.99344607497167814), (551, 0.99336326137358022), (388, 0.99257315357683584), (316, 0.99230222728434203), (695, 0.99224263894747755), (546, 0.9920605023176795), (194, 0.99185997577419183), (460, 0.99165145378584574), (670, 0.99150963762732347), (19, 0.99127069305617288), (14, 0.9910871271006787), (97, 0.99029521383735575), (452, 0.99025867574990678), (263, 0.98980131521742731), (347, 0.98954555216023266), (693, 0.98876404494382042), (285, 0.98817669840848865), (30, 0.98812609967275389), (537, 0.98780597678343185), (440, 0.98758459076604543), (67, 0.98721747856198794), (486, 0.98692053030453253), (3, 0.98690167244024041), (37, 0.98628998357806097), (541, 0.98602514396176066), (683, 0.98591396499764272), (468, 0.98553136517258011), (660, 0.98541625607664562), (175, 0.98518759360570241), (163, 0.98499493869415189), (528, 0.98480266356403445)]\n",
      "0.30191707611083984 sec\n"
     ]
    }
   ],
   "source": [
    "st=time.time()\n",
    "print(nearest_neighbor_user(2,50,distance_cosine))\n",
    "print(time.time()-st, 'sec')\n",
    "\n",
    "st=time.time()\n",
    "print(clustered_nearest_neighbor_user(2,50,distance_cosine))\n",
    "print(time.time()-st, 'sec')"
   ]
  },
  {
   "cell_type": "code",
   "execution_count": 136,
   "metadata": {
    "collapsed": false
   },
   "outputs": [],
   "source": [
    "def predictRating(userid, nn=100, simFunc=distance_euclidean, nnFunc=nearest_neighbor_user) :\n",
    "   \n",
    "    ## neighboorhood \n",
    "    neighbor = nnFunc(userid,nn,simFunc)\n",
    "    neighbor_id = [id for id,sim in neighbor]\n",
    "    \n",
    "    ## neighboorhood's movie : al least 4 ratings\n",
    "    neighbor_movie = UM_matrix_ds.loc[neighbor_id]\\\n",
    "                    .dropna(1, how='all', thresh = 4 )\n",
    "    neighbor_dic = (dict(neighbor))\n",
    "    ret = [] # ['movieId', 'predictedRate']\n",
    "    \n",
    "    ## rating predict by my similarities \n",
    "    for movieId, row in neighbor_movie.iteritems():\n",
    "        jsum, wsum = 0, 0\n",
    "        for v in row.dropna().iteritems():\n",
    "            sim = neighbor_dic.get(v[0],0)\n",
    "            jsum += sim\n",
    "            wsum += (v[1]*sim)\n",
    "        ret.append([movieId, wsum/jsum])\n",
    "       \n",
    "    return ret"
   ]
  },
  {
   "cell_type": "code",
   "execution_count": 147,
   "metadata": {
    "collapsed": false
   },
   "outputs": [
    {
     "name": "stdout",
     "output_type": "stream",
     "text": [
      "none-clustered 0.7305190563201904\n",
      "pre-clustered  0.5011839866638184\n"
     ]
    }
   ],
   "source": [
    "\n",
    "st=time.time()\n",
    "(predictRating(3,20,distance_euclidean, nearest_neighbor_user))\n",
    "print('none-clustered', time.time()-st)\n",
    "\n",
    "st=time.time()\n",
    "(predictRating(3,20,distance_euclidean, clustered_nearest_neighbor_user))\n",
    "print('pre-clustered ',time.time()-st)"
   ]
  },
  {
   "cell_type": "code",
   "execution_count": 148,
   "metadata": {
    "collapsed": false
   },
   "outputs": [],
   "source": [
    "## user의 별점 매긴 영화와 영화 정보 높은 별점순으로 보기 \n",
    "def ratingMovies(userid):\n",
    "    ds = pd.merge(ratings[ratings.userId==userid], movies, on=['movieId'])\n",
    "    return ds.sort(['rating'],ascending=False)[['rating','title','genres','movieId']].head(100)\n",
    "\n",
    "def join_movie_info( predicted_result ):\n",
    "    predicted_ratings = pd.DataFrame(predicted_result, columns=['movieId', 'predicted_rating'])\n",
    "    result_ds = pd.merge( movies[movies.movieId > 0], predicted_ratings, on=['movieId'])\n",
    "    return result_ds.sort(['predicted_rating'], ascending=False)\n",
    "\n",
    "#result = predictRating(1);\n",
    "#join_movie_info(result)"
   ]
  },
  {
   "cell_type": "code",
   "execution_count": 71,
   "metadata": {
    "collapsed": false
   },
   "outputs": [],
   "source": [
    "ub = ub_ressys()\n",
    "ub.compute()\n",
    "eval_ratings = ub.ratings\n",
    "## evaluation\n",
    "eval_ds = pd.merge(eval_ratings, \n",
    "                   ub.ratings[['movieId','rating']].groupby(['movieId']).mean().reset_index(), \n",
    "                   on='movieId', how='left')\n",
    "\n",
    "eval_ds = eval_ds.rename(columns= {'rating_x':'rating', 'rating_y':'mean_rating'})"
   ]
  },
  {
   "cell_type": "code",
   "execution_count": 88,
   "metadata": {
    "collapsed": false
   },
   "outputs": [],
   "source": [
    "\n",
    "# ratings['userId'].drop_duplicates().values[:]\n",
    "def eval_prediction( predict_users, eval_ds, n_users=50 ):\n",
    "    st = time.time()\n",
    "    ## udpate to predict_rating \n",
    "    distance_functions = [ ('euclidean',ub.distance_euclidean), ('cosine', ub.distance_cosine) ]\n",
    "    for name, func in distance_functions:\n",
    "        eval_ds[name] = 0\n",
    "        for userId in predict_users:\n",
    "            ub.sim_func = func\n",
    "            for x in ub.predictRating(userId, n_users):\n",
    "                eval_ds.loc[(eval_ds.userId==userId) & (eval_ds.movieId==x[0]),name]=x[1]\n",
    "    print('elapsed', round(time.time()-st,2), 'sec')\n",
    "    return eval_ds[eval_ds.euclidean+eval_ds.cosine>0]\n",
    "\n"
   ]
  },
  {
   "cell_type": "code",
   "execution_count": null,
   "metadata": {
    "collapsed": true
   },
   "outputs": [],
   "source": [
    "    "
   ]
  },
  {
   "cell_type": "code",
   "execution_count": 85,
   "metadata": {
    "collapsed": false
   },
   "outputs": [],
   "source": [
    "## 전체 userId list \n",
    "users = ub.UM_matrix_ds.index.tolist()"
   ]
  },
  {
   "cell_type": "code",
   "execution_count": 86,
   "metadata": {
    "collapsed": false
   },
   "outputs": [
    {
     "name": "stdout",
     "output_type": "stream",
     "text": [
      "elapsed 11.27 sec\n"
     ]
    }
   ],
   "source": [
    "## 10명 별점 예측\n",
    "predicted = eval_prediction( users[:2], eval_ds, 100 )"
   ]
  },
  {
   "cell_type": "code",
   "execution_count": 87,
   "metadata": {
    "collapsed": false,
    "scrolled": false
   },
   "outputs": [
    {
     "data": {
      "text/html": [
       "<div style=\"max-height:1000px;max-width:1500px;overflow:auto;\">\n",
       "<table border=\"1\" class=\"dataframe\">\n",
       "  <thead>\n",
       "    <tr style=\"text-align: right;\">\n",
       "      <th></th>\n",
       "      <th>userId</th>\n",
       "      <th>movieId</th>\n",
       "      <th>rating</th>\n",
       "      <th>timestamp</th>\n",
       "      <th>mean_rating</th>\n",
       "      <th>euclidean</th>\n",
       "      <th>cosine</th>\n",
       "    </tr>\n",
       "  </thead>\n",
       "  <tbody>\n",
       "    <tr>\n",
       "      <th>0     </th>\n",
       "      <td>   1</td>\n",
       "      <td>    6</td>\n",
       "      <td> 2</td>\n",
       "      <td> 980730861</td>\n",
       "      <td> 3.980916</td>\n",
       "      <td> 0.000000</td>\n",
       "      <td> 3.424746</td>\n",
       "    </tr>\n",
       "    <tr>\n",
       "      <th>1     </th>\n",
       "      <td>   1</td>\n",
       "      <td>   22</td>\n",
       "      <td> 3</td>\n",
       "      <td> 980731380</td>\n",
       "      <td> 3.404762</td>\n",
       "      <td> 0.000000</td>\n",
       "      <td> 3.200152</td>\n",
       "    </tr>\n",
       "    <tr>\n",
       "      <th>2     </th>\n",
       "      <td>   1</td>\n",
       "      <td>   32</td>\n",
       "      <td> 2</td>\n",
       "      <td> 980731926</td>\n",
       "      <td> 3.840909</td>\n",
       "      <td> 0.000000</td>\n",
       "      <td> 3.597537</td>\n",
       "    </tr>\n",
       "    <tr>\n",
       "      <th>3     </th>\n",
       "      <td>   1</td>\n",
       "      <td>   50</td>\n",
       "      <td> 5</td>\n",
       "      <td> 980732037</td>\n",
       "      <td> 4.368201</td>\n",
       "      <td> 4.629133</td>\n",
       "      <td> 4.658856</td>\n",
       "    </tr>\n",
       "    <tr>\n",
       "      <th>4     </th>\n",
       "      <td>   1</td>\n",
       "      <td>  110</td>\n",
       "      <td> 4</td>\n",
       "      <td> 980730408</td>\n",
       "      <td> 4.037671</td>\n",
       "      <td> 4.044677</td>\n",
       "      <td> 4.215555</td>\n",
       "    </tr>\n",
       "    <tr>\n",
       "      <th>5     </th>\n",
       "      <td>   1</td>\n",
       "      <td>  164</td>\n",
       "      <td> 3</td>\n",
       "      <td> 980731766</td>\n",
       "      <td> 3.391304</td>\n",
       "      <td> 0.000000</td>\n",
       "      <td> 0.000000</td>\n",
       "    </tr>\n",
       "    <tr>\n",
       "      <th>6     </th>\n",
       "      <td>   1</td>\n",
       "      <td>  198</td>\n",
       "      <td> 3</td>\n",
       "      <td> 980731282</td>\n",
       "      <td> 3.241071</td>\n",
       "      <td> 0.000000</td>\n",
       "      <td> 3.798858</td>\n",
       "    </tr>\n",
       "    <tr>\n",
       "      <th>...</th>\n",
       "      <td>...</td>\n",
       "      <td>...</td>\n",
       "      <td>...</td>\n",
       "      <td>...</td>\n",
       "      <td>...</td>\n",
       "      <td>...</td>\n",
       "      <td>...</td>\n",
       "    </tr>\n",
       "    <tr>\n",
       "      <th>100016</th>\n",
       "      <td> 706</td>\n",
       "      <td>  733</td>\n",
       "      <td> 3</td>\n",
       "      <td> 850465093</td>\n",
       "      <td> 3.719355</td>\n",
       "      <td> 0.000000</td>\n",
       "      <td> 0.000000</td>\n",
       "    </tr>\n",
       "    <tr>\n",
       "      <th>100017</th>\n",
       "      <td> 706</td>\n",
       "      <td>  778</td>\n",
       "      <td> 5</td>\n",
       "      <td> 841429452</td>\n",
       "      <td> 3.961538</td>\n",
       "      <td> 0.000000</td>\n",
       "      <td> 0.000000</td>\n",
       "    </tr>\n",
       "    <tr>\n",
       "      <th>100018</th>\n",
       "      <td> 706</td>\n",
       "      <td> 1023</td>\n",
       "      <td> 4</td>\n",
       "      <td> 841429779</td>\n",
       "      <td> 3.382353</td>\n",
       "      <td> 0.000000</td>\n",
       "      <td> 0.000000</td>\n",
       "    </tr>\n",
       "    <tr>\n",
       "      <th>100019</th>\n",
       "      <td> 706</td>\n",
       "      <td> 1073</td>\n",
       "      <td> 3</td>\n",
       "      <td> 852915721</td>\n",
       "      <td> 3.689286</td>\n",
       "      <td> 0.000000</td>\n",
       "      <td> 0.000000</td>\n",
       "    </tr>\n",
       "    <tr>\n",
       "      <th>100020</th>\n",
       "      <td> 706</td>\n",
       "      <td> 1150</td>\n",
       "      <td> 3</td>\n",
       "      <td> 847647519</td>\n",
       "      <td> 3.545455</td>\n",
       "      <td> 0.000000</td>\n",
       "      <td> 0.000000</td>\n",
       "    </tr>\n",
       "    <tr>\n",
       "      <th>100021</th>\n",
       "      <td> 706</td>\n",
       "      <td> 1183</td>\n",
       "      <td> 4</td>\n",
       "      <td> 850465137</td>\n",
       "      <td> 3.708861</td>\n",
       "      <td> 0.000000</td>\n",
       "      <td> 0.000000</td>\n",
       "    </tr>\n",
       "    <tr>\n",
       "      <th>100022</th>\n",
       "      <td> 706</td>\n",
       "      <td> 1356</td>\n",
       "      <td> 4</td>\n",
       "      <td> 852915765</td>\n",
       "      <td> 3.650000</td>\n",
       "      <td> 0.000000</td>\n",
       "      <td> 0.000000</td>\n",
       "    </tr>\n",
       "  </tbody>\n",
       "</table>\n",
       "<p>100023 rows × 7 columns</p>\n",
       "</div>"
      ],
      "text/plain": [
       "        userId  movieId  rating  timestamp  mean_rating  euclidean    cosine\n",
       "0            1        6       2  980730861     3.980916   0.000000  3.424746\n",
       "1            1       22       3  980731380     3.404762   0.000000  3.200152\n",
       "2            1       32       2  980731926     3.840909   0.000000  3.597537\n",
       "3            1       50       5  980732037     4.368201   4.629133  4.658856\n",
       "4            1      110       4  980730408     4.037671   4.044677  4.215555\n",
       "5            1      164       3  980731766     3.391304   0.000000  0.000000\n",
       "6            1      198       3  980731282     3.241071   0.000000  3.798858\n",
       "...        ...      ...     ...        ...          ...        ...       ...\n",
       "100016     706      733       3  850465093     3.719355   0.000000  0.000000\n",
       "100017     706      778       5  841429452     3.961538   0.000000  0.000000\n",
       "100018     706     1023       4  841429779     3.382353   0.000000  0.000000\n",
       "100019     706     1073       3  852915721     3.689286   0.000000  0.000000\n",
       "100020     706     1150       3  847647519     3.545455   0.000000  0.000000\n",
       "100021     706     1183       4  850465137     3.708861   0.000000  0.000000\n",
       "100022     706     1356       4  852915765     3.650000   0.000000  0.000000\n",
       "\n",
       "[100023 rows x 7 columns]"
      ]
     },
     "execution_count": 87,
     "metadata": {},
     "output_type": "execute_result"
    }
   ],
   "source": [
    "eval_ds[eval_ds.cosine > 0]"
   ]
  },
  {
   "cell_type": "code",
   "execution_count": 154,
   "metadata": {
    "collapsed": false
   },
   "outputs": [
    {
     "name": "stdout",
     "output_type": "stream",
     "text": [
      "MAE of mean_rating is 0.7055168840093711 \n",
      "MAE of cosine is 0.4668451233624063 \n",
      "MAE of euclidean is 0.3201190065462332 \n",
      "RMSE of mean_rating is 0.920840633867146 \n",
      "RMSE of cosine is 0.5725593201793068 \n",
      "RMSE of euclidean is 0.4018427374962063 \n"
     ]
    }
   ],
   "source": [
    "def RMSE(X, left_col, right_col):\n",
    "    return(np.sqrt(np.mean((X[left_col] - X[right_col])**2)))\n",
    "\n",
    "def MAE(X, left_col, right_col):\n",
    "    return(np.mean(np.absolute(X[left_col] - X[right_col])) )\n",
    "\n",
    "\n",
    "for name in ['mean_rating', 'cosine', 'euclidean']:\n",
    "    print (\"MAE of {0} is {1} \".format(name, MAE( eval_ds[eval_ds[name] > 0], 'rating', name )))\n",
    "\n",
    "for name in ['mean_rating', 'cosine', 'euclidean']:\n",
    "    print (\"RMSE of {0} is {1} \".format(name, RMSE( eval_ds[eval_ds[name] > 0], 'rating', name )))\n"
   ]
  },
  {
   "cell_type": "code",
   "execution_count": null,
   "metadata": {
    "collapsed": true
   },
   "outputs": [],
   "source": []
  }
 ],
 "metadata": {
  "kernelspec": {
   "display_name": "Python 3",
   "language": "python",
   "name": "python3"
  },
  "language_info": {
   "codemirror_mode": {
    "name": "ipython",
    "version": 3
   },
   "file_extension": ".py",
   "mimetype": "text/x-python",
   "name": "python",
   "nbconvert_exporter": "python",
   "pygments_lexer": "ipython3",
   "version": "3.4.3"
  }
 },
 "nbformat": 4,
 "nbformat_minor": 0
}
