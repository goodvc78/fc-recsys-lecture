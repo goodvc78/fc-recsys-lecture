{
 "cells": [
  {
   "cell_type": "markdown",
   "metadata": {
    "slideshow": {
     "slide_type": "slide"
    }
   },
   "source": [
    "## Pandas Introductions "
   ]
  },
  {
   "cell_type": "markdown",
   "metadata": {},
   "source": [
    "### 셀실행"
   ]
  },
  {
   "cell_type": "code",
   "execution_count": 47,
   "metadata": {
    "collapsed": false,
    "slideshow": {
     "slide_type": "slide"
    }
   },
   "outputs": [],
   "source": [
    "import pandas as pd\n",
    "import numpy as np"
   ]
  },
  {
   "cell_type": "code",
   "execution_count": 48,
   "metadata": {
    "collapsed": false
   },
   "outputs": [
    {
     "data": {
      "text/plain": [
       "0    2.595505\n",
       "1   -0.341438\n",
       "2    0.058165\n",
       "3   -0.890133\n",
       "4   -1.435739\n",
       "dtype: float64"
      ]
     },
     "execution_count": 48,
     "metadata": {},
     "output_type": "execute_result"
    }
   ],
   "source": [
    "# Series 객체\n",
    "pd.Series(np.random.randn(5))"
   ]
  },
  {
   "cell_type": "markdown",
   "metadata": {},
   "source": [
    "### csv file read"
   ]
  },
  {
   "cell_type": "code",
   "execution_count": 49,
   "metadata": {
    "collapsed": false,
    "slideshow": {
     "slide_type": "slide"
    }
   },
   "outputs": [
    {
     "name": "stdout",
     "output_type": "stream",
     "text": [
      "day,time,zone,title,session_id\r\n",
      "Day1,10:00,T1,네이버 효과툰은 어떻게 만들어졌나?,115\r\n",
      "Day1,10:00,T2,실전 스위프트 프로그래밍,95\r\n",
      "Day1,10:00,T3,Developing Android Libraries: Lessons from Realim,119\r\n",
      "Day1,10:00,T4,DRC-HUBO: Technical Review,114\r\n"
     ]
    }
   ],
   "source": [
    "!head -n 5 './data/deview2015_session_info.csv'"
   ]
  },
  {
   "cell_type": "code",
   "execution_count": 50,
   "metadata": {
    "collapsed": false
   },
   "outputs": [
    {
     "data": {
      "text/html": [
       "<div style=\"max-height:1000px;max-width:1500px;overflow:auto;\">\n",
       "<table border=\"1\" class=\"dataframe\">\n",
       "  <thead>\n",
       "    <tr style=\"text-align: right;\">\n",
       "      <th></th>\n",
       "      <th>day</th>\n",
       "      <th>time</th>\n",
       "      <th>zone</th>\n",
       "      <th>title</th>\n",
       "      <th>session_id</th>\n",
       "    </tr>\n",
       "  </thead>\n",
       "  <tbody>\n",
       "    <tr>\n",
       "      <th>0</th>\n",
       "      <td> Day1</td>\n",
       "      <td> 10:00</td>\n",
       "      <td> T1</td>\n",
       "      <td>                               네이버 효과툰은 어떻게 만들어졌나?</td>\n",
       "      <td> 115</td>\n",
       "    </tr>\n",
       "    <tr>\n",
       "      <th>1</th>\n",
       "      <td> Day1</td>\n",
       "      <td> 10:00</td>\n",
       "      <td> T2</td>\n",
       "      <td>                                     실전 스위프트 프로그래밍</td>\n",
       "      <td>  95</td>\n",
       "    </tr>\n",
       "    <tr>\n",
       "      <th>2</th>\n",
       "      <td> Day1</td>\n",
       "      <td> 10:00</td>\n",
       "      <td> T3</td>\n",
       "      <td> Developing Android Libraries: Lessons from Realim</td>\n",
       "      <td> 119</td>\n",
       "    </tr>\n",
       "    <tr>\n",
       "      <th>3</th>\n",
       "      <td> Day1</td>\n",
       "      <td> 10:00</td>\n",
       "      <td> T4</td>\n",
       "      <td>                        DRC-HUBO: Technical Review</td>\n",
       "      <td> 114</td>\n",
       "    </tr>\n",
       "    <tr>\n",
       "      <th>4</th>\n",
       "      <td> Day1</td>\n",
       "      <td> 11:00</td>\n",
       "      <td> T1</td>\n",
       "      <td>                                    네이버 효과툰 구현 이야기</td>\n",
       "      <td>  89</td>\n",
       "    </tr>\n",
       "  </tbody>\n",
       "</table>\n",
       "</div>"
      ],
      "text/plain": [
       "    day   time zone                                              title  \\\n",
       "0  Day1  10:00   T1                                네이버 효과툰은 어떻게 만들어졌나?   \n",
       "1  Day1  10:00   T2                                      실전 스위프트 프로그래밍   \n",
       "2  Day1  10:00   T3  Developing Android Libraries: Lessons from Realim   \n",
       "3  Day1  10:00   T4                         DRC-HUBO: Technical Review   \n",
       "4  Day1  11:00   T1                                     네이버 효과툰 구현 이야기   \n",
       "\n",
       "   session_id  \n",
       "0         115  \n",
       "1          95  \n",
       "2         119  \n",
       "3         114  \n",
       "4          89  "
      ]
     },
     "execution_count": 50,
     "metadata": {},
     "output_type": "execute_result"
    }
   ],
   "source": [
    "ds = pd.read_csv('./data/deview2015_session_info.csv')\n",
    "ds.head()"
   ]
  },
  {
   "cell_type": "code",
   "execution_count": 51,
   "metadata": {
    "collapsed": false
   },
   "outputs": [
    {
     "data": {
      "text/plain": [
       "Int64Index([0, 1, 2, 3, 4, 5, 6, 7, 8, 9, 10, 11, 12, 13, 14, 15, 16, 17, 18, 19, 20, 21, 22, 23, 24, 25, 26, 27, 28, 29, 30, 31, 32, 33, 34, 35, 36, 37, 38, 39, 40, 41, 42, 43, 44, 45, 46, 47], dtype='int64')"
      ]
     },
     "execution_count": 51,
     "metadata": {},
     "output_type": "execute_result"
    }
   ],
   "source": [
    "## dataframe의 index \n",
    "ds.index"
   ]
  },
  {
   "cell_type": "code",
   "execution_count": 52,
   "metadata": {
    "collapsed": false,
    "scrolled": true
   },
   "outputs": [
    {
     "data": {
      "text/plain": [
       "day                          Day1\n",
       "time                        10:00\n",
       "zone                           T1\n",
       "title         네이버 효과툰은 어떻게 만들어졌나?\n",
       "session_id                    115\n",
       "Name: 0, dtype: object"
      ]
     },
     "execution_count": 52,
     "metadata": {},
     "output_type": "execute_result"
    }
   ],
   "source": [
    "## row select by index\n",
    "ds.iloc[0]"
   ]
  },
  {
   "cell_type": "code",
   "execution_count": 53,
   "metadata": {
    "collapsed": false
   },
   "outputs": [
    {
     "data": {
      "text/html": [
       "<div style=\"max-height:1000px;max-width:1500px;overflow:auto;\">\n",
       "<table border=\"1\" class=\"dataframe\">\n",
       "  <thead>\n",
       "    <tr style=\"text-align: right;\">\n",
       "      <th></th>\n",
       "      <th>day</th>\n",
       "      <th>time</th>\n",
       "      <th>zone</th>\n",
       "      <th>title</th>\n",
       "      <th>session_id</th>\n",
       "    </tr>\n",
       "  </thead>\n",
       "  <tbody>\n",
       "    <tr>\n",
       "      <th>0</th>\n",
       "      <td> Day1</td>\n",
       "      <td> 10:00</td>\n",
       "      <td> T1</td>\n",
       "      <td>                               네이버 효과툰은 어떻게 만들어졌나?</td>\n",
       "      <td> 115</td>\n",
       "    </tr>\n",
       "    <tr>\n",
       "      <th>1</th>\n",
       "      <td> Day1</td>\n",
       "      <td> 10:00</td>\n",
       "      <td> T2</td>\n",
       "      <td>                                     실전 스위프트 프로그래밍</td>\n",
       "      <td>  95</td>\n",
       "    </tr>\n",
       "    <tr>\n",
       "      <th>2</th>\n",
       "      <td> Day1</td>\n",
       "      <td> 10:00</td>\n",
       "      <td> T3</td>\n",
       "      <td> Developing Android Libraries: Lessons from Realim</td>\n",
       "      <td> 119</td>\n",
       "    </tr>\n",
       "    <tr>\n",
       "      <th>3</th>\n",
       "      <td> Day1</td>\n",
       "      <td> 10:00</td>\n",
       "      <td> T4</td>\n",
       "      <td>                        DRC-HUBO: Technical Review</td>\n",
       "      <td> 114</td>\n",
       "    </tr>\n",
       "    <tr>\n",
       "      <th>4</th>\n",
       "      <td> Day1</td>\n",
       "      <td> 11:00</td>\n",
       "      <td> T1</td>\n",
       "      <td>                                    네이버 효과툰 구현 이야기</td>\n",
       "      <td>  89</td>\n",
       "    </tr>\n",
       "    <tr>\n",
       "      <th>5</th>\n",
       "      <td> Day1</td>\n",
       "      <td> 11:00</td>\n",
       "      <td> T2</td>\n",
       "      <td>                               LINE on Apple Watch</td>\n",
       "      <td>  61</td>\n",
       "    </tr>\n",
       "    <tr>\n",
       "      <th>6</th>\n",
       "      <td> Day1</td>\n",
       "      <td> 11:00</td>\n",
       "      <td> T3</td>\n",
       "      <td>                                Quality without QA</td>\n",
       "      <td>  76</td>\n",
       "    </tr>\n",
       "    <tr>\n",
       "      <th>7</th>\n",
       "      <td> Day1</td>\n",
       "      <td> 11:00</td>\n",
       "      <td> T4</td>\n",
       "      <td>                                MIT Cheetah 로봇의 탄생</td>\n",
       "      <td> 116</td>\n",
       "    </tr>\n",
       "    <tr>\n",
       "      <th>8</th>\n",
       "      <td> Day1</td>\n",
       "      <td> 12:00</td>\n",
       "      <td> T1</td>\n",
       "      <td>         Packetbeat 과 Elasticsearch 를 이용한 실시간 모니터링</td>\n",
       "      <td> 121</td>\n",
       "    </tr>\n",
       "    <tr>\n",
       "      <th>9</th>\n",
       "      <td> Day1</td>\n",
       "      <td> 12:00</td>\n",
       "      <td> T2</td>\n",
       "      <td>                                     Rust 프로그래밍 언어</td>\n",
       "      <td> 113</td>\n",
       "    </tr>\n",
       "  </tbody>\n",
       "</table>\n",
       "</div>"
      ],
      "text/plain": [
       "    day   time zone                                              title  \\\n",
       "0  Day1  10:00   T1                                네이버 효과툰은 어떻게 만들어졌나?   \n",
       "1  Day1  10:00   T2                                      실전 스위프트 프로그래밍   \n",
       "2  Day1  10:00   T3  Developing Android Libraries: Lessons from Realim   \n",
       "3  Day1  10:00   T4                         DRC-HUBO: Technical Review   \n",
       "4  Day1  11:00   T1                                     네이버 효과툰 구현 이야기   \n",
       "5  Day1  11:00   T2                                LINE on Apple Watch   \n",
       "6  Day1  11:00   T3                                 Quality without QA   \n",
       "7  Day1  11:00   T4                                 MIT Cheetah 로봇의 탄생   \n",
       "8  Day1  12:00   T1          Packetbeat 과 Elasticsearch 를 이용한 실시간 모니터링   \n",
       "9  Day1  12:00   T2                                      Rust 프로그래밍 언어   \n",
       "\n",
       "   session_id  \n",
       "0         115  \n",
       "1          95  \n",
       "2         119  \n",
       "3         114  \n",
       "4          89  \n",
       "5          61  \n",
       "6          76  \n",
       "7         116  \n",
       "8         121  \n",
       "9         113  "
      ]
     },
     "execution_count": 53,
     "metadata": {},
     "output_type": "execute_result"
    }
   ],
   "source": [
    "## rows select by range\n",
    "ds[:10]"
   ]
  },
  {
   "cell_type": "code",
   "execution_count": 54,
   "metadata": {
    "collapsed": false
   },
   "outputs": [
    {
     "data": {
      "text/html": [
       "<div style=\"max-height:1000px;max-width:1500px;overflow:auto;\">\n",
       "<table border=\"1\" class=\"dataframe\">\n",
       "  <thead>\n",
       "    <tr style=\"text-align: right;\">\n",
       "      <th></th>\n",
       "      <th>day</th>\n",
       "      <th>time</th>\n",
       "      <th>zone</th>\n",
       "      <th>title</th>\n",
       "      <th>session_id</th>\n",
       "    </tr>\n",
       "  </thead>\n",
       "  <tbody>\n",
       "    <tr>\n",
       "      <th>0 </th>\n",
       "      <td> Day1</td>\n",
       "      <td> 10:00</td>\n",
       "      <td> T1</td>\n",
       "      <td>                               네이버 효과툰은 어떻게 만들어졌나?</td>\n",
       "      <td> 115</td>\n",
       "    </tr>\n",
       "    <tr>\n",
       "      <th>1 </th>\n",
       "      <td> Day1</td>\n",
       "      <td> 10:00</td>\n",
       "      <td> T2</td>\n",
       "      <td>                                     실전 스위프트 프로그래밍</td>\n",
       "      <td>  95</td>\n",
       "    </tr>\n",
       "    <tr>\n",
       "      <th>2 </th>\n",
       "      <td> Day1</td>\n",
       "      <td> 10:00</td>\n",
       "      <td> T3</td>\n",
       "      <td> Developing Android Libraries: Lessons from Realim</td>\n",
       "      <td> 119</td>\n",
       "    </tr>\n",
       "    <tr>\n",
       "      <th>3 </th>\n",
       "      <td> Day1</td>\n",
       "      <td> 10:00</td>\n",
       "      <td> T4</td>\n",
       "      <td>                        DRC-HUBO: Technical Review</td>\n",
       "      <td> 114</td>\n",
       "    </tr>\n",
       "    <tr>\n",
       "      <th>24</th>\n",
       "      <td> Day2</td>\n",
       "      <td> 10:00</td>\n",
       "      <td> T1</td>\n",
       "      <td>                                    네이버 검색과 데이터마이닝</td>\n",
       "      <td>  92</td>\n",
       "    </tr>\n",
       "  </tbody>\n",
       "</table>\n",
       "</div>"
      ],
      "text/plain": [
       "     day   time zone                                              title  \\\n",
       "0   Day1  10:00   T1                                네이버 효과툰은 어떻게 만들어졌나?   \n",
       "1   Day1  10:00   T2                                      실전 스위프트 프로그래밍   \n",
       "2   Day1  10:00   T3  Developing Android Libraries: Lessons from Realim   \n",
       "3   Day1  10:00   T4                         DRC-HUBO: Technical Review   \n",
       "24  Day2  10:00   T1                                     네이버 검색과 데이터마이닝   \n",
       "\n",
       "    session_id  \n",
       "0          115  \n",
       "1           95  \n",
       "2          119  \n",
       "3          114  \n",
       "24          92  "
      ]
     },
     "execution_count": 54,
     "metadata": {},
     "output_type": "execute_result"
    }
   ],
   "source": [
    "### row select by column values  \n",
    "ds[ds['time']=='10:00'].head()"
   ]
  },
  {
   "cell_type": "code",
   "execution_count": 55,
   "metadata": {
    "collapsed": false
   },
   "outputs": [
    {
     "data": {
      "text/plain": [
       "0                                  네이버 효과툰은 어떻게 만들어졌나?\n",
       "1                                        실전 스위프트 프로그래밍\n",
       "2    Developing Android Libraries: Lessons from Realim\n",
       "3                           DRC-HUBO: Technical Review\n",
       "4                                       네이버 효과툰 구현 이야기\n",
       "Name: title, dtype: object"
      ]
     },
     "execution_count": 55,
     "metadata": {},
     "output_type": "execute_result"
    }
   ],
   "source": [
    "### 1 column select  : type은 Series임\n",
    "ds['title'].head()"
   ]
  },
  {
   "cell_type": "code",
   "execution_count": 56,
   "metadata": {
    "collapsed": false
   },
   "outputs": [
    {
     "data": {
      "text/html": [
       "<div style=\"max-height:1000px;max-width:1500px;overflow:auto;\">\n",
       "<table border=\"1\" class=\"dataframe\">\n",
       "  <thead>\n",
       "    <tr style=\"text-align: right;\">\n",
       "      <th></th>\n",
       "      <th>title</th>\n",
       "      <th>session_id</th>\n",
       "    </tr>\n",
       "  </thead>\n",
       "  <tbody>\n",
       "    <tr>\n",
       "      <th>0</th>\n",
       "      <td>                               네이버 효과툰은 어떻게 만들어졌나?</td>\n",
       "      <td> 115</td>\n",
       "    </tr>\n",
       "    <tr>\n",
       "      <th>1</th>\n",
       "      <td>                                     실전 스위프트 프로그래밍</td>\n",
       "      <td>  95</td>\n",
       "    </tr>\n",
       "    <tr>\n",
       "      <th>2</th>\n",
       "      <td> Developing Android Libraries: Lessons from Realim</td>\n",
       "      <td> 119</td>\n",
       "    </tr>\n",
       "    <tr>\n",
       "      <th>3</th>\n",
       "      <td>                        DRC-HUBO: Technical Review</td>\n",
       "      <td> 114</td>\n",
       "    </tr>\n",
       "    <tr>\n",
       "      <th>4</th>\n",
       "      <td>                                    네이버 효과툰 구현 이야기</td>\n",
       "      <td>  89</td>\n",
       "    </tr>\n",
       "  </tbody>\n",
       "</table>\n",
       "</div>"
      ],
      "text/plain": [
       "                                               title  session_id\n",
       "0                                네이버 효과툰은 어떻게 만들어졌나?         115\n",
       "1                                      실전 스위프트 프로그래밍          95\n",
       "2  Developing Android Libraries: Lessons from Realim         119\n",
       "3                         DRC-HUBO: Technical Review         114\n",
       "4                                     네이버 효과툰 구현 이야기          89"
      ]
     },
     "execution_count": 56,
     "metadata": {},
     "output_type": "execute_result"
    }
   ],
   "source": [
    "### multi column select  : type은 Series임\n",
    "ds[['title','session_id']].head()"
   ]
  },
  {
   "cell_type": "code",
   "execution_count": 57,
   "metadata": {
    "collapsed": false
   },
   "outputs": [
    {
     "data": {
      "text/plain": [
       "day           object\n",
       "time          object\n",
       "zone          object\n",
       "title         object\n",
       "session_id     int64\n",
       "dtype: object"
      ]
     },
     "execution_count": 57,
     "metadata": {},
     "output_type": "execute_result"
    }
   ],
   "source": [
    "## dataframe의 각 column의 type\n",
    "ds.dtypes"
   ]
  },
  {
   "cell_type": "code",
   "execution_count": 58,
   "metadata": {
    "collapsed": false
   },
   "outputs": [
    {
     "name": "stdout",
     "output_type": "stream",
     "text": [
      "0 ['Day1' '10:00' 'T1' '네이버 효과툰은 어떻게 만들어졌나?' 115]\n",
      "1 ['Day1' '10:00' 'T2' '실전 스위프트 프로그래밍' 95]\n",
      "2 ['Day1' '10:00' 'T3' 'Developing Android Libraries: Lessons from Realim'\n",
      " 119]\n",
      "3 ['Day1' '10:00' 'T4' 'DRC-HUBO: Technical Review' 114]\n",
      "4 ['Day1' '11:00' 'T1' '네이버 효과툰 구현 이야기' 89]\n"
     ]
    }
   ],
   "source": [
    "## row단위 iterations\n",
    "for idx, row in ds.head().iterrows():\n",
    "    print (idx,row.values)"
   ]
  },
  {
   "cell_type": "code",
   "execution_count": null,
   "metadata": {
    "collapsed": true
   },
   "outputs": [],
   "source": [
    "## 연산\n",
    "ds['session_id']+10"
   ]
  },
  {
   "cell_type": "code",
   "execution_count": null,
   "metadata": {
    "collapsed": false
   },
   "outputs": [],
   "source": [
    "ds.session_id*10"
   ]
  },
  {
   "cell_type": "code",
   "execution_count": null,
   "metadata": {
    "collapsed": true
   },
   "outputs": [],
   "source": [
    "ds.session_id+ds.session_id"
   ]
  },
  {
   "cell_type": "code",
   "execution_count": null,
   "metadata": {
    "collapsed": true
   },
   "outputs": [],
   "source": [
    "ds.sum()"
   ]
  },
  {
   "cell_type": "code",
   "execution_count": null,
   "metadata": {
    "collapsed": true
   },
   "outputs": [],
   "source": [
    "ds.mean()"
   ]
  },
  {
   "cell_type": "code",
   "execution_count": null,
   "metadata": {
    "collapsed": false
   },
   "outputs": [],
   "source": [
    "ds.median()"
   ]
  },
  {
   "cell_type": "code",
   "execution_count": 59,
   "metadata": {
    "collapsed": false
   },
   "outputs": [
    {
     "data": {
      "text/html": [
       "<div style=\"max-height:1000px;max-width:1500px;overflow:auto;\">\n",
       "<table border=\"1\" class=\"dataframe\">\n",
       "  <thead>\n",
       "    <tr style=\"text-align: right;\">\n",
       "      <th></th>\n",
       "      <th>time</th>\n",
       "      <th>zone</th>\n",
       "      <th>title</th>\n",
       "      <th>session_id</th>\n",
       "    </tr>\n",
       "    <tr>\n",
       "      <th>day</th>\n",
       "      <th></th>\n",
       "      <th></th>\n",
       "      <th></th>\n",
       "      <th></th>\n",
       "    </tr>\n",
       "  </thead>\n",
       "  <tbody>\n",
       "    <tr>\n",
       "      <th>Day1</th>\n",
       "      <td> 24</td>\n",
       "      <td> 24</td>\n",
       "      <td> 24</td>\n",
       "      <td> 24</td>\n",
       "    </tr>\n",
       "    <tr>\n",
       "      <th>Day2</th>\n",
       "      <td> 24</td>\n",
       "      <td> 24</td>\n",
       "      <td> 24</td>\n",
       "      <td> 24</td>\n",
       "    </tr>\n",
       "  </tbody>\n",
       "</table>\n",
       "</div>"
      ],
      "text/plain": [
       "      time  zone  title  session_id\n",
       "day                                \n",
       "Day1    24    24     24          24\n",
       "Day2    24    24     24          24"
      ]
     },
     "execution_count": 59,
     "metadata": {},
     "output_type": "execute_result"
    }
   ],
   "source": [
    "## data grouping\n",
    "ds.groupby(['day']).count()"
   ]
  },
  {
   "cell_type": "code",
   "execution_count": 61,
   "metadata": {
    "collapsed": false
   },
   "outputs": [
    {
     "data": {
      "text/html": [
       "<div style=\"max-height:1000px;max-width:1500px;overflow:auto;\">\n",
       "<table border=\"1\" class=\"dataframe\">\n",
       "  <thead>\n",
       "    <tr style=\"text-align: right;\">\n",
       "      <th></th>\n",
       "      <th>day</th>\n",
       "      <th>time</th>\n",
       "      <th>zone</th>\n",
       "      <th>title</th>\n",
       "      <th>session_id</th>\n",
       "      <th>day_hour</th>\n",
       "      <th>hour</th>\n",
       "    </tr>\n",
       "  </thead>\n",
       "  <tbody>\n",
       "    <tr>\n",
       "      <th>0</th>\n",
       "      <td> Day1</td>\n",
       "      <td> 10:00</td>\n",
       "      <td> T1</td>\n",
       "      <td>                               네이버 효과툰은 어떻게 만들어졌나?</td>\n",
       "      <td> 115</td>\n",
       "      <td> Day1 10h</td>\n",
       "      <td> 10</td>\n",
       "    </tr>\n",
       "    <tr>\n",
       "      <th>1</th>\n",
       "      <td> Day1</td>\n",
       "      <td> 10:00</td>\n",
       "      <td> T2</td>\n",
       "      <td>                                     실전 스위프트 프로그래밍</td>\n",
       "      <td>  95</td>\n",
       "      <td> Day1 10h</td>\n",
       "      <td> 10</td>\n",
       "    </tr>\n",
       "    <tr>\n",
       "      <th>2</th>\n",
       "      <td> Day1</td>\n",
       "      <td> 10:00</td>\n",
       "      <td> T3</td>\n",
       "      <td> Developing Android Libraries: Lessons from Realim</td>\n",
       "      <td> 119</td>\n",
       "      <td> Day1 10h</td>\n",
       "      <td> 10</td>\n",
       "    </tr>\n",
       "    <tr>\n",
       "      <th>3</th>\n",
       "      <td> Day1</td>\n",
       "      <td> 10:00</td>\n",
       "      <td> T4</td>\n",
       "      <td>                        DRC-HUBO: Technical Review</td>\n",
       "      <td> 114</td>\n",
       "      <td> Day1 10h</td>\n",
       "      <td> 10</td>\n",
       "    </tr>\n",
       "    <tr>\n",
       "      <th>4</th>\n",
       "      <td> Day1</td>\n",
       "      <td> 11:00</td>\n",
       "      <td> T1</td>\n",
       "      <td>                                    네이버 효과툰 구현 이야기</td>\n",
       "      <td>  89</td>\n",
       "      <td> Day1 11h</td>\n",
       "      <td> 11</td>\n",
       "    </tr>\n",
       "  </tbody>\n",
       "</table>\n",
       "</div>"
      ],
      "text/plain": [
       "    day   time zone                                              title  \\\n",
       "0  Day1  10:00   T1                                네이버 효과툰은 어떻게 만들어졌나?   \n",
       "1  Day1  10:00   T2                                      실전 스위프트 프로그래밍   \n",
       "2  Day1  10:00   T3  Developing Android Libraries: Lessons from Realim   \n",
       "3  Day1  10:00   T4                         DRC-HUBO: Technical Review   \n",
       "4  Day1  11:00   T1                                     네이버 효과툰 구현 이야기   \n",
       "\n",
       "   session_id  day_hour  hour  \n",
       "0         115  Day1 10h    10  \n",
       "1          95  Day1 10h    10  \n",
       "2         119  Day1 10h    10  \n",
       "3         114  Day1 10h    10  \n",
       "4          89  Day1 11h    11  "
      ]
     },
     "execution_count": 61,
     "metadata": {},
     "output_type": "execute_result"
    }
   ],
   "source": [
    "## row apply functions each rows\n",
    "## time필드에서 시간만 추출하기 \n",
    "ds['hour'] = ds['time'].apply( lambda x: int(x[:2]))\n",
    "ds.head()"
   ]
  },
  {
   "cell_type": "code",
   "execution_count": 62,
   "metadata": {
    "collapsed": false
   },
   "outputs": [
    {
     "data": {
      "text/html": [
       "<div style=\"max-height:1000px;max-width:1500px;overflow:auto;\">\n",
       "<table border=\"1\" class=\"dataframe\">\n",
       "  <thead>\n",
       "    <tr style=\"text-align: right;\">\n",
       "      <th></th>\n",
       "      <th>day</th>\n",
       "      <th>time</th>\n",
       "      <th>zone</th>\n",
       "      <th>title</th>\n",
       "      <th>session_id</th>\n",
       "      <th>day_hour</th>\n",
       "      <th>hour</th>\n",
       "    </tr>\n",
       "  </thead>\n",
       "  <tbody>\n",
       "    <tr>\n",
       "      <th>0</th>\n",
       "      <td> Day1</td>\n",
       "      <td> 10:00</td>\n",
       "      <td> T1</td>\n",
       "      <td>                               네이버 효과툰은 어떻게 만들어졌나?</td>\n",
       "      <td> 115</td>\n",
       "      <td> Day1 10h</td>\n",
       "      <td> 10</td>\n",
       "    </tr>\n",
       "    <tr>\n",
       "      <th>1</th>\n",
       "      <td> Day1</td>\n",
       "      <td> 10:00</td>\n",
       "      <td> T2</td>\n",
       "      <td>                                     실전 스위프트 프로그래밍</td>\n",
       "      <td>  95</td>\n",
       "      <td> Day1 10h</td>\n",
       "      <td> 10</td>\n",
       "    </tr>\n",
       "    <tr>\n",
       "      <th>2</th>\n",
       "      <td> Day1</td>\n",
       "      <td> 10:00</td>\n",
       "      <td> T3</td>\n",
       "      <td> Developing Android Libraries: Lessons from Realim</td>\n",
       "      <td> 119</td>\n",
       "      <td> Day1 10h</td>\n",
       "      <td> 10</td>\n",
       "    </tr>\n",
       "    <tr>\n",
       "      <th>3</th>\n",
       "      <td> Day1</td>\n",
       "      <td> 10:00</td>\n",
       "      <td> T4</td>\n",
       "      <td>                        DRC-HUBO: Technical Review</td>\n",
       "      <td> 114</td>\n",
       "      <td> Day1 10h</td>\n",
       "      <td> 10</td>\n",
       "    </tr>\n",
       "    <tr>\n",
       "      <th>4</th>\n",
       "      <td> Day1</td>\n",
       "      <td> 11:00</td>\n",
       "      <td> T1</td>\n",
       "      <td>                                    네이버 효과툰 구현 이야기</td>\n",
       "      <td>  89</td>\n",
       "      <td> Day1 11h</td>\n",
       "      <td> 11</td>\n",
       "    </tr>\n",
       "  </tbody>\n",
       "</table>\n",
       "</div>"
      ],
      "text/plain": [
       "    day   time zone                                              title  \\\n",
       "0  Day1  10:00   T1                                네이버 효과툰은 어떻게 만들어졌나?   \n",
       "1  Day1  10:00   T2                                      실전 스위프트 프로그래밍   \n",
       "2  Day1  10:00   T3  Developing Android Libraries: Lessons from Realim   \n",
       "3  Day1  10:00   T4                         DRC-HUBO: Technical Review   \n",
       "4  Day1  11:00   T1                                     네이버 효과툰 구현 이야기   \n",
       "\n",
       "   session_id  day_hour  hour  \n",
       "0         115  Day1 10h    10  \n",
       "1          95  Day1 10h    10  \n",
       "2         119  Day1 10h    10  \n",
       "3         114  Day1 10h    10  \n",
       "4          89  Day1 11h    11  "
      ]
     },
     "execution_count": 62,
     "metadata": {},
     "output_type": "execute_result"
    }
   ],
   "source": [
    "## day와 time을 합치기\n",
    "ds['day'] + ' ' + ds['time']\n",
    "ds['day_hour']=ds.apply( lambda x : x.day+' '+x.time[:2] + 'h', axis=1 ) \n",
    "ds.head()"
   ]
  },
  {
   "cell_type": "code",
   "execution_count": 63,
   "metadata": {
    "collapsed": false
   },
   "outputs": [
    {
     "data": {
      "text/html": [
       "<div style=\"max-height:1000px;max-width:1500px;overflow:auto;\">\n",
       "<table border=\"1\" class=\"dataframe\">\n",
       "  <thead>\n",
       "    <tr style=\"text-align: right;\">\n",
       "      <th>zone</th>\n",
       "      <th>T1</th>\n",
       "      <th>T2</th>\n",
       "      <th>T3</th>\n",
       "      <th>T4</th>\n",
       "    </tr>\n",
       "    <tr>\n",
       "      <th>day_hour</th>\n",
       "      <th></th>\n",
       "      <th></th>\n",
       "      <th></th>\n",
       "      <th></th>\n",
       "    </tr>\n",
       "  </thead>\n",
       "  <tbody>\n",
       "    <tr>\n",
       "      <th>Day1 10h</th>\n",
       "      <td>                               네이버 효과툰은 어떻게 만들어졌나?</td>\n",
       "      <td>                                     실전 스위프트 프로그래밍</td>\n",
       "      <td> Developing Android Libraries: Lessons from Realim</td>\n",
       "      <td>               DRC-HUBO: Technical Review</td>\n",
       "    </tr>\n",
       "    <tr>\n",
       "      <th>Day1 11h</th>\n",
       "      <td>                                    네이버 효과툰 구현 이야기</td>\n",
       "      <td>                               LINE on Apple Watch</td>\n",
       "      <td>                                Quality without QA</td>\n",
       "      <td>                       MIT Cheetah 로봇의 탄생</td>\n",
       "    </tr>\n",
       "    <tr>\n",
       "      <th>Day1 12h</th>\n",
       "      <td>         Packetbeat 과 Elasticsearch 를 이용한 실시간 모니터링</td>\n",
       "      <td>                                     Rust 프로그래밍 언어</td>\n",
       "      <td>                        브라우저는 VSync 를 어떻게 활용하고 있을까</td>\n",
       "      <td>                   Immersive Sound for VR</td>\n",
       "    </tr>\n",
       "    <tr>\n",
       "      <th>Day1 14h</th>\n",
       "      <td>                                  React Everywhere</td>\n",
       "      <td>                                    How Riot Works</td>\n",
       "      <td>          안드로이드 기반의 모바일 혈액진단기 개발 삽질기 그리고 우리가 쌓은 경험</td>\n",
       "      <td>            Mobile 앱에서 효율적인 storage 접근 방법</td>\n",
       "    </tr>\n",
       "    <tr>\n",
       "      <th>Day1 15h</th>\n",
       "      <td>                     영상 인식을 통한 오프라인 고객 분석 솔루션과 딥러닝</td>\n",
       "      <td>                                  웹 브라우저 감옥에서 살아남기</td>\n",
       "      <td>       딥러닝에서 스트림처리까지: 빅데이터 분석 메타 프레임워크 Apache REEF</td>\n",
       "      <td> 데이터 센터의 오픈 소스 Open Compute Project (OCP)</td>\n",
       "    </tr>\n",
       "    <tr>\n",
       "      <th>Day1 16h</th>\n",
       "      <td>                            데이터사이언스팀 빌딩 그리고 시스템 구축</td>\n",
       "      <td>                              JPA와 모던 자바 데이터 저장 기술</td>\n",
       "      <td> Accelerated compositing in WebKit: Now and in ...</td>\n",
       "      <td>              대규모 분산환경에 최적화된 APM:Pinpoint</td>\n",
       "    </tr>\n",
       "    <tr>\n",
       "      <th>Day2 10h</th>\n",
       "      <td>                                    네이버 검색과 데이터마이닝</td>\n",
       "      <td> Large scale backend service development using ...</td>\n",
       "      <td>                                 Building Ethereum</td>\n",
       "      <td>        Data science with Apache Zeppelin</td>\n",
       "    </tr>\n",
       "    <tr>\n",
       "      <th>Day2 11h</th>\n",
       "      <td>                              Docker Orchestration</td>\n",
       "      <td>                             대화 시스템 서비스 동향 및 개발 방법</td>\n",
       "      <td>               HBase consistent secondary indexing</td>\n",
       "      <td>                    기계 번역 모델 기반 질의 교정 시스템</td>\n",
       "    </tr>\n",
       "    <tr>\n",
       "      <th>Day2 12h</th>\n",
       "      <td> The simplicity of cluster apps with the Circui...</td>\n",
       "      <td>   수퍼컴퓨팅과 데이터 어낼리틱스 프레임워크 그리고 UNIST의 빅데이터 처리 프레임워크</td>\n",
       "      <td> Level 2 Network Programming using PacketNgin RTOS</td>\n",
       "      <td>      산업 현장을 위한 증강 현실 기기 DAQRI Helmet 개발기</td>\n",
       "    </tr>\n",
       "    <tr>\n",
       "      <th>Day2 14h</th>\n",
       "      <td>   Storm과 Elasticsearch를 활용한 로깅 플랫폼의 실시간 알람 시스템 구현</td>\n",
       "      <td>                             WIFI를 이용한 실내 장소 인식 하기</td>\n",
       "      <td>                           Turning data into value</td>\n",
       "      <td>                분산 환경에서의 스트림과 배치 처리 통합 모델</td>\n",
       "    </tr>\n",
       "    <tr>\n",
       "      <th>Day2 15h</th>\n",
       "      <td>            Implementing Deep Learning using cuDNN</td>\n",
       "      <td>                                증분 처리 플랫폼 Cana 개발기</td>\n",
       "      <td>              Enterprise Dataflow with Apache NiFi</td>\n",
       "      <td>                        Presto 내부 구조 파헤치기</td>\n",
       "    </tr>\n",
       "    <tr>\n",
       "      <th>Day2 16h</th>\n",
       "      <td>             코끼리 냉장고에 집어넣기 - 실시간 추천엔진을 머신 한대에 구겨넣기</td>\n",
       "      <td>            Netflix 빅데이터 플랫폼 + Apache Spark 통합 경험기</td>\n",
       "      <td>  S2Graph: A Large scale graph database with HBase</td>\n",
       "      <td>       Large-Scale Deep Learning on Spark</td>\n",
       "    </tr>\n",
       "  </tbody>\n",
       "</table>\n",
       "</div>"
      ],
      "text/plain": [
       "zone                                                     T1  \\\n",
       "day_hour                                                      \n",
       "Day1 10h                                네이버 효과툰은 어떻게 만들어졌나?   \n",
       "Day1 11h                                     네이버 효과툰 구현 이야기   \n",
       "Day1 12h          Packetbeat 과 Elasticsearch 를 이용한 실시간 모니터링   \n",
       "Day1 14h                                   React Everywhere   \n",
       "Day1 15h                      영상 인식을 통한 오프라인 고객 분석 솔루션과 딥러닝   \n",
       "Day1 16h                             데이터사이언스팀 빌딩 그리고 시스템 구축   \n",
       "Day2 10h                                     네이버 검색과 데이터마이닝   \n",
       "Day2 11h                               Docker Orchestration   \n",
       "Day2 12h  The simplicity of cluster apps with the Circui...   \n",
       "Day2 14h    Storm과 Elasticsearch를 활용한 로깅 플랫폼의 실시간 알람 시스템 구현   \n",
       "Day2 15h             Implementing Deep Learning using cuDNN   \n",
       "Day2 16h              코끼리 냉장고에 집어넣기 - 실시간 추천엔진을 머신 한대에 구겨넣기   \n",
       "\n",
       "zone                                                     T2  \\\n",
       "day_hour                                                      \n",
       "Day1 10h                                      실전 스위프트 프로그래밍   \n",
       "Day1 11h                                LINE on Apple Watch   \n",
       "Day1 12h                                      Rust 프로그래밍 언어   \n",
       "Day1 14h                                     How Riot Works   \n",
       "Day1 15h                                   웹 브라우저 감옥에서 살아남기   \n",
       "Day1 16h                               JPA와 모던 자바 데이터 저장 기술   \n",
       "Day2 10h  Large scale backend service development using ...   \n",
       "Day2 11h                              대화 시스템 서비스 동향 및 개발 방법   \n",
       "Day2 12h    수퍼컴퓨팅과 데이터 어낼리틱스 프레임워크 그리고 UNIST의 빅데이터 처리 프레임워크   \n",
       "Day2 14h                              WIFI를 이용한 실내 장소 인식 하기   \n",
       "Day2 15h                                 증분 처리 플랫폼 Cana 개발기   \n",
       "Day2 16h             Netflix 빅데이터 플랫폼 + Apache Spark 통합 경험기   \n",
       "\n",
       "zone                                                     T3  \\\n",
       "day_hour                                                      \n",
       "Day1 10h  Developing Android Libraries: Lessons from Realim   \n",
       "Day1 11h                                 Quality without QA   \n",
       "Day1 12h                         브라우저는 VSync 를 어떻게 활용하고 있을까   \n",
       "Day1 14h           안드로이드 기반의 모바일 혈액진단기 개발 삽질기 그리고 우리가 쌓은 경험   \n",
       "Day1 15h        딥러닝에서 스트림처리까지: 빅데이터 분석 메타 프레임워크 Apache REEF   \n",
       "Day1 16h  Accelerated compositing in WebKit: Now and in ...   \n",
       "Day2 10h                                  Building Ethereum   \n",
       "Day2 11h                HBase consistent secondary indexing   \n",
       "Day2 12h  Level 2 Network Programming using PacketNgin RTOS   \n",
       "Day2 14h                            Turning data into value   \n",
       "Day2 15h               Enterprise Dataflow with Apache NiFi   \n",
       "Day2 16h   S2Graph: A Large scale graph database with HBase   \n",
       "\n",
       "zone                                            T4  \n",
       "day_hour                                            \n",
       "Day1 10h                DRC-HUBO: Technical Review  \n",
       "Day1 11h                        MIT Cheetah 로봇의 탄생  \n",
       "Day1 12h                    Immersive Sound for VR  \n",
       "Day1 14h             Mobile 앱에서 효율적인 storage 접근 방법  \n",
       "Day1 15h  데이터 센터의 오픈 소스 Open Compute Project (OCP)  \n",
       "Day1 16h               대규모 분산환경에 최적화된 APM:Pinpoint  \n",
       "Day2 10h         Data science with Apache Zeppelin  \n",
       "Day2 11h                     기계 번역 모델 기반 질의 교정 시스템  \n",
       "Day2 12h       산업 현장을 위한 증강 현실 기기 DAQRI Helmet 개발기  \n",
       "Day2 14h                 분산 환경에서의 스트림과 배치 처리 통합 모델  \n",
       "Day2 15h                         Presto 내부 구조 파헤치기  \n",
       "Day2 16h        Large-Scale Deep Learning on Spark  "
      ]
     },
     "execution_count": 63,
     "metadata": {},
     "output_type": "execute_result"
    }
   ],
   "source": [
    "## 행렬 변환\n",
    "ds.pivot('day_hour','zone','title')"
   ]
  },
  {
   "cell_type": "code",
   "execution_count": 64,
   "metadata": {
    "collapsed": false
   },
   "outputs": [
    {
     "data": {
      "text/html": [
       "<div style=\"max-height:1000px;max-width:1500px;overflow:auto;\">\n",
       "<table border=\"1\" class=\"dataframe\">\n",
       "  <thead>\n",
       "    <tr style=\"text-align: right;\">\n",
       "      <th>time</th>\n",
       "      <th>10:00</th>\n",
       "      <th>11:00</th>\n",
       "      <th>12:00</th>\n",
       "      <th>14:10</th>\n",
       "      <th>15:10</th>\n",
       "      <th>16:10</th>\n",
       "    </tr>\n",
       "    <tr>\n",
       "      <th>zone</th>\n",
       "      <th></th>\n",
       "      <th></th>\n",
       "      <th></th>\n",
       "      <th></th>\n",
       "      <th></th>\n",
       "      <th></th>\n",
       "    </tr>\n",
       "  </thead>\n",
       "  <tbody>\n",
       "    <tr>\n",
       "      <th>T1</th>\n",
       "      <td> 2</td>\n",
       "      <td> 2</td>\n",
       "      <td> 2</td>\n",
       "      <td> 2</td>\n",
       "      <td> 2</td>\n",
       "      <td> 2</td>\n",
       "    </tr>\n",
       "    <tr>\n",
       "      <th>T2</th>\n",
       "      <td> 2</td>\n",
       "      <td> 2</td>\n",
       "      <td> 2</td>\n",
       "      <td> 2</td>\n",
       "      <td> 2</td>\n",
       "      <td> 2</td>\n",
       "    </tr>\n",
       "    <tr>\n",
       "      <th>T3</th>\n",
       "      <td> 2</td>\n",
       "      <td> 2</td>\n",
       "      <td> 2</td>\n",
       "      <td> 2</td>\n",
       "      <td> 2</td>\n",
       "      <td> 2</td>\n",
       "    </tr>\n",
       "    <tr>\n",
       "      <th>T4</th>\n",
       "      <td> 2</td>\n",
       "      <td> 2</td>\n",
       "      <td> 2</td>\n",
       "      <td> 2</td>\n",
       "      <td> 2</td>\n",
       "      <td> 2</td>\n",
       "    </tr>\n",
       "  </tbody>\n",
       "</table>\n",
       "</div>"
      ],
      "text/plain": [
       "time  10:00  11:00  12:00  14:10  15:10  16:10\n",
       "zone                                          \n",
       "T1        2      2      2      2      2      2\n",
       "T2        2      2      2      2      2      2\n",
       "T3        2      2      2      2      2      2\n",
       "T4        2      2      2      2      2      2"
      ]
     },
     "execution_count": 64,
     "metadata": {},
     "output_type": "execute_result"
    }
   ],
   "source": [
    "import numpy as np\n",
    "ds.pivot_table(columns='time', values='session_id', index='zone', aggfunc=np.count_nonzero)"
   ]
  }
 ],
 "metadata": {
  "kernelspec": {
   "display_name": "Python 3",
   "language": "python",
   "name": "python3"
  },
  "language_info": {
   "codemirror_mode": {
    "name": "ipython",
    "version": 3
   },
   "file_extension": ".py",
   "mimetype": "text/x-python",
   "name": "python",
   "nbconvert_exporter": "python",
   "pygments_lexer": "ipython3",
   "version": "3.4.3"
  }
 },
 "nbformat": 4,
 "nbformat_minor": 0
}
