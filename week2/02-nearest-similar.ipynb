{
 "cells": [
  {
   "cell_type": "markdown",
   "metadata": {},
   "source": [
    "## 누구와 가장 유사한지 측정한다. \n"
   ]
  },
  {
   "cell_type": "markdown",
   "metadata": {},
   "source": [
    "### feature vector를 로드한다. "
   ]
  },
  {
   "cell_type": "code",
   "execution_count": 9,
   "metadata": {
    "collapsed": false
   },
   "outputs": [
    {
     "name": "stdout",
     "output_type": "stream",
     "text": [
      ",face_height,eye_to_eye,eyebrow_width,face_width,eye_width,mouth_width,nose_width,lip_to_nose,lip_to_chin\r\n",
      "김수현,1.0,0.31702,0.06413,0.17002,0.45107,0.22673,0.19088,0.20541,0.25671\r\n",
      "아기1,1.0,0.99459,0.0592,0.46626,1.39357,0.59198,0.56177,0.22142,0.19154\r\n",
      "양정길1,1.0,0.43714,0.06665,0.23459,0.61196,0.3422,0.27378,0.20647,0.18553\r\n",
      "양정길2,1.0,0.6648,0.0652,0.35598,0.94308,0.45293,0.40625,0.20946,0.2126\r\n"
     ]
    }
   ],
   "source": [
    "import pandas as pd\n",
    "\n",
    "!head -n 5 '/Users/goodvc/data/fastcampus/week2/resource/landmark.csv'"
   ]
  },
  {
   "cell_type": "code",
   "execution_count": 11,
   "metadata": {
    "collapsed": false
   },
   "outputs": [
    {
     "data": {
      "text/html": [
       "<div style=\"max-height:1000px;max-width:1500px;overflow:auto;\">\n",
       "<table border=\"1\" class=\"dataframe\">\n",
       "  <thead>\n",
       "    <tr style=\"text-align: right;\">\n",
       "      <th></th>\n",
       "      <th>face_height</th>\n",
       "      <th>eye_to_eye</th>\n",
       "      <th>eyebrow_width</th>\n",
       "      <th>face_width</th>\n",
       "      <th>eye_width</th>\n",
       "      <th>mouth_width</th>\n",
       "      <th>nose_width</th>\n",
       "      <th>lip_to_nose</th>\n",
       "      <th>lip_to_chin</th>\n",
       "    </tr>\n",
       "  </thead>\n",
       "  <tbody>\n",
       "    <tr>\n",
       "      <th>김수현</th>\n",
       "      <td> 1</td>\n",
       "      <td> 0.31702</td>\n",
       "      <td> 0.06413</td>\n",
       "      <td> 0.17002</td>\n",
       "      <td> 0.45107</td>\n",
       "      <td> 0.22673</td>\n",
       "      <td> 0.19088</td>\n",
       "      <td> 0.20541</td>\n",
       "      <td> 0.25671</td>\n",
       "    </tr>\n",
       "    <tr>\n",
       "      <th>아기1</th>\n",
       "      <td> 1</td>\n",
       "      <td> 0.99459</td>\n",
       "      <td> 0.05920</td>\n",
       "      <td> 0.46626</td>\n",
       "      <td> 1.39357</td>\n",
       "      <td> 0.59198</td>\n",
       "      <td> 0.56177</td>\n",
       "      <td> 0.22142</td>\n",
       "      <td> 0.19154</td>\n",
       "    </tr>\n",
       "    <tr>\n",
       "      <th>양정길1</th>\n",
       "      <td> 1</td>\n",
       "      <td> 0.43714</td>\n",
       "      <td> 0.06665</td>\n",
       "      <td> 0.23459</td>\n",
       "      <td> 0.61196</td>\n",
       "      <td> 0.34220</td>\n",
       "      <td> 0.27378</td>\n",
       "      <td> 0.20647</td>\n",
       "      <td> 0.18553</td>\n",
       "    </tr>\n",
       "    <tr>\n",
       "      <th>양정길2</th>\n",
       "      <td> 1</td>\n",
       "      <td> 0.66480</td>\n",
       "      <td> 0.06520</td>\n",
       "      <td> 0.35598</td>\n",
       "      <td> 0.94308</td>\n",
       "      <td> 0.45293</td>\n",
       "      <td> 0.40625</td>\n",
       "      <td> 0.20946</td>\n",
       "      <td> 0.21260</td>\n",
       "    </tr>\n",
       "    <tr>\n",
       "      <th>양정길3</th>\n",
       "      <td> 1</td>\n",
       "      <td> 0.57416</td>\n",
       "      <td> 0.06836</td>\n",
       "      <td> 0.28739</td>\n",
       "      <td> 0.80375</td>\n",
       "      <td> 0.41902</td>\n",
       "      <td> 0.35779</td>\n",
       "      <td> 0.20500</td>\n",
       "      <td> 0.17990</td>\n",
       "    </tr>\n",
       "  </tbody>\n",
       "</table>\n",
       "</div>"
      ],
      "text/plain": [
       "      face_height  eye_to_eye  eyebrow_width  face_width  eye_width  \\\n",
       "김수현             1     0.31702        0.06413     0.17002    0.45107   \n",
       "아기1             1     0.99459        0.05920     0.46626    1.39357   \n",
       "양정길1            1     0.43714        0.06665     0.23459    0.61196   \n",
       "양정길2            1     0.66480        0.06520     0.35598    0.94308   \n",
       "양정길3            1     0.57416        0.06836     0.28739    0.80375   \n",
       "\n",
       "      mouth_width  nose_width  lip_to_nose  lip_to_chin  \n",
       "김수현       0.22673     0.19088      0.20541      0.25671  \n",
       "아기1       0.59198     0.56177      0.22142      0.19154  \n",
       "양정길1      0.34220     0.27378      0.20647      0.18553  \n",
       "양정길2      0.45293     0.40625      0.20946      0.21260  \n",
       "양정길3      0.41902     0.35779      0.20500      0.17990  "
      ]
     },
     "execution_count": 11,
     "metadata": {},
     "output_type": "execute_result"
    }
   ],
   "source": [
    "landmark_ds = pd.DataFrame.from_csv('/Users/goodvc/data/fastcampus/week2/resource/landmark.csv')\n",
    "landmark_ds.head()"
   ]
  },
  {
   "cell_type": "code",
   "execution_count": 16,
   "metadata": {
    "collapsed": false
   },
   "outputs": [],
   "source": [
    "from scipy.spatial import distance\n",
    "\n",
    "## 유사도를 측정\n",
    "def most_similar(name, ds, distance_func=distance.euclidean):\n",
    "    v1 = ds.loc[name]\n",
    "    ret = []\n",
    "    for name, row in ds.iterrows():\n",
    "        ret.append( [name, round(distance_func(v1,row),5)] )\n",
    "    return pd.DataFrame(ret,columns = ['name','distance']).sort(['distance'], ascending=True)"
   ]
  },
  {
   "cell_type": "markdown",
   "metadata": {},
   "source": [
    "최규민1과 비슷한 사람은?"
   ]
  },
  {
   "cell_type": "code",
   "execution_count": 17,
   "metadata": {
    "collapsed": false
   },
   "outputs": [
    {
     "data": {
      "text/html": [
       "<div style=\"max-height:1000px;max-width:1500px;overflow:auto;\">\n",
       "<table border=\"1\" class=\"dataframe\">\n",
       "  <thead>\n",
       "    <tr style=\"text-align: right;\">\n",
       "      <th></th>\n",
       "      <th>name</th>\n",
       "      <th>distance</th>\n",
       "    </tr>\n",
       "  </thead>\n",
       "  <tbody>\n",
       "    <tr>\n",
       "      <th>9 </th>\n",
       "      <td> 최규민1</td>\n",
       "      <td> 0.00000</td>\n",
       "    </tr>\n",
       "    <tr>\n",
       "      <th>11</th>\n",
       "      <td> 최규민3</td>\n",
       "      <td> 0.09656</td>\n",
       "    </tr>\n",
       "    <tr>\n",
       "      <th>6 </th>\n",
       "      <td>   원빈</td>\n",
       "      <td> 0.12362</td>\n",
       "    </tr>\n",
       "    <tr>\n",
       "      <th>0 </th>\n",
       "      <td>  김수현</td>\n",
       "      <td> 0.14641</td>\n",
       "    </tr>\n",
       "    <tr>\n",
       "      <th>2 </th>\n",
       "      <td> 양정길1</td>\n",
       "      <td> 0.15176</td>\n",
       "    </tr>\n",
       "    <tr>\n",
       "      <th>10</th>\n",
       "      <td> 최규민2</td>\n",
       "      <td> 0.17575</td>\n",
       "    </tr>\n",
       "    <tr>\n",
       "      <th>4 </th>\n",
       "      <td> 양정길3</td>\n",
       "      <td> 0.40592</td>\n",
       "    </tr>\n",
       "    <tr>\n",
       "      <th>7 </th>\n",
       "      <td> 전명훈1</td>\n",
       "      <td> 0.42232</td>\n",
       "    </tr>\n",
       "    <tr>\n",
       "      <th>8 </th>\n",
       "      <td> 전명훈2</td>\n",
       "      <td> 0.52977</td>\n",
       "    </tr>\n",
       "    <tr>\n",
       "      <th>5 </th>\n",
       "      <td> 와이프1</td>\n",
       "      <td> 0.57110</td>\n",
       "    </tr>\n",
       "    <tr>\n",
       "      <th>3 </th>\n",
       "      <td> 양정길2</td>\n",
       "      <td> 0.58908</td>\n",
       "    </tr>\n",
       "    <tr>\n",
       "      <th>1 </th>\n",
       "      <td>  아기1</td>\n",
       "      <td> 1.19324</td>\n",
       "    </tr>\n",
       "  </tbody>\n",
       "</table>\n",
       "</div>"
      ],
      "text/plain": [
       "    name  distance\n",
       "9   최규민1   0.00000\n",
       "11  최규민3   0.09656\n",
       "6     원빈   0.12362\n",
       "0    김수현   0.14641\n",
       "2   양정길1   0.15176\n",
       "10  최규민2   0.17575\n",
       "4   양정길3   0.40592\n",
       "7   전명훈1   0.42232\n",
       "8   전명훈2   0.52977\n",
       "5   와이프1   0.57110\n",
       "3   양정길2   0.58908\n",
       "1    아기1   1.19324"
      ]
     },
     "execution_count": 17,
     "metadata": {},
     "output_type": "execute_result"
    }
   ],
   "source": [
    "most_similar('최규민1', landmark_ds, distance.euclidean)"
   ]
  },
  {
   "cell_type": "markdown",
   "metadata": {},
   "source": [
    "유사도 함수별 측정해 보자 \n",
    "* euclidean, cosine, correlation"
   ]
  },
  {
   "cell_type": "code",
   "execution_count": 20,
   "metadata": {
    "collapsed": false
   },
   "outputs": [
    {
     "name": "stdout",
     "output_type": "stream",
     "text": [
      "euclidean  일때 ***************\n",
      "     name  distance\n",
      "9   최규민1   0.00000\n",
      "11  최규민3   0.09656\n",
      "6     원빈   0.12362\n",
      "0    김수현   0.14641\n",
      "2   양정길1   0.15176\n",
      "10  최규민2   0.17575\n",
      "4   양정길3   0.40592\n",
      "7   전명훈1   0.42232\n",
      "8   전명훈2   0.52977\n",
      "5   와이프1   0.57110\n",
      "3   양정길2   0.58908\n",
      "1    아기1   1.19324\n",
      "cosine  일때 ***************\n",
      "     name  distance\n",
      "9   최규민1   0.00000\n",
      "11  최규민3   0.00259\n",
      "6     원빈   0.00323\n",
      "2   양정길1   0.00484\n",
      "0    김수현   0.00543\n",
      "10  최규민2   0.00737\n",
      "7   전명훈1   0.02268\n",
      "4   양정길3   0.02371\n",
      "8   전명훈2   0.03273\n",
      "5   와이프1   0.03712\n",
      "3   양정길2   0.04052\n",
      "1    아기1   0.10225\n",
      "correlation  일때 ***************\n",
      "     name  distance\n",
      "9   최규민1   0.00000\n",
      "11  최규민3   0.00689\n",
      "6     원빈   0.00781\n",
      "2   양정길1   0.01231\n",
      "0    김수현   0.01299\n",
      "10  최규민2   0.01609\n",
      "7   전명훈1   0.05465\n",
      "4   양정길3   0.06443\n",
      "8   전명훈2   0.08657\n",
      "5   와이프1   0.10307\n",
      "3   양정길2   0.11352\n",
      "1    아기1   0.29410\n"
     ]
    }
   ],
   "source": [
    "target='최규민1'\n",
    "\n",
    "for func in [distance.euclidean, distance.cosine, distance.correlation]:\n",
    "    print(func.__name__,\" 일때 ***************\\n\"\n",
    "          ,most_similar(target,landmark_ds, func))        "
   ]
  }
 ],
 "metadata": {
  "kernelspec": {
   "display_name": "Python 3",
   "language": "python",
   "name": "python3"
  },
  "language_info": {
   "codemirror_mode": {
    "name": "ipython",
    "version": 3
   },
   "file_extension": ".py",
   "mimetype": "text/x-python",
   "name": "python",
   "nbconvert_exporter": "python",
   "pygments_lexer": "ipython3",
   "version": "3.4.3"
  }
 },
 "nbformat": 4,
 "nbformat_minor": 0
}
