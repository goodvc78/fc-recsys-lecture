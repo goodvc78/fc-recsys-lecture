{
 "cells": [
  {
   "cell_type": "markdown",
   "metadata": {},
   "source": [
    "## 유사한 얼굴끼리 군집화 하기 \n",
    "1. 얼굴 Feature Vector 값 로드 \n",
    "2. 군집화 수 K결정 → \n",
    "$$ K \\approx  \\sqrt{\\frac{N}{2}} $$\n",
    "3. K-Means로 군집화\n",
    "4. 군집화 결과 보기 \n",
    "5. Centroid와 가장 유사한 얼굴 찾아 보기  : 중심 얼굴\n",
    "6. K의 값을 변경해 가면 적절한 값을 찾기 "
   ]
  },
  {
   "cell_type": "code",
   "execution_count": 204,
   "metadata": {
    "collapsed": false
   },
   "outputs": [
    {
     "data": {
      "text/html": [
       "<div style=\"max-height:1000px;max-width:1500px;overflow:auto;\">\n",
       "<table border=\"1\" class=\"dataframe\">\n",
       "  <thead>\n",
       "    <tr style=\"text-align: right;\">\n",
       "      <th></th>\n",
       "      <th>eye_width</th>\n",
       "      <th>lip_to_nose</th>\n",
       "      <th>mouth_width</th>\n",
       "      <th>face_width</th>\n",
       "      <th>face_height</th>\n",
       "      <th>lip_to_chin</th>\n",
       "      <th>eye_to_eye</th>\n",
       "      <th>nose_width</th>\n",
       "      <th>eyebrow_width</th>\n",
       "    </tr>\n",
       "  </thead>\n",
       "  <tbody>\n",
       "    <tr>\n",
       "      <th>김상범:1</th>\n",
       "      <td> 0.65332</td>\n",
       "      <td> 0.18036</td>\n",
       "      <td> 0.42371</td>\n",
       "      <td> 0.27891</td>\n",
       "      <td> 1</td>\n",
       "      <td> 0.27125</td>\n",
       "      <td> 0.46367</td>\n",
       "      <td> 0.28989</td>\n",
       "      <td> 0.07309</td>\n",
       "    </tr>\n",
       "    <tr>\n",
       "      <th>김상범:2</th>\n",
       "      <td> 0.45774</td>\n",
       "      <td> 0.17712</td>\n",
       "      <td> 0.30499</td>\n",
       "      <td> 0.17130</td>\n",
       "      <td> 1</td>\n",
       "      <td> 0.25579</td>\n",
       "      <td> 0.31862</td>\n",
       "      <td> 0.20503</td>\n",
       "      <td> 0.07676</td>\n",
       "    </tr>\n",
       "    <tr>\n",
       "      <th>김수현:1</th>\n",
       "      <td> 0.45107</td>\n",
       "      <td> 0.20541</td>\n",
       "      <td> 0.22673</td>\n",
       "      <td> 0.17002</td>\n",
       "      <td> 1</td>\n",
       "      <td> 0.25671</td>\n",
       "      <td> 0.31702</td>\n",
       "      <td> 0.19088</td>\n",
       "      <td> 0.06413</td>\n",
       "    </tr>\n",
       "    <tr>\n",
       "      <th>김수현:2</th>\n",
       "      <td> 0.38241</td>\n",
       "      <td> 0.19790</td>\n",
       "      <td> 0.20191</td>\n",
       "      <td> 0.15363</td>\n",
       "      <td> 1</td>\n",
       "      <td> 0.24290</td>\n",
       "      <td> 0.27322</td>\n",
       "      <td> 0.16854</td>\n",
       "      <td> 0.04680</td>\n",
       "    </tr>\n",
       "    <tr>\n",
       "      <th>김수현:3</th>\n",
       "      <td> 0.70781</td>\n",
       "      <td> 0.18121</td>\n",
       "      <td> 0.40702</td>\n",
       "      <td> 0.28452</td>\n",
       "      <td> 1</td>\n",
       "      <td> 0.21859</td>\n",
       "      <td> 0.50424</td>\n",
       "      <td> 0.32800</td>\n",
       "      <td> 0.05449</td>\n",
       "    </tr>\n",
       "  </tbody>\n",
       "</table>\n",
       "</div>"
      ],
      "text/plain": [
       "       eye_width  lip_to_nose  mouth_width  face_width  face_height  \\\n",
       "김상범:1    0.65332      0.18036      0.42371     0.27891            1   \n",
       "김상범:2    0.45774      0.17712      0.30499     0.17130            1   \n",
       "김수현:1    0.45107      0.20541      0.22673     0.17002            1   \n",
       "김수현:2    0.38241      0.19790      0.20191     0.15363            1   \n",
       "김수현:3    0.70781      0.18121      0.40702     0.28452            1   \n",
       "\n",
       "       lip_to_chin  eye_to_eye  nose_width  eyebrow_width  \n",
       "김상범:1      0.27125     0.46367     0.28989        0.07309  \n",
       "김상범:2      0.25579     0.31862     0.20503        0.07676  \n",
       "김수현:1      0.25671     0.31702     0.19088        0.06413  \n",
       "김수현:2      0.24290     0.27322     0.16854        0.04680  \n",
       "김수현:3      0.21859     0.50424     0.32800        0.05449  "
      ]
     },
     "execution_count": 204,
     "metadata": {},
     "output_type": "execute_result"
    }
   ],
   "source": [
    "## 1. 얼굴 Feature Vector 값 로드 \n",
    "\n",
    "import pandas as pd \n",
    "landmark_ds = pd.DataFrame.from_csv('/Users/goodvc/data/fastcampus/week2/resource/landmark.csv')\n",
    "landmark_ds.head()"
   ]
  },
  {
   "cell_type": "markdown",
   "metadata": {},
   "source": [
    "---\n",
    "## K-Means로 클러스터링하기"
   ]
  },
  {
   "cell_type": "markdown",
   "metadata": {},
   "source": [
    "* 군집화 수 결정\n",
    "$$ K \\approx  \\sqrt{\\frac{N}{2}} $$\n"
   ]
  },
  {
   "cell_type": "code",
   "execution_count": 217,
   "metadata": {
    "collapsed": false
   },
   "outputs": [
    {
     "name": "stdout",
     "output_type": "stream",
     "text": [
      "K= 4\n"
     ]
    }
   ],
   "source": [
    "## 2. 군집화 수 K결정 sqrt(N/2)\n",
    "import numpy as np\n",
    "import math\n",
    "\n",
    "K = math.ceil(np.sqrt(landmark_ds.count()[0]/2))\n",
    "print (\"K=\", K)\n"
   ]
  },
  {
   "cell_type": "code",
   "execution_count": 218,
   "metadata": {
    "collapsed": false
   },
   "outputs": [
    {
     "data": {
      "text/plain": [
       "KMeans(copy_x=True, init='k-means++', max_iter=300, n_clusters=4, n_init=10,\n",
       "    n_jobs=1, precompute_distances='auto', random_state=None, tol=0.0001,\n",
       "    verbose=0)"
      ]
     },
     "execution_count": 218,
     "metadata": {},
     "output_type": "execute_result"
    }
   ],
   "source": [
    "from sklearn.cluster import KMeans\n",
    "X = landmark_ds.values\n",
    "cluster = KMeans(n_clusters=K)\n",
    "cluster.fit(X)"
   ]
  },
  {
   "cell_type": "code",
   "execution_count": 220,
   "metadata": {
    "collapsed": false
   },
   "outputs": [
    {
     "data": {
      "text/plain": [
       "{0: ['아기:1', '황영식:1', '황영식:2'],\n",
       " 1: ['김상범:1', '김수현:3', '양정길:1', '원빈:1', '원빈:2', '황전식:1', '황전식:2', '황전식:3'],\n",
       " 2: ['김상범:2', '김수현:1', '김수현:2', '원빈:3', '최규민:1', '최규민:2', '최규민:3'],\n",
       " 3: ['양정길:2', '양정길:3', '와이프:1', '전명훈:1', '전명훈:2']}"
      ]
     },
     "execution_count": 220,
     "metadata": {},
     "output_type": "execute_result"
    }
   ],
   "source": [
    "## cluster 결과 \n",
    "clustered = pd.DataFrame( [[a,b] for a,b in zip(landmark_ds.index, cluster.labels_)], \\\n",
    "                         columns=['name','group-id'], \\\n",
    "                         index=landmark_ds.index )\n",
    "clustered.groupby(['group-id']).groups"
   ]
  },
  {
   "cell_type": "code",
   "execution_count": 221,
   "metadata": {
    "collapsed": false
   },
   "outputs": [
    {
     "data": {
      "text/plain": [
       "array([[ 1.24233333,  0.20926667,  0.68006667,  0.47554   ,  1.        ,\n",
       "         0.21665667,  0.85434333,  0.54325667,  0.06132   ],\n",
       "       [ 0.63088875,  0.18807125,  0.36962   ,  0.25897625,  1.        ,\n",
       "         0.23419875,  0.44586875,  0.2851675 ,  0.06321125],\n",
       "       [ 0.44821286,  0.19528571,  0.25528571,  0.17713429,  1.        ,\n",
       "         0.25135143,  0.31894286,  0.19491286,  0.05940429],\n",
       "       [ 0.86043   ,  0.199106  ,  0.486568  ,  0.328156  ,  1.        ,\n",
       "         0.228484  ,  0.60881   ,  0.395158  ,  0.064618  ]])"
      ]
     },
     "execution_count": 221,
     "metadata": {},
     "output_type": "execute_result"
    }
   ],
   "source": [
    "cluster.cluster_centers_\n",
    "\n",
    "\n",
    "\n"
   ]
  },
  {
   "cell_type": "markdown",
   "metadata": {},
   "source": [
    "## 군집화의 적정성 평가  ( 주관적 평가)\n",
    "* 동일한 사람이 동일한 클러스터 많이 묶일수록 군집화가 적정하다. \n",
    "* 클러스터의 평균 이름수가 작을 수록 군집화가 적절하다고 판단"
   ]
  },
  {
   "cell_type": "code",
   "execution_count": 215,
   "metadata": {
    "collapsed": false
   },
   "outputs": [
    {
     "data": {
      "text/plain": [
       "3.75"
      ]
     },
     "execution_count": 215,
     "metadata": {},
     "output_type": "execute_result"
    }
   ],
   "source": [
    "clustered['name_only'] = clustered['name'].apply(lambda x: x.split(':')[0])\n",
    "clustered.groupby('group-id').name_only.nunique().mean()"
   ]
  },
  {
   "cell_type": "code",
   "execution_count": 216,
   "metadata": {
    "collapsed": false
   },
   "outputs": [
    {
     "data": {
      "text/html": [
       "<div style=\"max-height:1000px;max-width:1500px;overflow:auto;\">\n",
       "<table border=\"1\" class=\"dataframe\">\n",
       "  <thead>\n",
       "    <tr style=\"text-align: right;\">\n",
       "      <th></th>\n",
       "      <th>name</th>\n",
       "      <th>group-id</th>\n",
       "      <th>name_only</th>\n",
       "    </tr>\n",
       "  </thead>\n",
       "  <tbody>\n",
       "    <tr>\n",
       "      <th>김상범:1</th>\n",
       "      <td> 김상범:1</td>\n",
       "      <td> 3</td>\n",
       "      <td> 김상범</td>\n",
       "    </tr>\n",
       "    <tr>\n",
       "      <th>김상범:2</th>\n",
       "      <td> 김상범:2</td>\n",
       "      <td> 2</td>\n",
       "      <td> 김상범</td>\n",
       "    </tr>\n",
       "    <tr>\n",
       "      <th>김수현:1</th>\n",
       "      <td> 김수현:1</td>\n",
       "      <td> 2</td>\n",
       "      <td> 김수현</td>\n",
       "    </tr>\n",
       "    <tr>\n",
       "      <th>김수현:2</th>\n",
       "      <td> 김수현:2</td>\n",
       "      <td> 2</td>\n",
       "      <td> 김수현</td>\n",
       "    </tr>\n",
       "    <tr>\n",
       "      <th>김수현:3</th>\n",
       "      <td> 김수현:3</td>\n",
       "      <td> 3</td>\n",
       "      <td> 김수현</td>\n",
       "    </tr>\n",
       "    <tr>\n",
       "      <th>아기:1</th>\n",
       "      <td>  아기:1</td>\n",
       "      <td> 0</td>\n",
       "      <td>  아기</td>\n",
       "    </tr>\n",
       "    <tr>\n",
       "      <th>양정길:1</th>\n",
       "      <td> 양정길:1</td>\n",
       "      <td> 3</td>\n",
       "      <td> 양정길</td>\n",
       "    </tr>\n",
       "    <tr>\n",
       "      <th>양정길:2</th>\n",
       "      <td> 양정길:2</td>\n",
       "      <td> 1</td>\n",
       "      <td> 양정길</td>\n",
       "    </tr>\n",
       "    <tr>\n",
       "      <th>양정길:3</th>\n",
       "      <td> 양정길:3</td>\n",
       "      <td> 1</td>\n",
       "      <td> 양정길</td>\n",
       "    </tr>\n",
       "    <tr>\n",
       "      <th>와이프:1</th>\n",
       "      <td> 와이프:1</td>\n",
       "      <td> 1</td>\n",
       "      <td> 와이프</td>\n",
       "    </tr>\n",
       "    <tr>\n",
       "      <th>원빈:1</th>\n",
       "      <td>  원빈:1</td>\n",
       "      <td> 3</td>\n",
       "      <td>  원빈</td>\n",
       "    </tr>\n",
       "    <tr>\n",
       "      <th>원빈:2</th>\n",
       "      <td>  원빈:2</td>\n",
       "      <td> 3</td>\n",
       "      <td>  원빈</td>\n",
       "    </tr>\n",
       "    <tr>\n",
       "      <th>원빈:3</th>\n",
       "      <td>  원빈:3</td>\n",
       "      <td> 2</td>\n",
       "      <td>  원빈</td>\n",
       "    </tr>\n",
       "    <tr>\n",
       "      <th>전명훈:1</th>\n",
       "      <td> 전명훈:1</td>\n",
       "      <td> 1</td>\n",
       "      <td> 전명훈</td>\n",
       "    </tr>\n",
       "    <tr>\n",
       "      <th>전명훈:2</th>\n",
       "      <td> 전명훈:2</td>\n",
       "      <td> 1</td>\n",
       "      <td> 전명훈</td>\n",
       "    </tr>\n",
       "    <tr>\n",
       "      <th>최규민:1</th>\n",
       "      <td> 최규민:1</td>\n",
       "      <td> 2</td>\n",
       "      <td> 최규민</td>\n",
       "    </tr>\n",
       "    <tr>\n",
       "      <th>최규민:2</th>\n",
       "      <td> 최규민:2</td>\n",
       "      <td> 2</td>\n",
       "      <td> 최규민</td>\n",
       "    </tr>\n",
       "    <tr>\n",
       "      <th>최규민:3</th>\n",
       "      <td> 최규민:3</td>\n",
       "      <td> 2</td>\n",
       "      <td> 최규민</td>\n",
       "    </tr>\n",
       "    <tr>\n",
       "      <th>황영식:1</th>\n",
       "      <td> 황영식:1</td>\n",
       "      <td> 0</td>\n",
       "      <td> 황영식</td>\n",
       "    </tr>\n",
       "    <tr>\n",
       "      <th>황영식:2</th>\n",
       "      <td> 황영식:2</td>\n",
       "      <td> 0</td>\n",
       "      <td> 황영식</td>\n",
       "    </tr>\n",
       "    <tr>\n",
       "      <th>황전식:1</th>\n",
       "      <td> 황전식:1</td>\n",
       "      <td> 2</td>\n",
       "      <td> 황전식</td>\n",
       "    </tr>\n",
       "    <tr>\n",
       "      <th>황전식:2</th>\n",
       "      <td> 황전식:2</td>\n",
       "      <td> 3</td>\n",
       "      <td> 황전식</td>\n",
       "    </tr>\n",
       "    <tr>\n",
       "      <th>황전식:3</th>\n",
       "      <td> 황전식:3</td>\n",
       "      <td> 3</td>\n",
       "      <td> 황전식</td>\n",
       "    </tr>\n",
       "  </tbody>\n",
       "</table>\n",
       "</div>"
      ],
      "text/plain": [
       "        name  group-id name_only\n",
       "김상범:1  김상범:1         3       김상범\n",
       "김상범:2  김상범:2         2       김상범\n",
       "김수현:1  김수현:1         2       김수현\n",
       "김수현:2  김수현:2         2       김수현\n",
       "김수현:3  김수현:3         3       김수현\n",
       "아기:1    아기:1         0        아기\n",
       "양정길:1  양정길:1         3       양정길\n",
       "양정길:2  양정길:2         1       양정길\n",
       "양정길:3  양정길:3         1       양정길\n",
       "와이프:1  와이프:1         1       와이프\n",
       "원빈:1    원빈:1         3        원빈\n",
       "원빈:2    원빈:2         3        원빈\n",
       "원빈:3    원빈:3         2        원빈\n",
       "전명훈:1  전명훈:1         1       전명훈\n",
       "전명훈:2  전명훈:2         1       전명훈\n",
       "최규민:1  최규민:1         2       최규민\n",
       "최규민:2  최규민:2         2       최규민\n",
       "최규민:3  최규민:3         2       최규민\n",
       "황영식:1  황영식:1         0       황영식\n",
       "황영식:2  황영식:2         0       황영식\n",
       "황전식:1  황전식:1         2       황전식\n",
       "황전식:2  황전식:2         3       황전식\n",
       "황전식:3  황전식:3         3       황전식"
      ]
     },
     "execution_count": 216,
     "metadata": {},
     "output_type": "execute_result"
    }
   ],
   "source": []
  },
  {
   "cell_type": "markdown",
   "metadata": {},
   "source": [
    "---\n",
    "## Hierarchical Clustering으로 군집화 하기 "
   ]
  },
  {
   "cell_type": "code",
   "execution_count": 209,
   "metadata": {
    "collapsed": false
   },
   "outputs": [
    {
     "data": {
      "text/plain": [
       "AgglomerativeClustering(affinity='euclidean', compute_full_tree='auto',\n",
       "            connectivity=None, linkage='ward',\n",
       "            memory=Memory(cachedir=None), n_clusters=4, n_components=None,\n",
       "            pooling_func=<function mean at 0x105188048>)"
      ]
     },
     "execution_count": 209,
     "metadata": {},
     "output_type": "execute_result"
    }
   ],
   "source": [
    "from sklearn.cluster import AgglomerativeClustering\n",
    "X = landmark_ds.values\n",
    "cluster = AgglomerativeClustering(n_clusters=K,affinity='euclidean',linkage='ward')\n",
    "cluster.fit(X)"
   ]
  },
  {
   "cell_type": "code",
   "execution_count": 210,
   "metadata": {
    "collapsed": false
   },
   "outputs": [
    {
     "data": {
      "text/plain": [
       "{0: ['아기:1', '황영식:1', '황영식:2'],\n",
       " 1: ['양정길:2', '양정길:3', '와이프:1', '전명훈:1', '전명훈:2'],\n",
       " 2: ['김상범:2', '김수현:1', '김수현:2', '원빈:3', '최규민:1', '최규민:2', '최규민:3', '황전식:1'],\n",
       " 3: ['김상범:1', '김수현:3', '양정길:1', '원빈:1', '원빈:2', '황전식:2', '황전식:3']}"
      ]
     },
     "execution_count": 210,
     "metadata": {},
     "output_type": "execute_result"
    }
   ],
   "source": [
    "## cluster 결과 \n",
    "clustered = pd.DataFrame( [[a,b] for a,b in zip(landmark_ds.index, cluster.labels_)], \\\n",
    "                         columns=['name','group-id'], \\\n",
    "                         index=landmark_ds.index )\n",
    "clustered.groupby(['group-id']).groups"
   ]
  },
  {
   "cell_type": "code",
   "execution_count": 201,
   "metadata": {
    "collapsed": false
   },
   "outputs": [
    {
     "data": {
      "text/plain": [
       "3.75"
      ]
     },
     "execution_count": 201,
     "metadata": {},
     "output_type": "execute_result"
    }
   ],
   "source": [
    "clustered['name_only'] = clustered['name'].apply(lambda x: x.split(':')[0])\n",
    "clustered.groupby('group-id').name_only.nunique().mean()"
   ]
  },
  {
   "cell_type": "code",
   "execution_count": 213,
   "metadata": {
    "collapsed": false
   },
   "outputs": [
    {
     "data": {
      "text/plain": [
       "name    5.75\n",
       "dtype: float64"
      ]
     },
     "execution_count": 213,
     "metadata": {},
     "output_type": "execute_result"
    }
   ],
   "source": []
  }
 ],
 "metadata": {
  "kernelspec": {
   "display_name": "Python 3",
   "language": "python",
   "name": "python3"
  },
  "language_info": {
   "codemirror_mode": {
    "name": "ipython",
    "version": 3
   },
   "file_extension": ".py",
   "mimetype": "text/x-python",
   "name": "python",
   "nbconvert_exporter": "python",
   "pygments_lexer": "ipython3",
   "version": "3.4.3"
  }
 },
 "nbformat": 4,
 "nbformat_minor": 0
}
