{
 "cells": [
  {
   "cell_type": "markdown",
   "metadata": {},
   "source": [
    "## facial point 정보를 수집하여 csv로 저장"
   ]
  },
  {
   "cell_type": "markdown",
   "metadata": {},
   "source": [
    "* image-url로 부터 facial point 수집하는 api"
   ]
  },
  {
   "cell_type": "code",
   "execution_count": 27,
   "metadata": {
    "collapsed": true
   },
   "outputs": [],
   "source": [
    "import urllib.parse\n",
    "import urllib.request\n",
    "import json\n",
    "\n",
    "## face detect api call \n",
    "def face_detect(imgurl):\n",
    "    url = 'http://apius.faceplusplus.com/v2/detection/detect'\n",
    "    headers = { 'User-Agent' : 'Mozilla/5.0 (Macintosh; Intel Mac OS X 10_9_5) AppleWebKit/537.36 (KHTML, like Gecko) Chrome/45.0.2454.101 Safari/537.36',\n",
    "               'Origin':'http://www.faceplusplus.com', \n",
    "               'Accept-Language':'ko-KR,ko;q=0.8,en-US;q=0.6,en;q=0.4', \n",
    "               'Content-type':'application/x-www-form-urlencoded', \n",
    "               'Accept':'*/*', \n",
    "               'Referer':'http://www.faceplusplus.com/demo-landmark/', \n",
    "               'Connection':'keep-alive'\n",
    "              }\n",
    "    values = {'attribute' : 'none',\n",
    "              'url' : imgurl,\n",
    "              'api_key' : 'e6f2c06ac2b93b1ae6aad80b90d49eb0',\n",
    "              'api_secret' : '8o_amgigF4dV4EHZ2OOVEejDeXq4qFab'}\n",
    "\n",
    "    data = urllib.parse.urlencode(values)\n",
    "    data = data.encode(u'utf-8')\n",
    "    req = urllib.request.Request(url, data, headers)\n",
    "    response = urllib.request.urlopen(req)\n",
    "    response_data = response.read()\n",
    "    response.close()\n",
    "    return json.loads(response_data.decode('utf-8'))\n",
    "\n",
    "## face landmark api call by face_id\n",
    "def face_landmark(faceid):\n",
    "    url = 'http://apius.faceplusplus.com/v2/detection/landmark'\n",
    "    headers = { 'User-Agent' : 'Mozilla/5.0 (Macintosh; Intel Mac OS X 10_9_5) AppleWebKit/537.36 (KHTML, like Gecko) Chrome/45.0.2454.101 Safari/537.36',\n",
    "               'Origin':'http://www.faceplusplus.com', \n",
    "               'Accept-Language':'ko-KR,ko;q=0.8,en-US;q=0.6,en;q=0.4', \n",
    "               'Content-type':'application/x-www-form-urlencoded', \n",
    "               'Accept':'*/*', \n",
    "               'Referer':'http://www.faceplusplus.com/demo-landmark/', \n",
    "               'Connection':'keep-alive'\n",
    "              }\n",
    "    values = {'face_id' : faceid,\n",
    "              'type' : '83p',\n",
    "              'api_key' : 'e6f2c06ac2b93b1ae6aad80b90d49eb0',\n",
    "              'api_secret' : '8o_amgigF4dV4EHZ2OOVEejDeXq4qFab'}\n",
    "    data = urllib.parse.urlencode(values)\n",
    "    data = data.encode(u'utf-8')\n",
    "\n",
    "    req = urllib.request.Request(url, data, headers)\n",
    "\n",
    "    response = urllib.request.urlopen(req)\n",
    "    response_data = response.read()\n",
    "    response.close()\n",
    "    return json.loads(response_data.decode('utf-8'))\n",
    "\n",
    "def  extract_face_landmark( imgurl, face_index=0 ) :\n",
    "    fd = face_detect(imgurl)\n",
    "    face_id = fd['face'][face_index]['face_id']\n",
    "    return face_landmark(face_id)\n",
    "    "
   ]
  },
  {
   "cell_type": "code",
   "execution_count": 28,
   "metadata": {
    "collapsed": true
   },
   "outputs": [
    {
     "data": {
      "text/plain": [
       "{'result': [{'face_id': 'becacf4783227833bd4348dd459863cd',\n",
       "   'landmark': {'contour_chin': {'x': 46.870333, 'y': 39.516444},\n",
       "    'contour_left1': {'x': 39.563, 'y': 24.433778},\n",
       "    'contour_left2': {'x': 39.6425, 'y': 26.722},\n",
       "    'contour_left3': {'x': 39.836667, 'y': 28.721333},\n",
       "    'contour_left4': {'x': 40.219, 'y': 30.990889},\n",
       "    'contour_left5': {'x': 40.659333, 'y': 32.897778},\n",
       "    'contour_left6': {'x': 41.447333, 'y': 34.854222},\n",
       "    'contour_left7': {'x': 42.452333, 'y': 36.781556},\n",
       "    'contour_left8': {'x': 43.545833, 'y': 38.136667},\n",
       "    'contour_left9': {'x': 45.202167, 'y': 39.372444},\n",
       "    'contour_right1': {'x': 54.509167, 'y': 22.996222},\n",
       "    'contour_right2': {'x': 54.733833, 'y': 25.442667},\n",
       "    'contour_right3': {'x': 54.652167, 'y': 27.907778},\n",
       "    'contour_right4': {'x': 54.464167, 'y': 30.252222},\n",
       "    'contour_right5': {'x': 53.924167, 'y': 32.507333},\n",
       "    'contour_right6': {'x': 53.326167, 'y': 34.674667},\n",
       "    'contour_right7': {'x': 52.0905, 'y': 36.589111},\n",
       "    'contour_right8': {'x': 50.638167, 'y': 37.974889},\n",
       "    'contour_right9': {'x': 48.954, 'y': 39.166667},\n",
       "    'left_eye_bottom': {'x': 42.709833, 'y': 24.540444},\n",
       "    'left_eye_center': {'x': 42.621167, 'y': 24.078667},\n",
       "    'left_eye_left_corner': {'x': 41.411333, 'y': 24.381333},\n",
       "    'left_eye_lower_left_quarter': {'x': 41.884, 'y': 24.394667},\n",
       "    'left_eye_lower_right_quarter': {'x': 43.3445, 'y': 24.346889},\n",
       "    'left_eye_pupil': {'x': 42.766, 'y': 23.983333},\n",
       "    'left_eye_right_corner': {'x': 44.1705, 'y': 24.335556},\n",
       "    'left_eye_top': {'x': 42.576, 'y': 23.537111},\n",
       "    'left_eye_upper_left_quarter': {'x': 41.919833, 'y': 23.872},\n",
       "    'left_eye_upper_right_quarter': {'x': 43.293333, 'y': 23.781333},\n",
       "    'left_eyebrow_left_corner': {'x': 40.130667, 'y': 21.960844},\n",
       "    'left_eyebrow_lower_left_quarter': {'x': 41.114833, 'y': 21.333133},\n",
       "    'left_eyebrow_lower_middle': {'x': 42.177, 'y': 21.3098},\n",
       "    'left_eyebrow_lower_right_quarter': {'x': 43.217667, 'y': 21.431222},\n",
       "    'left_eyebrow_right_corner': {'x': 44.260833, 'y': 21.645022},\n",
       "    'left_eyebrow_upper_left_quarter': {'x': 40.973667, 'y': 20.7442},\n",
       "    'left_eyebrow_upper_middle': {'x': 42.1245, 'y': 20.468622},\n",
       "    'left_eyebrow_upper_right_quarter': {'x': 43.271667, 'y': 20.823022},\n",
       "    'mouth_left_corner': {'x': 43.484167, 'y': 32.765556},\n",
       "    'mouth_lower_lip_bottom': {'x': 46.511833, 'y': 34.795778},\n",
       "    'mouth_lower_lip_left_contour1': {'x': 45.014333, 'y': 33.291778},\n",
       "    'mouth_lower_lip_left_contour2': {'x': 44.260833, 'y': 33.721111},\n",
       "    'mouth_lower_lip_left_contour3': {'x': 45.255167, 'y': 34.527556},\n",
       "    'mouth_lower_lip_right_contour1': {'x': 48.020833, 'y': 33.133778},\n",
       "    'mouth_lower_lip_right_contour2': {'x': 48.959833, 'y': 33.422889},\n",
       "    'mouth_lower_lip_right_contour3': {'x': 47.7285, 'y': 34.502},\n",
       "    'mouth_lower_lip_top': {'x': 46.429833, 'y': 33.569333},\n",
       "    'mouth_right_corner': {'x': 49.917167, 'y': 32.161556},\n",
       "    'mouth_upper_lip_bottom': {'x': 46.324333, 'y': 32.866},\n",
       "    'mouth_upper_lip_left_contour1': {'x': 45.619833, 'y': 32.007778},\n",
       "    'mouth_upper_lip_left_contour2': {'x': 44.3425, 'y': 32.411111},\n",
       "    'mouth_upper_lip_left_contour3': {'x': 45.119333, 'y': 32.826222},\n",
       "    'mouth_upper_lip_right_contour1': {'x': 46.919667, 'y': 31.906444},\n",
       "    'mouth_upper_lip_right_contour2': {'x': 48.309667, 'y': 31.894889},\n",
       "    'mouth_upper_lip_right_contour3': {'x': 48.011, 'y': 32.529111},\n",
       "    'mouth_upper_lip_top': {'x': 46.234833, 'y': 32.052},\n",
       "    'nose_contour_left1': {'x': 45.256833, 'y': 24.126444},\n",
       "    'nose_contour_left2': {'x': 44.583167, 'y': 27.432444},\n",
       "    'nose_contour_left3': {'x': 44.920333, 'y': 29.950444},\n",
       "    'nose_contour_lower_middle': {'x': 46.128333, 'y': 30.182222},\n",
       "    'nose_contour_right1': {'x': 46.8355, 'y': 23.947556},\n",
       "    'nose_contour_right2': {'x': 47.476167, 'y': 27.186444},\n",
       "    'nose_contour_right3': {'x': 47.342, 'y': 29.806889},\n",
       "    'nose_left': {'x': 43.8845, 'y': 29.219778},\n",
       "    'nose_right': {'x': 48.420833, 'y': 28.996889},\n",
       "    'nose_tip': {'x': 45.8285, 'y': 28.680889},\n",
       "    'right_eye_bottom': {'x': 49.710667, 'y': 23.790889},\n",
       "    'right_eye_center': {'x': 49.723, 'y': 23.424667},\n",
       "    'right_eye_left_corner': {'x': 48.332167, 'y': 23.825333},\n",
       "    'right_eye_lower_left_quarter': {'x': 49.029833, 'y': 23.787111},\n",
       "    'right_eye_lower_right_quarter': {'x': 50.623167, 'y': 23.605556},\n",
       "    'right_eye_pupil': {'x': 49.837333, 'y': 23.349111},\n",
       "    'right_eye_right_corner': {'x': 51.333333, 'y': 23.384},\n",
       "    'right_eye_top': {'x': 49.611167, 'y': 23.050889},\n",
       "    'right_eye_upper_left_quarter': {'x': 48.975333, 'y': 23.216667},\n",
       "    'right_eye_upper_right_quarter': {'x': 50.388, 'y': 23.096444},\n",
       "    'right_eyebrow_left_corner': {'x': 47.5245, 'y': 21.065533},\n",
       "    'right_eyebrow_lower_left_quarter': {'x': 48.645, 'y': 20.969889},\n",
       "    'right_eyebrow_lower_middle': {'x': 49.7605, 'y': 20.727756},\n",
       "    'right_eyebrow_lower_right_quarter': {'x': 51.063333, 'y': 20.718178},\n",
       "    'right_eyebrow_right_corner': {'x': 52.138167, 'y': 21.139978},\n",
       "    'right_eyebrow_upper_left_quarter': {'x': 48.576667, 'y': 20.0346},\n",
       "    'right_eyebrow_upper_middle': {'x': 49.652333, 'y': 19.742422},\n",
       "    'right_eyebrow_upper_right_quarter': {'x': 51.110833, 'y': 20.070533}}}],\n",
       " 'session_id': '06825afe0ed548a0931ad8054c40cc68'}"
      ]
     },
     "execution_count": 28,
     "metadata": {},
     "output_type": "execute_result"
    }
   ],
   "source": [
    "extract_face_landmark('https://fbcdn-sphotos-g-a.akamaihd.net/hphotos-ak-xta1/v/t1.0-9/12122398_906503296086905_9053689686321602818_n.jpg?oh=80fcaf06feebc607119139261daa82ee&oe=5696C59E&__gda__=1452163095_656cdb05f7f03f0920879b17b79041be' )"
   ]
  },
  {
   "cell_type": "code",
   "execution_count": 94,
   "metadata": {
    "collapsed": false
   },
   "outputs": [],
   "source": [
    "import json\n",
    "import numpy as np\n",
    "from scipy.spatial import distance\n",
    "\n",
    "def pos_distance(l,r):\n",
    "#    print(l,r)\n",
    "    return round(distance.euclidean( [l['x'], l['y']], [r['x'], r['y']] ),5)\n",
    "\n",
    "def pos_center(l,r):\n",
    "    return {'x':(l['x']+r['x'])/2, 'y':(l['y']+r['y'])/2}\n",
    "\n",
    "def extract_face_feature(facial_info):\n",
    "    cal_items = {'face_width'    :['contour_left9', 'contour_right9']\n",
    "                 ,'face_height'  :['eyebrow_center','contour_chin']\n",
    "                 ,'mouth_width'  :['mouth_left_corner','mouth_right_corner']  \n",
    "                 ,'nose_width'   :['nose_left','nose_right']  \n",
    "                 ,'eye_width'    :['left_eye_left_corner','right_eye_right_corner']  \n",
    "                 ,'eye_to_eye'   :['left_eye_center','right_eye_center']  \n",
    "                 ,'eyebrow_width':['left_eyebrow_upper_middle','left_eyebrow_lower_middle']  \n",
    "                 ,'lip_to_chin'  :['mouth_lower_lip_bottom','contour_chin']  \n",
    "                 ,'lip_to_nose'  :['nose_tip','mouth_upper_lip_top']}\n",
    "    \n",
    "    keypoint = {}\n",
    "    \n",
    "    ## json string to object\n",
    "    info = facial_info\n",
    "    if type(facial_info) == str:\n",
    "        info = json.loads(facial_info)\n",
    "    \n",
    "    facial_pos = info['result'][0]['landmark']\n",
    "    ## add center position\n",
    "    facial_pos['eyebrow_center'] = pos_center( facial_pos['left_eyebrow_upper_middle'], facial_pos['right_eyebrow_upper_middle']) \n",
    "    \n",
    "    ## calculate key point\n",
    "    for (k,v) in cal_items.items(): ## iteritems() for python2.7\n",
    "        keypoint[k] = pos_distance(facial_pos[v[0]], facial_pos[v[1]])\n",
    "        \n",
    "    return keypoint\n",
    "\n",
    "def normalize_dict(data, max_value):\n",
    "    for k in data.keys():\n",
    "        data[k] = round(data[k]/max_value,5)\n",
    "    return data\n",
    "\n",
    "def get_feature_vector( keypoint ):\n",
    "    ff = extract_face_feature(keypoint)\n",
    "    ff = normalize_dict(ff, ff['face_height'])\n",
    "    return ff"
   ]
  },
  {
   "cell_type": "code",
   "execution_count": null,
   "metadata": {
    "collapsed": true
   },
   "outputs": [],
   "source": [
    "def extract_face_feature(facial_info):\n",
    "    cal_items = {'face_width'    :['contour_left9', 'contour_right9']\n",
    "                 ,'face_height'  :['eyebrow_center','contour_chin']\n",
    "                 ,'mouth_width'  :['mouth_left_corner','mouth_right_corner']  \n",
    "                 ,'nose_width'   :['nose_left','nose_right']  \n",
    "                 ,'eye_width'    :['left_eye_left_corner','right_eye_right_corner']  \n",
    "                 ,'eye_to_eye'   :['left_eye_center','right_eye_center']  \n",
    "                 ,'eyebrow_width':['left_eyebrow_upper_middle','left_eyebrow_lower_middle']  \n",
    "                 ,'lip_to_chin'  :['mouth_lower_lip_bottom','contour_chin']  \n",
    "                 ,'lip_to_nose'  :['nose_tip','mouth_upper_lip_top']}\n",
    "    \n",
    "    keypoint = {}\n",
    "    \n",
    "    ## json string to object\n",
    "    info = facial_info\n",
    "    if type(facial_info) == str:\n",
    "        info = json.loads(facial_info)\n",
    "    \n",
    "    facial_pos = info['result'][0]['landmark']\n",
    "    ## add center position\n",
    "    facial_pos['eyebrow_center'] = pos_center( facial_pos['left_eyebrow_upper_middle'], facial_pos['right_eyebrow_upper_middle']) \n",
    "    \n",
    "    ## calculate key point\n",
    "    for (k,v) in cal_items.items(): ## iteritems() for python2.7\n",
    "        keypoint[k] = pos_distance(facial_pos[v[0]], facial_pos[v[1]])\n",
    "        \n",
    "    return keypoint\n"
   ]
  },
  {
   "cell_type": "code",
   "execution_count": null,
   "metadata": {
    "collapsed": true
   },
   "outputs": [],
   "source": []
  },
  {
   "cell_type": "code",
   "execution_count": 102,
   "metadata": {
    "collapsed": true
   },
   "outputs": [],
   "source": [
    "## 수집할 image url \n",
    "image_data = { '최규민1':'https://fbcdn-sphotos-g-a.akamaihd.net/hphotos-ak-xta1/v/t1.0-9/12122398_906503296086905_9053689686321602818_n.jpg?oh=80fcaf06feebc607119139261daa82ee&oe=5696C59E&__gda__=1452163095_656cdb05f7f03f0920879b17b79041be'\n",
    "              , '최규민2' : 'https://fbcdn-sphotos-e-a.akamaihd.net/hphotos-ak-xpa1/t31.0-8/1517851_906503269420241_4763040186730610966_o.jpg'\n",
    "              , '최규민3' : 'https://fbcdn-sphotos-b-a.akamaihd.net/hphotos-ak-xtp1/v/t1.0-9/12118701_906503272753574_7177447444403669300_n.jpg?oh=3c594eb747cee0fad0417f661953779e&oe=56924967&__gda__=1456109393_d48c1b3f84d74dd8dbcaac4d31e12429'\n",
    "              , '와이프1' : 'https://fbcdn-sphotos-a-a.akamaihd.net/hphotos-ak-xpa1/v/t1.0-9/12108061_907705495966685_5481740761293586247_n.jpg?oh=398bdb849e0b91c4bb177ba84989302f&oe=56D21979&__gda__=1451609793_60d987ad6bc86213787e0530858396e1'\n",
    "              , '아기1' : 'https://scontent.xx.fbcdn.net/hphotos-xpt1/v/t1.0-9/12074727_907707092633192_9020724559277292808_n.jpg?oh=5759280c32c56e99159d974a13f44bcb&oe=569D6AFA'\n",
    "              , '전명훈1' : 'https://fbcdn-sphotos-h-a.akamaihd.net/hphotos-ak-xap1/v/t1.0-9/12140604_972525119474378_7475998966124883876_n.jpg?oh=383f560d042e194e9152c5919286fab8&oe=56CE8322&__gda__=1456399102_e2ac965c1f3878d6a66c966ec888e45a'\n",
    "              , '전명훈2' : 'https://fbcdn-sphotos-f-a.akamaihd.net/hphotos-ak-xap1/v/t1.0-9/12122612_972525132807710_7394758924527322556_n.jpg?oh=e422202838f486fdc2bb27941abb46a0&oe=568728E9&__gda__=1453230645_58f4314b4560b0a89a48287f87e31ebc'\n",
    "              , '양정길1' : 'https://fbcdn-sphotos-d-a.akamaihd.net/hphotos-ak-xpl1/v/t1.0-9/12096634_420268864849369_4650861756174901140_n.jpg?oh=3d043deaa1d94371c2889987e90b31fe&oe=569E8384&__gda__=1452120840_77764404987b26282bcbed4d93470751'\n",
    "              , '양정길2' : 'https://fbcdn-sphotos-f-a.akamaihd.net/hphotos-ak-xap1/v/t1.0-9/12074518_420268868182702_5807506611890573511_n.jpg?oh=3c43df8daa5b2e6cc13d30bef1bb976f&oe=568D00F3&__gda__=1453294639_f29144c19bc0b56a19f29d74d9ba3c79'\n",
    "              , '양정길3' : 'https://fbcdn-sphotos-h-a.akamaihd.net/hphotos-ak-xpt1/v/t1.0-9/12107776_420268898182699_873741782931745747_n.jpg?oh=89833ac3449bbb44fbfa60c47f0bb0a1&oe=5684CA0C&__gda__=1456380231_e9088b09832600a1eade233900ccb068'\n",
    "              , '원빈' : 'http://image.fmkorea.com/files/attach/new/20141213/486616/85599953/86802006/da08e25010e6001bf565cd5cca3ca359.jpg'\n",
    "              , '김수현' : 'http://cfile10.uf.tistory.com/image/167718454EB74A8C07D3DA'\n",
    "             }\n"
   ]
  },
  {
   "cell_type": "code",
   "execution_count": 103,
   "metadata": {
    "collapsed": false,
    "scrolled": false
   },
   "outputs": [],
   "source": [
    "landmark_dict = {}\n",
    "for name, img_url in image_data.items(): \n",
    "    try:\n",
    "        keypoint = extract_face_landmark(img_url)\n",
    "        landmark_dict[name] = get_feature_vector(keypoint)\n",
    "    except:\n",
    "        print ('extract fail : {0}'.format(name))"
   ]
  },
  {
   "cell_type": "code",
   "execution_count": 104,
   "metadata": {
    "collapsed": false
   },
   "outputs": [],
   "source": [
    "## dict to dataframe\n",
    "landmark_ds = pd.DataFrame.from_dict( landmark_dict, orient='index')"
   ]
  },
  {
   "cell_type": "code",
   "execution_count": 105,
   "metadata": {
    "collapsed": false
   },
   "outputs": [],
   "source": [
    "## write to csv file\n",
    "landmark_ds.to_csv('/Users/goodvc/data/fastcampus/week2/resource/landmark.csv')"
   ]
  },
  {
   "cell_type": "code",
   "execution_count": 106,
   "metadata": {
    "collapsed": false
   },
   "outputs": [],
   "source": [
    "landmark_ds = pd.DataFrame.from_csv('/Users/goodvc/data/fastcampus/week2/resource/landmark.csv')"
   ]
  }
 ],
 "metadata": {
  "kernelspec": {
   "display_name": "Python 3",
   "language": "python",
   "name": "python3"
  },
  "language_info": {
   "codemirror_mode": {
    "name": "ipython",
    "version": 3
   },
   "file_extension": ".py",
   "mimetype": "text/x-python",
   "name": "python",
   "nbconvert_exporter": "python",
   "pygments_lexer": "ipython3",
   "version": "3.4.3"
  }
 },
 "nbformat": 4,
 "nbformat_minor": 0
}
