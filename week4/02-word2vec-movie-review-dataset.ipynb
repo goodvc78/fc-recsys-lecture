{
 "cells": [
  {
   "cell_type": "code",
   "execution_count": 1,
   "metadata": {
    "collapsed": true
   },
   "outputs": [],
   "source": [
    "import logging\n",
    "from gensim.models import Word2Vec\n",
    "import pandas as pd\n",
    "import numpy as np\n",
    "import matplotlib.pyplot as plt\n",
    "from mpl_toolkits.mplot3d import Axes3D\n",
    "\n",
    "plt.style.use(u'grayscale')\n",
    "plt.style.available\n",
    "%matplotlib inline  \n"
   ]
  },
  {
   "cell_type": "code",
   "execution_count": 2,
   "metadata": {
    "collapsed": false
   },
   "outputs": [
    {
     "name": "stderr",
     "output_type": "stream",
     "text": [
      "/Library/Frameworks/Python.framework/Versions/3.4/lib/python3.4/site-packages/pandas/io/parsers.py:1159: DtypeWarning: Columns (3,5) have mixed types. Specify dtype option on import or set low_memory=False.\n",
      "  data = self._reader.read(nrows)\n"
     ]
    }
   ],
   "source": [
    "# review data load \n",
    "review_file = '/Users/goodvc/data/fastcampus/week4/resource/mr.150813'\n",
    "review_ds = pd.read_csv(review_file,sep='\\t',index_col=None, header=None, \\\n",
    "            names=['idx','title','review','rating','source','timestamp'])\n"
   ]
  },
  {
   "cell_type": "code",
   "execution_count": 43,
   "metadata": {
    "collapsed": false
   },
   "outputs": [
    {
     "data": {
      "text/html": [
       "<div style=\"max-height:1000px;max-width:1500px;overflow:auto;\">\n",
       "<table border=\"1\" class=\"dataframe\">\n",
       "  <thead>\n",
       "    <tr style=\"text-align: right;\">\n",
       "      <th></th>\n",
       "      <th>idx</th>\n",
       "      <th>title</th>\n",
       "      <th>review</th>\n",
       "      <th>rating</th>\n",
       "      <th>source</th>\n",
       "      <th>timestamp</th>\n",
       "    </tr>\n",
       "  </thead>\n",
       "  <tbody>\n",
       "    <tr>\n",
       "      <th>0</th>\n",
       "      <td> 1</td>\n",
       "      <td> 10억</td>\n",
       "      <td>                  몇년동안 본거중에 가장 최악이다 한국영화여서 챙피하다...</td>\n",
       "      <td> 1</td>\n",
       "      <td> Naver movie</td>\n",
       "      <td> 1437446025</td>\n",
       "    </tr>\n",
       "    <tr>\n",
       "      <th>1</th>\n",
       "      <td> 2</td>\n",
       "      <td> 10억</td>\n",
       "      <td> 와. .진심 그 피디 죽일수있었는데 못죽이고ㅡㅡ해튼 주연이라는 신민아 연기는 아주 ...</td>\n",
       "      <td> 1</td>\n",
       "      <td> Naver movie</td>\n",
       "      <td> 1437446025</td>\n",
       "    </tr>\n",
       "  </tbody>\n",
       "</table>\n",
       "</div>"
      ],
      "text/plain": [
       "   idx title                                             review rating  \\\n",
       "0    1   10억                   몇년동안 본거중에 가장 최악이다 한국영화여서 챙피하다...      1   \n",
       "1    2   10억  와. .진심 그 피디 죽일수있었는데 못죽이고ㅡㅡ해튼 주연이라는 신민아 연기는 아주 ...      1   \n",
       "\n",
       "        source   timestamp  \n",
       "0  Naver movie  1437446025  \n",
       "1  Naver movie  1437446025  "
      ]
     },
     "execution_count": 43,
     "metadata": {},
     "output_type": "execute_result"
    }
   ],
   "source": [
    "review_ds.head(2)"
   ]
  },
  {
   "cell_type": "markdown",
   "metadata": {},
   "source": [
    "---\n",
    "## 영화 리뷰 데이터셋 트레이닝"
   ]
  },
  {
   "cell_type": "code",
   "execution_count": 55,
   "metadata": {
    "collapsed": true
   },
   "outputs": [],
   "source": [
    "# Nan value drop \n",
    "review_ds = review_ds.dropna()\n",
    "\n",
    "# corpus generaion\n",
    "sentances = []\n",
    "for idx, row in review_ds.iterrows():\n",
    "    # words = nonLetterTokenizer(str(row['review']))\n",
    "    words = str(row['review']).split()\n",
    "    # words.append( row['title'] )\n",
    "    sentances.append( words )"
   ]
  },
  {
   "cell_type": "code",
   "execution_count": 6,
   "metadata": {
    "collapsed": false
   },
   "outputs": [
    {
     "data": {
      "text/plain": [
       "[['몇년동안', '본거중에', '가장', '최악이다', '한국영화여서', '챙피하다...', '10억'],\n",
       " ['와.',\n",
       "  '.진심',\n",
       "  '그',\n",
       "  '피디',\n",
       "  '죽일수있었는데',\n",
       "  '못죽이고ㅡㅡ해튼',\n",
       "  '주연이라는',\n",
       "  '신민아',\n",
       "  '연기는',\n",
       "  '아주',\n",
       "  '발연기!!',\n",
       "  '.',\n",
       "  '.',\n",
       "  '신민아',\n",
       "  '와',\n",
       "  '대박이다',\n",
       "  '심하게',\n",
       "  '못한다',\n",
       "  '10억'],\n",
       " ['킬링타임', '용도로도', '써먹지', '못할', '수준', '12 몽키즈']]"
      ]
     },
     "execution_count": 6,
     "metadata": {},
     "output_type": "execute_result"
    }
   ],
   "source": [
    "sentances[:3]"
   ]
  },
  {
   "cell_type": "code",
   "execution_count": 7,
   "metadata": {
    "collapsed": false
   },
   "outputs": [
    {
     "name": "stdout",
     "output_type": "stream",
     "text": [
      "(119421, 100)\n"
     ]
    }
   ],
   "source": [
    "# word2vec training\n",
    "model = Word2Vec(sentances, window=5, min_count=5, size=100)\n",
    "\n",
    "# print matrix size \n",
    "print (model.syn0.shape)"
   ]
  },
  {
   "cell_type": "code",
   "execution_count": 8,
   "metadata": {
    "collapsed": true
   },
   "outputs": [],
   "source": [
    "model.save('./resource/moview_review_ds.model')"
   ]
  },
  {
   "cell_type": "code",
   "execution_count": 44,
   "metadata": {
    "collapsed": false
   },
   "outputs": [
    {
     "name": "stdout",
     "output_type": "stream",
     "text": [
      "[ 0.45355493 -0.08949078 -0.02707562 -0.09068958  0.23180997 -0.31594491\n",
      "  0.30087072 -0.35845995  0.07018642 -0.12322759 -0.27402124  0.19953261\n",
      "  0.40594605 -0.1154478  -0.05142993  0.12813586  0.31672099  0.23018232\n",
      "  0.05365362  0.14251511  0.13466576  0.25072497  0.25983882  0.24430197\n",
      " -0.18374623 -0.29774261 -0.01657193 -0.102736    0.15627827 -0.12228136\n",
      " -0.29893547  0.15666395  0.03277338 -0.00770236  0.24621341 -0.28014287\n",
      " -0.33529997  0.26570925  0.10417494 -0.14627762  0.13709879 -0.16122477\n",
      "  0.21979979  0.0517032  -0.09526607  0.04407053  0.34855038  0.23204604\n",
      "  0.25774515 -0.12265047  0.03465326  0.35473645  0.01426724  0.37574908\n",
      " -0.01059022 -0.35998324  0.01356615  0.7183159   0.15442571 -0.13256234\n",
      "  0.03872748 -0.16183548  0.74073154  0.20500308 -0.34016234  0.0715\n",
      " -0.33744976 -0.1752051   0.33239001 -0.10298406 -0.0929869  -0.59358853\n",
      " -0.07079922  0.43886527  0.18187794  0.1303544   0.14770791 -0.214215\n",
      " -0.09803484 -0.00448824 -0.0348392  -0.08161978 -0.11122197  0.30998155\n",
      " -0.23313747  0.13420679 -0.0499259   0.18644094  0.21369703  0.35257119\n",
      "  0.1313042   0.12371679 -0.08915    -0.10995837  0.24235432  0.32131556\n",
      " -0.02823732 -0.23982206  0.00308146  0.29909369]\n"
     ]
    }
   ],
   "source": [
    "print (model['이정재'])"
   ]
  },
  {
   "cell_type": "code",
   "execution_count": 46,
   "metadata": {
    "collapsed": false
   },
   "outputs": [
    {
     "data": {
      "text/plain": [
       "[('전지현', 0.8935462236404419),\n",
       " ('최덕문', 0.8795143961906433),\n",
       " ('하정우', 0.8573639988899231),\n",
       " ('조진웅', 0.8383336067199707),\n",
       " ('오달수', 0.8183817267417908),\n",
       " ('백윤식', 0.7944943904876709),\n",
       " ('전지현은', 0.7838039994239807),\n",
       " ('황정민', 0.7746252417564392),\n",
       " ('유아인', 0.7616927027702332),\n",
       " ('이정재도', 0.7564805746078491)]"
      ]
     },
     "execution_count": 46,
     "metadata": {},
     "output_type": "execute_result"
    }
   ],
   "source": [
    "model.most_similar(positive=['이정재'], topn=10)"
   ]
  },
  {
   "cell_type": "code",
   "execution_count": 12,
   "metadata": {
    "collapsed": false
   },
   "outputs": [
    {
     "data": {
      "text/plain": [
       "[('베테랑', 0.8032322525978088),\n",
       " ('더 테러 라이브', 0.790015459060669),\n",
       " ('관상', 0.7831599712371826),\n",
       " ('감시자들', 0.747167706489563),\n",
       " ('은밀하게 위대하게', 0.7399693131446838),\n",
       " ('감기', 0.7337446212768555),\n",
       " ('표적', 0.7166561484336853),\n",
       " ('숨바꼭질', 0.7117925882339478),\n",
       " ('명량', 0.7080166935920715),\n",
       " ('군도:민란의 시대', 0.6843267679214478)]"
      ]
     },
     "execution_count": 12,
     "metadata": {},
     "output_type": "execute_result"
    }
   ],
   "source": [
    "model.most_similar(positive=['암살'], topn=10)"
   ]
  },
  {
   "cell_type": "code",
   "execution_count": 53,
   "metadata": {
    "collapsed": false
   },
   "outputs": [
    {
     "data": {
      "text/plain": [
       "[('조정석', 0.769503116607666),\n",
       " ('이정재는', 0.7663878798484802),\n",
       " ('백윤식', 0.7637475728988647),\n",
       " ('하정우,', 0.7624115943908691),\n",
       " ('송강호', 0.7519367933273315),\n",
       " ('카리스마', 0.7479374408721924),\n",
       " ('전지현이', 0.7410987615585327),\n",
       " ('조진웅', 0.7401885986328125),\n",
       " ('전지현', 0.7389346361160278),\n",
       " ('악역', 0.7350723147392273)]"
      ]
     },
     "execution_count": 53,
     "metadata": {},
     "output_type": "execute_result"
    }
   ],
   "source": [
    "model.most_similar(positive=['이정재','관상'], negative=['암살'], topn=10)"
   ]
  },
  {
   "cell_type": "code",
   "execution_count": 54,
   "metadata": {
    "collapsed": false
   },
   "outputs": [
    {
     "data": {
      "text/plain": [
       "[('숨바꼭질', 0.7318272590637207),\n",
       " ('은밀하게 위대하게', 0.7171064615249634),\n",
       " ('미스터 고', 0.7049671411514282),\n",
       " ('감기', 0.7037064433097839),\n",
       " ('나우 유 씨 미 : 마술사기단', 0.6903412342071533),\n",
       " ('감시자들', 0.6871788501739502),\n",
       " ('미션 임파서블: 로그네이션', 0.686944305896759),\n",
       " ('더 파이브', 0.6823726296424866),\n",
       " ('더 테러 라이브', 0.6637378931045532),\n",
       " ('스타트렉 다크니스', 0.6325761079788208)]"
      ]
     },
     "execution_count": 54,
     "metadata": {},
     "output_type": "execute_result"
    }
   ],
   "source": [
    "model.most_similar(positive=['암살','베테랑'], negative=['이정재'], topn=10)"
   ]
  },
  {
   "cell_type": "code",
   "execution_count": 14,
   "metadata": {
    "collapsed": false
   },
   "outputs": [
    {
     "data": {
      "text/plain": [
       "'백윤식'"
      ]
     },
     "execution_count": 14,
     "metadata": {},
     "output_type": "execute_result"
    }
   ],
   "source": [
    "model.doesnt_match('이정재 하정우 전지현 백윤식'.split())"
   ]
  },
  {
   "cell_type": "markdown",
   "metadata": {
    "collapsed": true
   },
   "source": [
    "## 단어 클러스터링하기 "
   ]
  },
  {
   "cell_type": "code",
   "execution_count": 15,
   "metadata": {
    "collapsed": false
   },
   "outputs": [
    {
     "name": "stdout",
     "output_type": "stream",
     "text": [
      "cluster 수(k) =  245\n"
     ]
    }
   ],
   "source": [
    "## 클러스터수 결정\n",
    "import math \n",
    "\n",
    "k = math.ceil(math.sqrt(len(model.index2word)/2)) \n",
    "print ( \"cluster 수(k) = \" , k)"
   ]
  },
  {
   "cell_type": "code",
   "execution_count": 47,
   "metadata": {
    "collapsed": true
   },
   "outputs": [],
   "source": [
    "vec = model.syn0\n",
    "index2word = model.index2word"
   ]
  },
  {
   "cell_type": "code",
   "execution_count": 49,
   "metadata": {
    "collapsed": false
   },
   "outputs": [
    {
     "data": {
      "text/plain": [
       "(119421, 100)"
      ]
     },
     "execution_count": 49,
     "metadata": {},
     "output_type": "execute_result"
    }
   ],
   "source": [
    "vec.shape"
   ]
  },
  {
   "cell_type": "code",
   "execution_count": 32,
   "metadata": {
    "collapsed": false
   },
   "outputs": [
    {
     "name": "stdout",
     "output_type": "stream",
     "text": [
      "kmeans: X (2450, 100)  centres (245, 100)  delta=1e-06  maxiter=20  metric=cosine\n",
      "kmeans: 14 iterations  cluster sizes: [ 2  3  0  7  2  0  2  0  3  5  3 18  6  6  3  1  3  2 24 38 13  0  3  5  1\n",
      "  3  7 21 22 11 25 22  2  0  6  4  3  4  1 23 17 28  9  9  0  3 47 30 10 14\n",
      "  3  6 31 16  4  7  0  1  6 12  2  1  7  1 10 14 29 27  4  1  1  5  6  2  1\n",
      "  5 24  6  9 15 25 16 11  8  0 11 29  7  6  4 11 29  1 12  0  0 28  0  2 27\n",
      "  3  0 20  3 31  1  5  3 15  4  1  5 23  9  9  3 36 14  9 34  1  7  3 18 17\n",
      " 19 16  0 17 10 11  1 23  1 21 11  4  5  6 32 10 36  6 23  3  4  3 23  5 14\n",
      " 10  1 33 26 25  4 12 20  5  4 35  2  7  3 22  0  1  4  0  6  3  3  3  1  1\n",
      "  9  3  4 15  2  5  1 12  1  2 17  1 10 42  8  9 37  3  0 15  0  4  2  1 46\n",
      "  1 14  2  0 33 38  4 13  4  7 23  1  0  9 33  3  6  0  0 10  8  4 14  8 22\n",
      " 13 24  9 25  1  1  5  6 22 10 18  0  1  2 10  6  8  1  7 12]\n",
      "kmeans: X (119421, 100)  centres (245, 100)  delta=1e-06  maxiter=20  metric=cosine\n",
      "kmeans: 20 iterations  cluster sizes: [ 371   87  581  804  128  190  199  699  236  912  235  638  518  464  329\n",
      "   95  364   64  694 1297  653  176   83  498  325  124  209  846 1169  289\n",
      " 1388  499  122   60  125  252   77  186   44  654  352  925  507  283  577\n",
      "  411 1315  837  225  393  113  470  935 1195  193  140  139  611  368  285\n",
      "  529  103  253  312  189  581 1142  995  160  366   66  210  150  175   62\n",
      "  304 1198  569  360  735 1215  885  242  367  317  640 1207  222  132   75\n",
      "  407 1336  145  520  299  424  930   95  160 1028  181  691  875  818 1325\n",
      "  114  239  800  626  443  463  341 1308  648  712   97  989  366  118 1245\n",
      "   57  759  740  675  741  748  699   79  671  888  234   98  671  938  516\n",
      "  442  284  113  404 1217  500 1076  168  533  103   58 1247 1004  356  981\n",
      "  675   23  566  666  964  410  869  388  159  477 1125  519  228  241  717\n",
      "   76  125  170   53  755  499  171  171  419   69  899  121  169  745  624\n",
      "  504  250  701   68  238  632   65  532 1191  322  312 1224   65  113  181\n",
      "    8  292  106  135 1358  112  642   73  448 1056  996  704 1236  436  662\n",
      "  891  190  116  262 1033  121  265   62  251  904  269  614 1085  209 1049\n",
      "  575  764  510 1184   79  139  149   89  751  556  512  331  711   69 1042\n",
      "  154  708  111  137  312]\n"
     ]
    }
   ],
   "source": [
    "import mykmeans as kmeans\n",
    "(centres, index2cluster, dist) = kmeans.kmeanssample( vec, k, nsample=0, maxiter=20, metric='cosine',delta=0.000001 )"
   ]
  },
  {
   "cell_type": "code",
   "execution_count": 33,
   "metadata": {
    "collapsed": false
   },
   "outputs": [
    {
     "data": {
      "text/html": [
       "<div style=\"max-height:1000px;max-width:1500px;overflow:auto;\">\n",
       "<table border=\"1\" class=\"dataframe\">\n",
       "  <thead>\n",
       "    <tr style=\"text-align: right;\">\n",
       "      <th></th>\n",
       "      <th>cid</th>\n",
       "      <th>distance</th>\n",
       "    </tr>\n",
       "  </thead>\n",
       "  <tbody>\n",
       "    <tr>\n",
       "      <th>피흘리며</th>\n",
       "      <td> 233</td>\n",
       "      <td> 0.036881</td>\n",
       "    </tr>\n",
       "    <tr>\n",
       "      <th>새로울것도</th>\n",
       "      <td> 116</td>\n",
       "      <td> 0.259766</td>\n",
       "    </tr>\n",
       "    <tr>\n",
       "      <th>복근</th>\n",
       "      <td> 116</td>\n",
       "      <td> 0.260807</td>\n",
       "    </tr>\n",
       "  </tbody>\n",
       "</table>\n",
       "</div>"
      ],
      "text/plain": [
       "       cid  distance\n",
       "피흘리며   233  0.036881\n",
       "새로울것도  116  0.259766\n",
       "복근     116  0.260807"
      ]
     },
     "execution_count": 33,
     "metadata": {},
     "output_type": "execute_result"
    }
   ],
   "source": [
    "info = [[a,b] for a,b in zip(index2cluster, dist)]\n",
    "clustered = pd.DataFrame(info, index=index2word, columns=['cid','distance'])\n",
    "clustered.head(3)"
   ]
  },
  {
   "cell_type": "code",
   "execution_count": 34,
   "metadata": {
    "collapsed": false,
    "scrolled": false
   },
   "outputs": [],
   "source": [
    "grouped = clustered.groupby(['cid']).groups"
   ]
  },
  {
   "cell_type": "code",
   "execution_count": 39,
   "metadata": {
    "collapsed": false,
    "scrolled": false
   },
   "outputs": [
    {
     "name": "stdout",
     "output_type": "stream",
     "text": [
      "['못한것', '본것', '한거', '괜찮을꺼', '영화인거', '괜찮은것', '파인애플 익스프레스', '잡은거', '괜찮은거', '있었을것', '없는것', '그랬던것', '좋았던거', '아닌거', '있을거', '만든것', '한것', '박한거', '영화였던거', '되는것', '커버를', '나온것', '부족한것', '없었던거', '좋은것', '라스베가스에서만 생길 수 있는 일', '좋은거', '많은것', '영화였던것', '있는것', '받은것', '것', '맞는것', '잘된것', '준것', '작품인것', '홍길동의 후예', '보여준것', '많이가고', '못한거', '있었을거', '된것', '나을것', '못할것', '만들것', '좁은 길', '어려울것', '알것', '만든거', '없었던것', '않은것', '살았던것', '좋았던것', '본거', '거', '끝난것', '있을것', '보는거', '컸던것', '좋을것', '아닌것', '소재인것', '인것', '담아낸거', '보는것', '괜찮았던거', '맞을것', '첨인것', '하는것', '재미있는데..', '괜찮았던것', '진것', '애써서', '대단한것', '된거', '잘된거', '멋있는것', '있는거', '아니었던거', '될것', '있었던것', '없을것', '영화인것', '안되는것', '재밌을것', '없었을것', '될거']\n"
     ]
    }
   ],
   "source": [
    "print(grouped[1])"
   ]
  },
  {
   "cell_type": "code",
   "execution_count": 22,
   "metadata": {
    "collapsed": false
   },
   "outputs": [],
   "source": [
    "def word2cluster_members(w):\n",
    "    (cid,sim) = clustered.loc[w]\n",
    "    return (sim,clustered[clustered.cid==cid].sort(['distance'], ascending=False).index)"
   ]
  },
  {
   "cell_type": "code",
   "execution_count": 42,
   "metadata": {
    "collapsed": false
   },
   "outputs": [
    {
     "data": {
      "text/plain": [
       "(0.22769302079432296,\n",
       " Index(['자니 익스프레스', '컴퍼니 오브 히어로즈', '강원도의 힘', '밑고', '마이파더', '중2병이라도 사랑이 하고 싶어! 극장판', '믹막 : 티르라리고 사람들', '베이타운 디스코', '베테랑의', '런어웨이즈', '슈퍼피쉬 - 끝없는 여정', '짱이라고', '정말', '살인재능', '황해', '잡스', '악마를 보았다', '인터스텔라', '해바라기', '타임 패러독스', '그래비티', '남쪽으로 튀어', '위대한 개츠비', '백프로', '침묵의 목격자', '장고:분노의 추적자', '내 심장을 쏴라', '소수의견', '쎄시봉', '프리즈너스', '부당거래', '악의 연대기', '소셜포비아', '써드 퍼슨', '아메리칸 허슬', '도희야', '가시', '다크 플레이스', '손님', '트랜센던스', '무뢰한', '바람', '차일드 44', '노아', '이미테이션 게임', '반창꼬', '언브로큰', '방황하는 칼날', '간신', '퓨리', '광해, 왕이 된 남자', '헤드헌터', '스톤', '나이트 크롤러', '버드맨', '붉은 가족', '조난자들', '깡철이', '설국열차', '남자가 사랑할 때', '나의 독재자', '순수의 시대', '톱스타', '극비수사', '퍼펙트 게임', '좋은 친구들', '일대종사', '내 연애의 기억', '차이나타운', '루시', '우는 남자', '명량', '스트레인저랜드', '나를 찾아줘', '열한시', '배우는 배우다', '살인자', '동창생', '제보자', '살인의뢰', '끝까지 간다', '캡틴 필립스', '용의자', '몽타주', '군도:민란의 시대', '전설의 주먹', '상의원', '하이힐', '암살', '친구2', '신의 한 수', '응징자', '찌라시 : 위험한 소문', '창수', '베테랑', '강남 1970', '인간중독', '은밀하게 위대하게', '해무', '더 울프 오브 월 스트리트', ...], dtype='object'))"
      ]
     },
     "execution_count": 42,
     "metadata": {},
     "output_type": "execute_result"
    }
   ],
   "source": [
    "word2cluster_members('암살')"
   ]
  },
  {
   "cell_type": "code",
   "execution_count": null,
   "metadata": {
    "collapsed": true
   },
   "outputs": [],
   "source": []
  }
 ],
 "metadata": {
  "kernelspec": {
   "display_name": "Python 3",
   "language": "python",
   "name": "python3"
  },
  "language_info": {
   "codemirror_mode": {
    "name": "ipython",
    "version": 3
   },
   "file_extension": ".py",
   "mimetype": "text/x-python",
   "name": "python",
   "nbconvert_exporter": "python",
   "pygments_lexer": "ipython3",
   "version": "3.4.3"
  }
 },
 "nbformat": 4,
 "nbformat_minor": 0
}
