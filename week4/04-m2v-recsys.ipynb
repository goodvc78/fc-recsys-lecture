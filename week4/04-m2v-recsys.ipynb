{
 "cells": [
  {
   "cell_type": "markdown",
   "metadata": {},
   "source": [
    "## word2vec으로 추천 시스템 구현하기 "
   ]
  },
  {
   "cell_type": "code",
   "execution_count": 311,
   "metadata": {
    "collapsed": false
   },
   "outputs": [],
   "source": [
    "from gensim.models import Word2Vec\n",
    "import pandas as pd\n",
    "from collections import defaultdict\n",
    "import numpy as np"
   ]
  },
  {
   "cell_type": "code",
   "execution_count": 351,
   "metadata": {
    "collapsed": false,
    "scrolled": false
   },
   "outputs": [],
   "source": [
    "## string to int with ignore none disit\n",
    "def toint(s,default=0):\n",
    "    converted = default\n",
    "    try :\n",
    "        converted = int(s)\n",
    "    except:\n",
    "        #print('string convert exception \"{0}\" (default={1})\"'.format(s , default))\n",
    "        pass\n",
    "    return converted\n",
    "\n",
    "class m2v_recsys:\n",
    "    model = None\n",
    "    home_dir = '/Users/goodvc/Documents/data-analytics/movie-recommendation/'\n",
    "    w2v_env = { 'min_count':5, 'size':100, 'window':5 }\n",
    "    nn_func = None\n",
    "\n",
    "    ## initialize\n",
    "    def __init__(self, ds_type='ml-latest-small'):\n",
    "        self.ds_type = ds_type\n",
    "        self.movieLensDataLoad()\n",
    "\n",
    "    \n",
    "    ## dataset load\n",
    "    def movieLensDataLoad(self, ds_type=None):\n",
    "        if ds_type != None:\n",
    "            self.ds_type = ds_type\n",
    "        ## user 영화 별점 data \n",
    "        self.ratings = pd.read_csv('{home}/{type}/{name}'.format( home=self.home_dir, type=self.ds_type, name='ratings.csv'))\n",
    "\n",
    "        ## movie meta(타이트,장르) data \n",
    "        self.movies = pd.read_csv('{home}/{type}/{name}'.format( home=self.home_dir, type=self.ds_type, name='movies.csv'))\n",
    "        ## split title and release year . ex) Nixon (1995) => Nixon , 1995\n",
    "        self.movies['year'] = self.movies['title'].apply(lambda x: toint(x.strip()[-5:-1], 1950))\n",
    "        self.movies['title'] = self.movies['title'].apply(lambda x: x[:-7].strip())\n",
    "        \n",
    "        ## user가 영화에 tag를 기입한 data\n",
    "        self.tags = pd.read_csv('{home}/{type}/{name}'.format( home=self.home_dir, type=self.ds_type, name='tags.csv'))\n",
    "\n",
    "        ## join ratings and movies by movieId \n",
    "        self.ratings_movie = pd.merge( self.ratings, self.movies, on='movieId' )\n",
    "        \n",
    "    def make_sentences(self, threshold=3):\n",
    "        ## corpus를 만듦\n",
    "        corpus = []\n",
    "        grouped = self.ratings_movie[self.ratings_movie.rating<threshold].groupby(['userId'])\n",
    "        for idx, user in grouped:\n",
    "            corpus.append (user.sort(['timestamp'])['title'].values)\n",
    "        return corpus\n",
    "        \n",
    "    def load_model(self, model_path):\n",
    "        self.model = Word2Vec.load(model_path)\n",
    "        print('model loaded', model_path)\n",
    "    def save_model(self, model_path):\n",
    "        self.model.save(model_path)\n",
    "        \n",
    "    def training(self):\n",
    "        if self.model == None :\n",
    "            self.scentences = self.make_sentences()\n",
    "            self.model = Word2Vec(self.scentences, \n",
    "                                  min_count = self.w2v_env['min_count'],\n",
    "                                  size = self.w2v_env['size'], \n",
    "                                  window = self.w2v_env['window'])\n",
    "            print('model trained')\n",
    "            \n",
    "    def nearest_neighbors_by_m2v(self, target, topn=10):\n",
    "        if str == type(target):\n",
    "            target=[target]\n",
    "        result = []\n",
    "        try:\n",
    "            result = self.model.most_similar(positive=target, topn=topn)\n",
    "        except:\n",
    "            pass\n",
    "        return result\n",
    "\n",
    "    def user_interests(self, userId):\n",
    "        return self.ratings_movie[self.ratings_movie.userId==userId][['title','rating']].values.tolist()\n",
    "    \n",
    "    def cal_score(self, title, sim, rating, pre_score):\n",
    "        score = np.linalg.norm([sim, rating/5])\n",
    "        score = score+pre_score\n",
    "        return score\n",
    "    \n",
    "    def recommend_movies(self, userId, topn=10):\n",
    "        movies = defaultdict(float)\n",
    "        interests = self.user_interests(userId)\n",
    "        seenMovies = set( m for m,s in interests )\n",
    "        for title, rating in interests:\n",
    "            neighbors = self.nearest_neighbors_by_m2v(title)\n",
    "            for (title2, sim) in neighbors:\n",
    "                if title2 in seenMovies:\n",
    "                    continue\n",
    "                pre = movies.get(title2, 0.0)\n",
    "                movies[title2] = self.cal_score( title2, sim, rating, pre ) \n",
    "        \n",
    "        \n",
    "        return {'recommended' : sorted(movies.items(), key=lambda x: x[1], reverse=True)[:topn]\n",
    "                ,'ratings':interests}"
   ]
  },
  {
   "cell_type": "code",
   "execution_count": 366,
   "metadata": {
    "collapsed": false
   },
   "outputs": [],
   "source": [
    "## 객채생성\n",
    "m2v_rs = m2v_recsys('ml-latest-small')"
   ]
  },
  {
   "cell_type": "code",
   "execution_count": 367,
   "metadata": {
    "collapsed": false
   },
   "outputs": [
    {
     "name": "stdout",
     "output_type": "stream",
     "text": [
      "model trained\n"
     ]
    }
   ],
   "source": [
    "## training word2vec by dataset  \n",
    "m2v_rs.training()"
   ]
  },
  {
   "cell_type": "code",
   "execution_count": 368,
   "metadata": {
    "collapsed": true
   },
   "outputs": [],
   "source": [
    "## 현재 모델 save \n",
    "m2v_rs.save_model('./resource/m2v_rs.model')"
   ]
  },
  {
   "cell_type": "code",
   "execution_count": 369,
   "metadata": {
    "collapsed": false
   },
   "outputs": [
    {
     "name": "stdout",
     "output_type": "stream",
     "text": [
      "model loaded ./resource/m2v_rs.model\n"
     ]
    }
   ],
   "source": [
    "## model load by stored model \n",
    "m2v_rs.load_model('./resource/m2v_rs.model')"
   ]
  },
  {
   "cell_type": "code",
   "execution_count": 370,
   "metadata": {
    "collapsed": false
   },
   "outputs": [
    {
     "data": {
      "text/plain": [
       "[('Ace Ventura: Pet Detective', 0.8308584094047546),\n",
       " ('Batman Forever', 0.8251057863235474),\n",
       " ('Nutty Professor, The', 0.8134173154830933),\n",
       " ('Mask, The', 0.7993110418319702),\n",
       " ('Independence Day (a.k.a. ID4)', 0.7835349440574646),\n",
       " ('Waterworld', 0.7380474805831909),\n",
       " ('Cliffhanger', 0.732891321182251),\n",
       " ('Lost in Space', 0.7325952053070068),\n",
       " ('Addams Family Values', 0.7318918704986572),\n",
       " ('Home Alone', 0.7281185388565063),\n",
       " ('Armageddon', 0.7230995893478394),\n",
       " ('Lara Croft: Tomb Raider', 0.721030592918396),\n",
       " ('Star Wars: Episode I - The Phantom Menace', 0.7173625826835632),\n",
       " ('Mars Attacks!', 0.7150463461875916),\n",
       " ('Babe', 0.7143656015396118),\n",
       " ('Ace Ventura: When Nature Calls', 0.7105658054351807),\n",
       " (\"Charlie's Angels\", 0.7103386521339417),\n",
       " ('Legally Blonde', 0.7098460793495178),\n",
       " ('Die Hard: With a Vengeance', 0.7090703248977661),\n",
       " ('Beauty and the Beast', 0.7073931097984314)]"
      ]
     },
     "execution_count": 370,
     "metadata": {},
     "output_type": "execute_result"
    }
   ],
   "source": [
    "## 유사한 영화 \n",
    "m2v_rs.nearest_neighbors_by_m2v(['Pretty Woman'],topn=20)"
   ]
  },
  {
   "cell_type": "code",
   "execution_count": 377,
   "metadata": {
    "collapsed": false
   },
   "outputs": [
    {
     "name": "stdout",
     "output_type": "stream",
     "text": [
      "------------------------------\n",
      "* 추천영화\n",
      " [('Mask, The', 40.084993085057235), ('Star Wars: Episode I - The Phantom Menace', 25.55198952102576), ('American Pie', 23.479421816895698), ('Armageddon', 21.941650937977695), ('Pretty Woman', 21.02547820191867), ('Home Alone', 17.389201084881986), ('Addams Family Values', 14.500399027860951), ('Cliffhanger', 11.966764784107635), ('Babe', 11.081211202166184), ('Lost in Space', 11.056676336017237)]\n",
      "------------------------------\n",
      "* 별점 매긴영화\n",
      " [['Heat', 4.0], ['Twelve Monkeys (a.k.a. 12 Monkeys)', 5.0], ['Usual Suspects, The', 4.0], ['Braveheart', 3.0], ['Strange Days', 3.0], ['Star Wars: Episode IV - A New Hope', 4.0], ['Pulp Fiction', 5.0], ['Shawshank Redemption, The', 4.0], [\"Carlito's Way\", 3.0], [\"Schindler's List\", 5.0], ['Dances with Wolves', 4.0], ['Batman', 3.0], ['Fargo', 5.0], ['Mission: Impossible', 4.0], ['Independence Day (a.k.a. ID4)', 3.0], ['Last Man Standing', 4.0], ['2 Days in the Valley', 4.0], ['Star Trek: First Contact', 3.0], ['Sling Blade', 5.0], ['Star Trek VI: The Undiscovered Country', 3.0], ['Star Trek II: The Wrath of Khan', 4.0], ['Star Trek IV: The Voyage Home', 4.0], ['Batman Forever', 3.0], ['Clear and Present Danger', 3.0], ['Twister', 4.0], ['Striptease', 3.0], ['Star Trek III: The Search for Spock', 3.0], ['Grumpier Old Men', 3.0], ['Father of the Bride Part II', 3.0], ['Sabrina', 3.0], ['Sense and Sensibility', 3.0], ['To Die For', 4.0], ['Like Water for Chocolate (Como agua para chocolate)', 4.0], ['While You Were Sleeping', 3.0], ['Forrest Gump', 4.0], ['Barcelona', 3.0], ['Much Ado About Nothing', 3.0], ['Aladdin', 3.0], ['Beauty and the Beast', 3.0], ['Truth About Cats & Dogs, The', 4.0], ['First Wives Club, The', 4.0], ['Emma', 5.0], [\"William Shakespeare's Romeo + Juliet\", 5.0], [\"Mr. Holland's Opus\", 4.0], ['Stargate', 3.0], ['Adventures of Priscilla, Queen of the Desert, The', 5.0], ['Evita', 3.0], ['Toy Story', 5.0], ['GoldenEye', 3.0], ['Casino', 3.0], ['Seven (a.k.a. Se7en)', 4.0], ['Broken Arrow', 3.0], ['Down Periscope', 3.0], ['Apollo 13', 4.0], ['Die Hard: With a Vengeance', 3.0], ['Net, The', 4.0], ['Waterworld', 3.0], ['Dumb & Dumber (Dumb and Dumber)', 2.0], ['Outbreak', 3.0], ['Shallow Grave', 3.0], ['Star Trek: Generations', 3.0], [\"Muriel's Wedding\", 4.0], ['Ace Ventura: Pet Detective', 3.0], ['Four Weddings and a Funeral', 4.0], ['True Lies', 3.0], ['Englishman Who Went Up a Hill But Came Down a Mountain, The', 4.0], ['Hudsucker Proxy, The', 4.0], ['Executive Decision', 3.0], ['Piano, The', 5.0], ['Dead Man Walking', 4.0], ['Madness of King George, The', 5.0], ['Searching for Bobby Fischer', 4.0], ['Rock, The', 4.0], ['English Patient, The', 5.0], ['Jerry Maguire', 4.0], ['Hamlet', 4.0], ['Nixon', 4.0], ['Leaving Las Vegas', 4.0], ['Mighty Aphrodite', 4.0], ['Birdcage, The', 4.0], ['Brothers McMullen, The', 4.0], ['Beauty of the Day (Belle de jour)', 4.0], ['Crimson Tide', 4.0], ['Smoke', 5.0], ['Hoop Dreams', 3.0], ['Secret of Roan Inish, The', 5.0], ['River Wild, The', 3.0], ['Farewell My Concubine (Ba wang bie ji)', 4.0], ['Philadelphia', 3.0], ['Shadowlands', 4.0], ['Courage Under Fire', 5.0], ['Time to Kill, A', 3.0], ['Tin Cup', 4.0], ['Bonnie and Clyde', 5.0], ['Short Cuts', 4.0], ['Trainspotting', 5.0], ['Rebel Without a Cause', 5.0], ['People vs. Larry Flynt, The', 3.0], ['Waiting for Guffman', 5.0], ['Space Jam', 4.0], ['Matilda', 3.0], ['Fly Away Home', 5.0], ['101 Dalmatians', 3.0], ['Richard III', 3.0], ['Heavenly Creatures', 4.0], ['Three Colors: Red (Trois couleurs: Rouge)', 3.0], [\"Widows' Peak\", 3.0], ['Remains of the Day, The', 4.0], ['Interview with the Vampire: The Vampire Chronicles', 3.0], [\"She's the One\", 4.0], ['Ransom', 3.0], ['Long Kiss Goodnight, The', 5.0], ['Breaking the Waves', 5.0], ['Primal Fear', 4.0], ['Wallace & Gromit: A Close Shave', 5.0], ['Nutty Professor, The', 3.0], ['Phenomenon', 3.0], ['Chamber, The', 3.0], ['Craft, The', 4.0], ['Escape from L.A.', 3.0], ['Natural Born Killers', 4.0], ['Lone Star', 5.0], ['Secrets & Lies', 5.0], ['Fierce Creatures', 3.0], ['Star Trek: The Motion Picture', 3.0], ['Star Trek V: The Final Frontier', 3.0], ['Stealing Beauty', 5.0], ['Spitfire Grill, The', 4.0], ['Sirens', 5.0], ['True Romance', 3.0], ['Four Rooms', 3.0], ['City of Lost Children, The (Cité des enfants perdus, La)', 3.0], ['From Dusk Till Dawn', 4.0], ['Bottle Rocket', 4.0], ['Chungking Express (Chung Hing sam lam)', 3.0], ['Clockers', 3.0], ['Crumb', 5.0], ['Eat Drink Man Woman (Yin shi nan nu)', 4.0], ['Three Colors: White (Trzy kolory: Bialy)', 3.0], ['Kalifornia', 3.0], ['Dead Man', 4.0], ['Ghost in the Shell (Kôkaku kidôtai)', 3.0], ['Mars Attacks!', 5.0], ['Postman, The (Postino, Il)', 4.0], ['Sleepers', 3.0], ['Shine', 5.0], [\"Antonia's Line (Antonia)\", 5.0], ['Angels and Insects', 4.0], ['Beautiful Girls', 3.0], ['Once Were Warriors', 4.0], ['Three Colors: Blue (Trois couleurs: Bleu)', 3.0], ['Six Degrees of Separation', 4.0], ['Wallace & Gromit: The Best of Aardman Animation', 4.0], ['Bound', 5.0], ['Big Night', 4.0], [\"Microcosmos (Microcosmos: Le peuple de l'herbe)\", 4.0], ['Crucible, The', 3.0], ['Frighteners, The', 3.0], ['Dracula: Dead and Loving It', 2.0], ['Jack', 3.0], ['Harriet the Spy', 5.0], ['Very Brady Sequel, A', 4.0], ['High School High', 2.0], ['Island of Dr. Moreau, The', 3.0], ['Michael', 4.0], ['Fear', 3.0], ['Addiction, The', 3.0], ['Pallbearer, The', 3.0], ['City Hall', 4.0], ['Before and After', 3.0], ['Mulholland Falls', 3.0], ['Multiplicity', 1.0], ['Two if by Sea', 3.0], ['Restoration', 4.0], ['Diabolique', 3.0], ['Walkabout', 5.0], ['Flirting With Disaster', 3.0], ['Vanya on 42nd Street', 4.0], ['Welcome to the Dollhouse', 4.0], ['Cold Comfort Farm', 4.0], ['Streetcar Named Desire, A', 4.0], ['Georgia', 4.0], ['Crossing Guard, The', 3.0], ['Mary Reilly', 3.0], ['Manny & Lo', 5.0], ['Lost Highway', 4.0], ['Mrs. Parker and the Vicious Circle', 4.0], ['Go Fish', 4.0], ['I Shot Andy Warhol', 3.0], ['Basquiat', 4.0], ['Kansas City', 4.0], ['That Thing You Do!', 3.0], ['Anne Frank Remembered', 5.0], ['Eye for an Eye', 3.0], [\"Things to Do in Denver When You're Dead\", 4.0], ['Unstrung Heroes', 5.0], [\"Nobody's Fool\", 3.0], ['Sunset Park', 3.0], ['Exotica', 3.0], ['Strawberry and Chocolate (Fresa y chocolate)', 3.0], ['Grateful Dead', 5.0], ['Rosewood', 4.0], ['Fled', 3.0], ['Get on the Bus', 4.0], ['Bogus', 4.0], ['Everyone Says I Love You', 4.0], ['Ridicule', 4.0], ['Two Bits', 4.0], ['French Twist (Gazon maudit)', 3.0], ['Once Upon a Time... When We Were Colored', 5.0], [\"Star Maker, The (Uomo delle stelle, L')\", 3.0], ['Neon Bible, The', 3.0], ['Blue in the Face', 4.0], ['Before the Rain (Pred dozhdot)', 4.0], ['Naked', 4.0], ['Loaded', 3.0], ['My Favorite Season', 3.0], ['301, 302 (301/302)', 4.0], ['Feeling Minnesota', 4.0], ['Visitors, The (Visiteurs, Les)', 4.0], ['Arrival, The', 3.0], ['Heavy', 5.0], ['Walking and Talking', 4.0], ['Bulletproof', 3.0], ['Twelfth Night', 4.0], ['Dangerous Ground', 4.0], ['Set It Off', 4.0], [\"Ed's Next Move\", 5.0], ['Extreme Measures', 3.0], ['Palookaville', 4.0], ['Paris Was a Woman', 4.0], [\"Preacher's Wife, The\", 4.0], ['Portrait of a Lady, The', 4.0], [\"Gridlock'd\", 4.0], ['Prisoner of the Mountains (Kavkazsky plennik)', 5.0], ['Monster, The (Mostro, Il)', 3.0]]\n"
     ]
    }
   ],
   "source": [
    "ret = m2v_rs.recommend_movies(100,topn=10)\n",
    "print('------------------------------')\n",
    "print('* 추천영화\\n', ret['recommended'])\n",
    "print('------------------------------')\n",
    "print('* 별점 매긴영화\\n', ret['ratings'])"
   ]
  },
  {
   "cell_type": "markdown",
   "metadata": {},
   "source": [
    "## 2000만건 데이터셋으로 학습하기 "
   ]
  },
  {
   "cell_type": "code",
   "execution_count": null,
   "metadata": {
    "collapsed": false
   },
   "outputs": [],
   "source": [
    "\"\"\"\n",
    "m2v_rs = m2v_recsys('ml-20m')\n",
    "m2v_rs.training()\n",
    "m2v_rs.save_model('./resource/m2v_rs.ml20.model')\n",
    "\"\"\""
   ]
  },
  {
   "cell_type": "code",
   "execution_count": 352,
   "metadata": {
    "collapsed": false
   },
   "outputs": [
    {
     "name": "stdout",
     "output_type": "stream",
     "text": [
      "model loaded ./resource/m2v_rs.ml20.model\n"
     ]
    }
   ],
   "source": [
    "m2v_rs_ml20 = m2v_recsys('ml-20m')\n",
    "m2v_rs_ml20.load_model('./resource/m2v_rs.ml20.model')"
   ]
  },
  {
   "cell_type": "code",
   "execution_count": 353,
   "metadata": {
    "collapsed": false
   },
   "outputs": [
    {
     "data": {
      "text/plain": [
       "[('Mrs. Doubtfire', 0.7438002824783325),\n",
       " ('Mask, The', 0.7124621272087097),\n",
       " ('Sleepless in Seattle', 0.7078831195831299),\n",
       " ('Ghost', 0.6981393694877625),\n",
       " ('Babe', 0.6647126078605652),\n",
       " ('Four Weddings and a Funeral', 0.6088311672210693),\n",
       " ('Lion King, The', 0.5941227674484253),\n",
       " ('Titanic', 0.5748208165168762),\n",
       " ('Firm, The', 0.5606018304824829),\n",
       " ('Outbreak', 0.5603909492492676)]"
      ]
     },
     "execution_count": 353,
     "metadata": {},
     "output_type": "execute_result"
    }
   ],
   "source": [
    "## 유사한 영화 ml-20m기준 \n",
    "m2v_rs_ml20.nearest_neighbors_by_m2v(['Pretty Woman'], topn=10)"
   ]
  },
  {
   "cell_type": "code",
   "execution_count": 354,
   "metadata": {
    "collapsed": false
   },
   "outputs": [
    {
     "name": "stdout",
     "output_type": "stream",
     "text": [
      "unique userid cnt 138493\n"
     ]
    }
   ],
   "source": [
    "print('unique userid cnt',len(m2v_rs_ml20.ratings['userId'].unique()))"
   ]
  },
  {
   "cell_type": "code",
   "execution_count": 361,
   "metadata": {
    "collapsed": false,
    "scrolled": false
   },
   "outputs": [
    {
     "name": "stdout",
     "output_type": "stream",
     "text": [
      "추천영화\n",
      " [('Braveheart', 9.81596048724656), ('Piano, The', 7.3276034583878431), ('Firm, The', 6.7822411937512292), ('Outbreak', 5.9857618788520757), ('Apollo 13', 5.7976622045011235), ('Farewell My Concubine (Ba wang bie ji)', 5.5339653096944454), ('Remains of the Day, The', 5.4431525602738331), ('Taxi Driver', 5.4017879480583648), ('Bullets Over Broadway', 5.2129741615347776), ('Matrix, The', 5.0703639046479783)]\n",
      "**********************************\n",
      "별점 매긴영화\n",
      " [['Twelve Monkeys (a.k.a. 12 Monkeys)', 3.0], ['Usual Suspects, The', 5.0], ['Clerks', 4.0], ['Star Wars: Episode IV - A New Hope', 4.0], ['Léon: The Professional (a.k.a. The Professional) (Léon)', 5.0], ['Pulp Fiction', 4.0], ['Shawshank Redemption, The', 3.0], [\"What's Eating Gilbert Grape\", 3.0], ['Terminator 2: Judgment Day', 3.0], ['Silence of the Lambs, The', 4.0], ['From Dusk Till Dawn', 3.0], ['Star Wars: Episode VI - Return of the Jedi', 4.0], ['Star Trek: Generations', 3.0], ['Heavy Metal', 4.0], ['Independence Day (a.k.a. ID4)', 3.0], ['Forrest Gump', 4.0], [\"Carlito's Way\", 3.0], ['Home Alone', 1.0], ['Ed Wood', 4.0], ['Mrs. Doubtfire', 2.0], ['Philadelphia', 3.0], ['Ghost', 3.0], ['Fargo', 4.0], ['Truth About Cats & Dogs, The', 4.0], ['While You Were Sleeping', 3.0], ['Waiting for Guffman', 5.0], ['Clueless', 3.0], ['Crimson Tide', 3.0], ['Net, The', 2.0], ['Natural Born Killers', 4.0], ['Ace Ventura: Pet Detective', 3.0], ['Cliffhanger', 2.0], [\"Schindler's List\", 4.0], ['Leaving Las Vegas', 4.0], ['Space Jam', 4.0], ['Fifth Element, The', 4.0], ['Coneheads', 3.0], ['Hudsucker Proxy, The', 3.0], ['Cold Comfort Farm', 4.0], ['Nixon', 3.0], ['Welcome to the Dollhouse', 4.0], ['Trainspotting', 4.0], [\"Muriel's Wedding\", 4.0], ['Short Cuts', 4.0], ['Crumb', 4.0], ['Kalifornia', 3.0], ['Like Water for Chocolate (Como agua para chocolate)', 4.0], ['Six Degrees of Separation', 4.0], ['Smoke', 3.0], ['Boxing Helena', 2.0], ['Alphaville (Alphaville, une étrange aventure de Lemmy Caution)', 5.0], ['Palookaville', 4.0]]\n"
     ]
    }
   ],
   "source": [
    "ret = m2v_rs_ml20.recommend_movies(100)\n",
    "print('추천영화\\n', ret['recommended'])\n",
    "print('**********************************')\n",
    "print('별점 매긴영화\\n', ret['ratings'])"
   ]
  },
  {
   "cell_type": "code",
   "execution_count": null,
   "metadata": {
    "collapsed": true
   },
   "outputs": [],
   "source": []
  }
 ],
 "metadata": {
  "kernelspec": {
   "display_name": "Python 3",
   "language": "python",
   "name": "python3"
  },
  "language_info": {
   "codemirror_mode": {
    "name": "ipython",
    "version": 3
   },
   "file_extension": ".py",
   "mimetype": "text/x-python",
   "name": "python",
   "nbconvert_exporter": "python",
   "pygments_lexer": "ipython3",
   "version": "3.4.3"
  }
 },
 "nbformat": 4,
 "nbformat_minor": 0
}
