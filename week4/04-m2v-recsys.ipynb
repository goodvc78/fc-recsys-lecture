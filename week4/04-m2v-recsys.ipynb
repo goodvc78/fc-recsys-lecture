{
 "cells": [
  {
   "cell_type": "markdown",
   "metadata": {},
   "source": [
    "## word2vec으로 추천 시스템 구현하기 "
   ]
  },
  {
   "cell_type": "code",
   "execution_count": 311,
   "metadata": {
    "collapsed": false
   },
   "outputs": [],
   "source": [
    "from gensim.models import Word2Vec\n",
    "import pandas as pd\n",
    "from collections import defaultdict\n",
    "import numpy as np"
   ]
  },
  {
   "cell_type": "code",
   "execution_count": 379,
   "metadata": {
    "collapsed": false,
    "scrolled": false
   },
   "outputs": [],
   "source": [
    "## string to int with ignore none disit\n",
    "def toint(s,default=0):\n",
    "    converted = default\n",
    "    try :\n",
    "        converted = int(s)\n",
    "    except:\n",
    "        #print('string convert exception \"{0}\" (default={1})\"'.format(s , default))\n",
    "        pass\n",
    "    return converted\n",
    "\n",
    "class m2v_recsys:\n",
    "    model = None\n",
    "    home_dir = '/Users/goodvc/Documents/data-analytics/movie-recommendation/'\n",
    "    w2v_env = { 'min_count':5, 'size':100, 'window':5 }\n",
    "    nn_func = None\n",
    "\n",
    "    ## initialize\n",
    "    def __init__(self, ds_type='ml-latest-small'):\n",
    "        self.ds_type = ds_type\n",
    "        self.movieLensDataLoad()\n",
    "\n",
    "    \n",
    "    ## dataset load\n",
    "    def movieLensDataLoad(self, ds_type=None):\n",
    "        if ds_type != None:\n",
    "            self.ds_type = ds_type\n",
    "        ## user 영화 별점 data \n",
    "        self.ratings = pd.read_csv('{home}/{type}/{name}'.format( home=self.home_dir, type=self.ds_type, name='ratings.csv'))\n",
    "\n",
    "        ## movie meta(타이트,장르) data \n",
    "        self.movies = pd.read_csv('{home}/{type}/{name}'.format( home=self.home_dir, type=self.ds_type, name='movies.csv'))\n",
    "        ## split title and release year . ex) Nixon (1995) => Nixon , 1995\n",
    "        self.movies['year'] = self.movies['title'].apply(lambda x: toint(x.strip()[-5:-1], 1950))\n",
    "        self.movies['title'] = self.movies['title'].apply(lambda x: x[:-7].strip())\n",
    "        \n",
    "        ## user가 영화에 tag를 기입한 data\n",
    "        self.tags = pd.read_csv('{home}/{type}/{name}'.format( home=self.home_dir, type=self.ds_type, name='tags.csv'))\n",
    "\n",
    "        ## join ratings and movies by movieId \n",
    "        self.ratings_movie = pd.merge( self.ratings, self.movies, on='movieId' )\n",
    "        \n",
    "    def make_sentences(self, threshold=3):\n",
    "        ## corpus를 만듦\n",
    "        corpus = []\n",
    "        grouped = self.ratings_movie[self.ratings_movie.rating>=threshold].groupby(['userId'])\n",
    "        for idx, user in grouped:\n",
    "            corpus.append (user.sort(['timestamp'])['title'].values)\n",
    "        return corpus\n",
    "        \n",
    "    def load_model(self, model_path):\n",
    "        self.model = Word2Vec.load(model_path)\n",
    "        print('model loaded', model_path)\n",
    "    def save_model(self, model_path):\n",
    "        self.model.save(model_path)\n",
    "        \n",
    "    def training(self):\n",
    "        if self.model == None :\n",
    "            self.scentences = self.make_sentences()\n",
    "            self.model = Word2Vec(self.scentences, \n",
    "                                  min_count = self.w2v_env['min_count'],\n",
    "                                  size = self.w2v_env['size'], \n",
    "                                  window = self.w2v_env['window'])\n",
    "            print('model trained')\n",
    "            \n",
    "    def nearest_neighbors_by_m2v(self, target, topn=10):\n",
    "        if str == type(target):\n",
    "            target=[target]\n",
    "        result = []\n",
    "        try:\n",
    "            result = self.model.most_similar(positive=target, topn=topn)\n",
    "        except:\n",
    "            pass\n",
    "        return result\n",
    "\n",
    "    def user_interests(self, userId):\n",
    "        return self.ratings_movie[self.ratings_movie.userId==userId][['title','rating']].values.tolist()\n",
    "    \n",
    "    def cal_score(self, title, sim, rating, pre_score):\n",
    "        score = np.linalg.norm([sim, rating/5])\n",
    "        score = score+pre_score\n",
    "        return score\n",
    "    \n",
    "    def recommend_movies(self, userId, topn=10):\n",
    "        movies = defaultdict(float)\n",
    "        interests = self.user_interests(userId)\n",
    "        seenMovies = set( m for m,s in interests )\n",
    "        for title, rating in interests:\n",
    "            neighbors = self.nearest_neighbors_by_m2v(title)\n",
    "            for (title2, sim) in neighbors:\n",
    "                if title2 in seenMovies:\n",
    "                    continue\n",
    "                pre = movies.get(title2, 0.0)\n",
    "                movies[title2] = self.cal_score( title2, sim, rating, pre ) \n",
    "        \n",
    "        \n",
    "        return {'recommended' : sorted(movies.items(), key=lambda x: x[1], reverse=True)[:topn]\n",
    "                ,'ratings':interests}"
   ]
  },
  {
   "cell_type": "code",
   "execution_count": 390,
   "metadata": {
    "collapsed": false
   },
   "outputs": [],
   "source": [
    "## 객채생성\n",
    "m2v_rs = m2v_recsys('ml-20m')"
   ]
  },
  {
   "cell_type": "code",
   "execution_count": 391,
   "metadata": {
    "collapsed": false
   },
   "outputs": [
    {
     "name": "stdout",
     "output_type": "stream",
     "text": [
      "model trained\n"
     ]
    }
   ],
   "source": [
    "## training word2vec by dataset  \n",
    "m2v_rs.training()"
   ]
  },
  {
   "cell_type": "code",
   "execution_count": 392,
   "metadata": {
    "collapsed": true
   },
   "outputs": [],
   "source": [
    "## 현재 모델 save \n",
    "m2v_rs.save_model('./resource/m2v_rs.model')"
   ]
  },
  {
   "cell_type": "code",
   "execution_count": 386,
   "metadata": {
    "collapsed": false
   },
   "outputs": [
    {
     "name": "stdout",
     "output_type": "stream",
     "text": [
      "model loaded ./resource/m2v_rs.model\n"
     ]
    }
   ],
   "source": [
    "## model load by stored model \n",
    "m2v_rs.load_model('./resource/m2v_rs.model')"
   ]
  },
  {
   "cell_type": "code",
   "execution_count": 393,
   "metadata": {
    "collapsed": false
   },
   "outputs": [
    {
     "data": {
      "text/plain": [
       "[('Mrs. Doubtfire', 0.8343678712844849),\n",
       " ('Sleepless in Seattle', 0.7996337413787842),\n",
       " ('Ghost', 0.7749167680740356),\n",
       " ('Four Weddings and a Funeral', 0.6766372919082642),\n",
       " ('Home Alone', 0.566810131072998),\n",
       " ('Dave', 0.541807234287262),\n",
       " ('Mask, The', 0.5382343530654907),\n",
       " ('Clueless', 0.4904743731021881),\n",
       " ('Speed', 0.45424380898475647),\n",
       " ('Lion King, The', 0.4170827269554138),\n",
       " ('Honeymoon in Vegas', 0.4107261300086975),\n",
       " ('Babe', 0.4099928140640259),\n",
       " ('American President, The', 0.3972340524196625),\n",
       " ('Get Shorty', 0.39445391297340393),\n",
       " ('Legends of the Fall', 0.3922925591468811),\n",
       " ('Disclosure', 0.3901379704475403),\n",
       " ('Firm, The', 0.38381075859069824),\n",
       " ('Titanic', 0.383249431848526),\n",
       " (\"My Best Friend's Wedding\", 0.38175398111343384),\n",
       " ('Client, The', 0.38019418716430664)]"
      ]
     },
     "execution_count": 393,
     "metadata": {},
     "output_type": "execute_result"
    }
   ],
   "source": [
    "## 유사한 영화 \n",
    "m2v_rs.nearest_neighbors_by_m2v(['Pretty Woman'],topn=20)"
   ]
  },
  {
   "cell_type": "code",
   "execution_count": 396,
   "metadata": {
    "collapsed": false
   },
   "outputs": [
    {
     "name": "stdout",
     "output_type": "stream",
     "text": [
      "------------------------------\n",
      "* 추천영화\n",
      " [(\"One Flew Over the Cuckoo's Nest\", 6.5513627810653006), ('Princess Bride, The', 5.8007875671571263), ('Matrix, The', 5.7390612873910358), ('Back to the Future', 4.7299128096496688), ('Goodfellas', 4.3824094602152357), ('To Kill a Mockingbird', 4.2826127758085217), ('Cool Hand Luke', 4.0310176060041769), ('Great Escape, The', 3.9530060413418626), ('Boot, Das (Boat, The)', 3.8273938671804126), ('Guns of Navarone, The', 3.3617878566685091)]\n",
      "------------------------------\n",
      "* 별점 매긴영화\n",
      " [['Star Wars: Episode IV - A New Hope', 4.0], ['Monty Python and the Holy Grail', 4.0], ['Star Wars: Episode V - The Empire Strikes Back', 4.0], ['Raiders of the Lost Ark (Indiana Jones and the Raiders of the Lost Ark)', 4.0], ['Apocalypse Now', 4.0], ['Full Metal Jacket', 3.0], ['Terminator, The', 4.0], ['Butch Cassidy and the Sundance Kid', 3.0], ['Jaws', 5.0], ['Untouchables, The', 4.0], ['Dirty Dozen, The', 4.0], ['Star Wars: Episode VI - Return of the Jedi', 4.0], ['From Russia with Love', 4.0], ['Toy Story', 4.0], ['Godfather, The', 5.0], ['Crying Game, The', 3.0], ['Godfather: Part II, The', 5.0], ['Annie Hall', 4.0], ['Glory', 4.0], ['Graduate, The', 5.0], ['Titanic', 4.0], ['Saving Private Ryan', 4.0], ['Planet of the Apes', 3.0], ['Rocky Horror Picture Show, The', 4.0], ['Big', 4.0], ['Forrest Gump', 3.0], ['American President, The', 4.0], ['Casablanca', 4.0], ['Babe: Pig in the City', 4.0], ['Longest Day, The', 4.0], [\"Schindler's List\", 5.0], ['Leaving Las Vegas', 4.0], ['African Queen, The', 4.0], ['Lawrence of Arabia', 3.0], ['Bridge on the River Kwai, The', 4.0], ['Last Emperor, The', 3.0], ['Negotiator, The', 3.0], ['Backdraft', 3.0]]\n"
     ]
    }
   ],
   "source": [
    "ret = m2v_rs.recommend_movies(10,topn=10)\n",
    "print('------------------------------')\n",
    "print('* 추천영화\\n', ret['recommended'])\n",
    "print('------------------------------')\n",
    "print('* 별점 매긴영화\\n', ret['ratings'])"
   ]
  },
  {
   "cell_type": "markdown",
   "metadata": {},
   "source": [
    "## 2000만건 데이터셋으로 학습하기 "
   ]
  },
  {
   "cell_type": "code",
   "execution_count": null,
   "metadata": {
    "collapsed": false
   },
   "outputs": [],
   "source": [
    "\"\"\"\n",
    "m2v_rs = m2v_recsys('ml-20m')\n",
    "m2v_rs.training()\n",
    "m2v_rs.save_model('./resource/m2v_rs.ml20.model')\n",
    "\"\"\""
   ]
  },
  {
   "cell_type": "code",
   "execution_count": 389,
   "metadata": {
    "collapsed": false
   },
   "outputs": [
    {
     "name": "stdout",
     "output_type": "stream",
     "text": [
      "model loaded ./resource/m2v_rs.ml20.model\n"
     ]
    }
   ],
   "source": [
    "m2v_rs_ml20 = m2v_recsys('ml-20m')\n",
    "m2v_rs_ml20.load_model('./resource/m2v_rs.ml20.model')"
   ]
  },
  {
   "cell_type": "code",
   "execution_count": 353,
   "metadata": {
    "collapsed": false
   },
   "outputs": [
    {
     "data": {
      "text/plain": [
       "[('Mrs. Doubtfire', 0.7438002824783325),\n",
       " ('Mask, The', 0.7124621272087097),\n",
       " ('Sleepless in Seattle', 0.7078831195831299),\n",
       " ('Ghost', 0.6981393694877625),\n",
       " ('Babe', 0.6647126078605652),\n",
       " ('Four Weddings and a Funeral', 0.6088311672210693),\n",
       " ('Lion King, The', 0.5941227674484253),\n",
       " ('Titanic', 0.5748208165168762),\n",
       " ('Firm, The', 0.5606018304824829),\n",
       " ('Outbreak', 0.5603909492492676)]"
      ]
     },
     "execution_count": 353,
     "metadata": {},
     "output_type": "execute_result"
    }
   ],
   "source": [
    "## 유사한 영화 ml-20m기준 \n",
    "m2v_rs_ml20.nearest_neighbors_by_m2v(['Pretty Woman'], topn=10)"
   ]
  },
  {
   "cell_type": "code",
   "execution_count": 354,
   "metadata": {
    "collapsed": false
   },
   "outputs": [
    {
     "name": "stdout",
     "output_type": "stream",
     "text": [
      "unique userid cnt 138493\n"
     ]
    }
   ],
   "source": [
    "print('unique userid cnt',len(m2v_rs_ml20.ratings['userId'].unique()))"
   ]
  },
  {
   "cell_type": "code",
   "execution_count": 361,
   "metadata": {
    "collapsed": false,
    "scrolled": false
   },
   "outputs": [
    {
     "name": "stdout",
     "output_type": "stream",
     "text": [
      "추천영화\n",
      " [('Braveheart', 9.81596048724656), ('Piano, The', 7.3276034583878431), ('Firm, The', 6.7822411937512292), ('Outbreak', 5.9857618788520757), ('Apollo 13', 5.7976622045011235), ('Farewell My Concubine (Ba wang bie ji)', 5.5339653096944454), ('Remains of the Day, The', 5.4431525602738331), ('Taxi Driver', 5.4017879480583648), ('Bullets Over Broadway', 5.2129741615347776), ('Matrix, The', 5.0703639046479783)]\n",
      "**********************************\n",
      "별점 매긴영화\n",
      " [['Twelve Monkeys (a.k.a. 12 Monkeys)', 3.0], ['Usual Suspects, The', 5.0], ['Clerks', 4.0], ['Star Wars: Episode IV - A New Hope', 4.0], ['Léon: The Professional (a.k.a. The Professional) (Léon)', 5.0], ['Pulp Fiction', 4.0], ['Shawshank Redemption, The', 3.0], [\"What's Eating Gilbert Grape\", 3.0], ['Terminator 2: Judgment Day', 3.0], ['Silence of the Lambs, The', 4.0], ['From Dusk Till Dawn', 3.0], ['Star Wars: Episode VI - Return of the Jedi', 4.0], ['Star Trek: Generations', 3.0], ['Heavy Metal', 4.0], ['Independence Day (a.k.a. ID4)', 3.0], ['Forrest Gump', 4.0], [\"Carlito's Way\", 3.0], ['Home Alone', 1.0], ['Ed Wood', 4.0], ['Mrs. Doubtfire', 2.0], ['Philadelphia', 3.0], ['Ghost', 3.0], ['Fargo', 4.0], ['Truth About Cats & Dogs, The', 4.0], ['While You Were Sleeping', 3.0], ['Waiting for Guffman', 5.0], ['Clueless', 3.0], ['Crimson Tide', 3.0], ['Net, The', 2.0], ['Natural Born Killers', 4.0], ['Ace Ventura: Pet Detective', 3.0], ['Cliffhanger', 2.0], [\"Schindler's List\", 4.0], ['Leaving Las Vegas', 4.0], ['Space Jam', 4.0], ['Fifth Element, The', 4.0], ['Coneheads', 3.0], ['Hudsucker Proxy, The', 3.0], ['Cold Comfort Farm', 4.0], ['Nixon', 3.0], ['Welcome to the Dollhouse', 4.0], ['Trainspotting', 4.0], [\"Muriel's Wedding\", 4.0], ['Short Cuts', 4.0], ['Crumb', 4.0], ['Kalifornia', 3.0], ['Like Water for Chocolate (Como agua para chocolate)', 4.0], ['Six Degrees of Separation', 4.0], ['Smoke', 3.0], ['Boxing Helena', 2.0], ['Alphaville (Alphaville, une étrange aventure de Lemmy Caution)', 5.0], ['Palookaville', 4.0]]\n"
     ]
    }
   ],
   "source": [
    "ret = m2v_rs_ml20.recommend_movies(100)\n",
    "print('추천영화\\n', ret['recommended'])\n",
    "print('**********************************')\n",
    "print('별점 매긴영화\\n', ret['ratings'])"
   ]
  },
  {
   "cell_type": "code",
   "execution_count": null,
   "metadata": {
    "collapsed": true
   },
   "outputs": [],
   "source": []
  }
 ],
 "metadata": {
  "kernelspec": {
   "display_name": "Python 3",
   "language": "python",
   "name": "python3"
  },
  "language_info": {
   "codemirror_mode": {
    "name": "ipython",
    "version": 3
   },
   "file_extension": ".py",
   "mimetype": "text/x-python",
   "name": "python",
   "nbconvert_exporter": "python",
   "pygments_lexer": "ipython3",
   "version": "3.4.3"
  }
 },
 "nbformat": 4,
 "nbformat_minor": 0
}
