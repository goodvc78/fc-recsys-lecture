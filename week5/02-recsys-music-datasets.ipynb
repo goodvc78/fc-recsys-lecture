{
 "cells": [
  {
   "cell_type": "markdown",
   "metadata": {},
   "source": [
    "## Item based CF구현\n",
    "\n",
    "1. item(music) 유사도 matrix구현\n",
    "2. 개인 관심도 구현 \n",
    "3. 개인 관심도로 유사 음악 찾아서 추천 "
   ]
  },
  {
   "cell_type": "code",
   "execution_count": 2,
   "metadata": {
    "collapsed": false
   },
   "outputs": [],
   "source": [
    "#def dataLoad():\n",
    "\n",
    "import pandas as pd\n",
    "import numpy as np\n",
    "import matplotlib.pyplot as plt\n",
    "import matplotlib.pyplot as mpl\n",
    "from collections import defaultdict\n",
    "%matplotlib inline"
   ]
  },
  {
   "cell_type": "code",
   "execution_count": 3,
   "metadata": {
    "collapsed": false
   },
   "outputs": [],
   "source": [
    "## string to int with ignore none disit\n",
    "def toint(s,default=0):\n",
    "    converted = default\n",
    "    try :\n",
    "        converted = int(s)\n",
    "    except:\n",
    "        #print('string convert exception \"{0}\" (default={1})\"'.format(s , default))\n",
    "        pass\n",
    "    return converted\n",
    "\n",
    "class music_recsys:\n",
    "    model = None\n",
    "    home_dir = '/Users/goodvc/Data/fastcampus/week5/resource/music-ds/'\n",
    "    w2v_env = { 'min_count':5, 'size':100, 'window':5 }\n",
    "    nn_func = None\n",
    "    \n",
    "    ## initialize\n",
    "    def __init__(self):\n",
    "        #self.data_load()\n",
    "        #self.data_processing();\n",
    "        print('init')\n",
    "    \n",
    "    ## dataset load\n",
    "    def data_load(self):\n",
    "        ## music streaming log data\n",
    "        self.streamings = pd.read_csv(self.home_dir+'streaming_ds.csv', \n",
    "                                      names = ['MEM_UNO', 'SONG_ID', 'ARTIST_ID', 'GENRE_CODE', 'REG_DATE'], index_col = 1)\n",
    "        self.streamings = self.streamings.convert_objects(convert_numeric=True).dropna()\n",
    "        self.genre = pd.read_csv(self.home_dir+'genre.csv', \n",
    "                                      names = ['GENRE_CODE', 'GENRE_NAME'], index_col = 0)\n",
    "        self.artist = pd.read_csv(self.home_dir+'artist.csv', \n",
    "                                      names = ['ARTIST_ID', 'ARTIST_NAME'], index_col = 0)\n",
    "    def data_processing(self):\n",
    "        #music_user_dict\n",
    "        self.music_user_dict = defaultdict(set)\n",
    "        for idx, row in self.streamings[:].iterrows():\n",
    "            self.music_user_dict[idx].add(int(row.MEM_UNO))\n",
    "        \n",
    "    ## data filtering \n",
    "    ## 1. 시청이 2건이하 음원\n",
    "    def filtering(self):\n",
    "        self.streamings = self.streamings.groupby(['SONG_ID']).filter( lambda x: len(x) > 2)\n",
    "        \n",
    "    def nearest_neighbors(self, song_id, topn=10, threshold=3 ):\n",
    "        item1 = self.music_user_dict[song_id]\n",
    "        if len(item1) < threshold:\n",
    "            return []\n",
    "        nn = []\n",
    "        for song_id2, item2 in self.music_user_dict.items():\n",
    "            intersections = len(item1.intersection(item2))\n",
    "            if intersections == 0 or song_id2 == song_id:\n",
    "                continue\n",
    "            unions = len(item1.union(item2))+1\n",
    "            similarity = intersections / unions \n",
    "            nn.append([song_id2,similarity])\n",
    "        return sorted(nn,key=lambda x: x[1], reverse=True)[:topn]\n",
    "    \n",
    "    def user_interests(self, uno):\n",
    "        return self.streamings[self.streamings.MEM_UNO==uno].index.tolist()\n",
    "    \n",
    "    def cal_score(self, sim, pre_score):\n",
    "        return  sim if pre_score < sim else pre_score\n",
    "    \n",
    "    def recommend_music(self, uno, topn=10):\n",
    "        musics = defaultdict(float)\n",
    "        interests = self.user_interests(uno)\n",
    "        for song in interests:\n",
    "            neighbors = self.nearest_neighbors(song)\n",
    "            for (song2, sim) in neighbors:\n",
    "                #if song2 in interests:\n",
    "                #    continue\n",
    "                pre = musics.get(song2, 0.0)\n",
    "                musics[song2] = self.cal_score(sim, pre)\n",
    "\n",
    "        return {'recommended' : sorted(musics.items(), key=lambda x: x[1], reverse=True)[:topn]\n",
    "                ,'seens':interests}\n",
    "\n",
    "    def print_artist(self, song_list ):\n",
    "        for song in song_list:\n",
    "            try:\n",
    "                if type(song) in { tuple, list} :\n",
    "                    song = song[0]\n",
    "                song = int(song)\n",
    "                artist = self.streamings.loc[song][:1].ARTIST_ID.tolist()[0]\n",
    "                n = self.artist.loc[str(artist)][:1].ARTIST_NAME\n",
    "                print(song, n)\n",
    "            except:\n",
    "                print(song, 'no-artist')\n"
   ]
  },
  {
   "cell_type": "code",
   "execution_count": 4,
   "metadata": {
    "collapsed": false
   },
   "outputs": [
    {
     "name": "stdout",
     "output_type": "stream",
     "text": [
      "init\n"
     ]
    },
    {
     "name": "stderr",
     "output_type": "stream",
     "text": [
      "/Library/Frameworks/Python.framework/Versions/3.4/lib/python3.4/site-packages/pandas/io/parsers.py:1159: DtypeWarning: Columns (0) have mixed types. Specify dtype option on import or set low_memory=False.\n",
      "  data = self._reader.read(nrows)\n"
     ]
    }
   ],
   "source": [
    "rs = music_recsys()\n",
    "rs.data_load()\n",
    "rs.data_processing()"
   ]
  },
  {
   "cell_type": "code",
   "execution_count": 9,
   "metadata": {
    "collapsed": false
   },
   "outputs": [
    {
     "name": "stdout",
     "output_type": "stream",
     "text": [
      "84699045 원더걸스 (Wonder Girls)\n",
      "84686902 BIGBANG\n",
      "84581811 no-artist\n",
      "84568778 Apink (에이핑크)\n",
      "84201067 BIGBANG\n",
      "84847396 현아 (4Minute)\n",
      "84369985 마마무\n",
      "84168515 혁오 (hyukoh)\n",
      "84372538 씨스타 (Sistar)\n",
      "84372192 AOA\n",
      "84686903 BIGBANG\n",
      "84059724 Zion.T\n",
      "84760929 Simon Dominic\n",
      "84064039 백아연\n",
      "82821208 Zion.T\n",
      "84699325 no-artist\n",
      "84801754 소녀시대\n",
      "84822793 SG워너비\n",
      "84672668 유승우\n",
      "84822791 SG워너비\n",
      "82812257 혁오 (hyukoh)\n"
     ]
    }
   ],
   "source": [
    "## 84699045 원더걸스 (Wonder Girls) 유사한 음원은?\n",
    "ret = rs.nearest_neighbors(84699045, topn=20)\n",
    "rs.print_artist([84699045]+ret)"
   ]
  },
  {
   "cell_type": "code",
   "execution_count": 7,
   "metadata": {
    "collapsed": false
   },
   "outputs": [
    {
     "name": "stdout",
     "output_type": "stream",
     "text": [
      "*** 추천 음악 ***\n",
      "80696497 씨야 (SeeYa)\n",
      "16098763 뱅크\n",
      "75195354 플라이 투 더 스카이 (Fly To The Sky)\n",
      "16128654 이기찬\n",
      "48197709 엠씨더맥스 (M.C the MAX)\n",
      "81028747 김연우\n",
      "16131081 윤미래 (T)\n",
      "52802787 프리스타일 (Free Style)\n",
      "16174214 유엔 (UN)\n",
      "16178434 SG워너비\n",
      "42299486 Boyz II Men\n",
      "80594467 Boyz II Men\n",
      "16174405 no-artist\n",
      "49619408 no-artist\n",
      "49619412 no-artist\n",
      "49619413 no-artist\n",
      "49619440 no-artist\n",
      "49619442 no-artist\n",
      "49619443 no-artist\n",
      "49619449 no-artist\n",
      "*** 시청한 음악 ***\n",
      "15965255 no-artist\n",
      "16186222 테이 (Tei)\n",
      "17465599 버즈 (Buzz)\n",
      "40207122 하동균\n",
      "49619416 Boyz II Men\n",
      "82872166 비스트 (Beast)\n",
      "83360622 제아 (브라운아이드걸스)\n"
     ]
    }
   ],
   "source": [
    "ret = rs.recommend_music(301863475, topn=20)\n",
    "print('*** 추천 음악 ***')\n",
    "rs.print_artist(ret['recommended'])\n",
    "print('*** 시청한 음악 ***')\n",
    "rs.print_artist(ret['seens'])"
   ]
  }
 ],
 "metadata": {
  "kernelspec": {
   "display_name": "Python 3",
   "language": "python",
   "name": "python3"
  },
  "language_info": {
   "codemirror_mode": {
    "name": "ipython",
    "version": 3
   },
   "file_extension": ".py",
   "mimetype": "text/x-python",
   "name": "python",
   "nbconvert_exporter": "python",
   "pygments_lexer": "ipython3",
   "version": "3.4.3"
  }
 },
 "nbformat": 4,
 "nbformat_minor": 0
}
