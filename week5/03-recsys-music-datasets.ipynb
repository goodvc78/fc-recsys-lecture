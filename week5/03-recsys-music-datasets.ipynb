{
 "cells": [
  {
   "cell_type": "markdown",
   "metadata": {},
   "source": [
    "## word2vec으로 추천 시스템 구현 \n",
    "\n",
    "1. word2vec으로 트레이닝\n",
    "2. itembased로 개인화 추천 "
   ]
  },
  {
   "cell_type": "code",
   "execution_count": 1,
   "metadata": {
    "collapsed": false
   },
   "outputs": [],
   "source": [
    "#def dataLoad():\n",
    "\n",
    "import pandas as pd\n",
    "import numpy as np\n",
    "import matplotlib.pyplot as plt\n",
    "import matplotlib.pyplot as mpl\n",
    "from gensim.models import Word2Vec\n",
    "from collections import defaultdict\n",
    "%matplotlib inline"
   ]
  },
  {
   "cell_type": "code",
   "execution_count": 12,
   "metadata": {
    "collapsed": false
   },
   "outputs": [],
   "source": [
    "## string to int with ignore none disit\n",
    "def toint(s,default=0):\n",
    "    converted = default\n",
    "    try :\n",
    "        converted = int(s)\n",
    "    except:\n",
    "        #print('string convert exception \"{0}\" (default={1})\"'.format(s , default))\n",
    "        pass\n",
    "    return converted\n",
    "\n",
    "class music_recsys:\n",
    "    model = None\n",
    "    home_dir = '/Users/goodvc/Data/fastcampus/week5/resource/music-ds/'\n",
    "    nn_func = None\n",
    "    \n",
    "    ## initialize\n",
    "    def __init__(self):\n",
    "        #self.data_load()\n",
    "        #self.data_processing();\n",
    "        print('init')\n",
    "    \n",
    "    ## dataset load\n",
    "    def data_load(self):\n",
    "        ## music streaming log data\n",
    "        self.streamings = pd.read_csv(self.home_dir+'streaming_ds.csv', \n",
    "                                      names = ['MEM_UNO', 'SONG_ID', 'ARTIST_ID', 'GENRE_CODE', 'REG_DATE'])\n",
    "        self.streamings.index = self.streamings.SONG_ID\n",
    "        self.streamings = self.streamings.convert_objects(convert_numeric=True).dropna()\n",
    "        self.genre = pd.read_csv(self.home_dir+'genre.csv', \n",
    "                                      names = ['GENRE_CODE', 'GENRE_NAME'], index_col = 0)\n",
    "        self.artist = pd.read_csv(self.home_dir+'artist.csv', \n",
    "                                      names = ['ARTIST_ID', 'ARTIST_NAME'], index_col = 0)\n",
    "    ## make corpus\n",
    "    def make_sentences(self):\n",
    "        corpus = []\n",
    "        grouped = self.streamings.groupby(['MEM_UNO'])\n",
    "        for idx, user in grouped:\n",
    "            l = user['SONG_ID'].apply(lambda x: str(x)).values.tolist()\n",
    "            if len(l)>2:\n",
    "                corpus.append(l)\n",
    "        return corpus\n",
    "    \n",
    "    def training(self):\n",
    "        if self.model == None :\n",
    "            self.scentences = self.make_sentences()\n",
    "            self.model = Word2Vec(self.scentences, min_count = 5, size = 100, window = 5)\n",
    "            print('model trained')\n",
    "    \n",
    "    def load_model(self, model_path):\n",
    "        self.model = Word2Vec.load(model_path)\n",
    "        print('model loaded', model_path)\n",
    "        \n",
    "    def save_model(self, model_path):\n",
    "        self.model.save(model_path)        \n",
    "   \n",
    "    def nearest_neighbors(self, song_id, topn=10):\n",
    "        if str == type(song_id):\n",
    "            song_id=[song_id]\n",
    "        result = []\n",
    "        try:\n",
    "            result = self.model.most_similar(positive=song_id, topn=topn)\n",
    "        except:\n",
    "            pass\n",
    "        return result \n",
    "    def user_interests(self, uno):\n",
    "        return self.streamings[self.streamings.MEM_UNO==uno].index.tolist()\n",
    "    \n",
    "    def cal_score(self, sim, pre_score):\n",
    "        return  sim if pre_score < sim else pre_score\n",
    "        #return  sim + pre_score\n",
    "    \n",
    "    def recommend_music(self, uno, topn=10):\n",
    "        musics = defaultdict(float)\n",
    "        interests = self.user_interests(uno)\n",
    "        for song in interests:\n",
    "            neighbors = self.nearest_neighbors(str(song))\n",
    "            for (song2, sim) in neighbors:\n",
    "                #if song2 in interests:\n",
    "                #    continue\n",
    "                pre = musics.get(song2, 0.0)\n",
    "                musics[song2] = self.cal_score(sim, pre)\n",
    "\n",
    "        return {'recommended' : sorted(musics.items(), key=lambda x: x[1], reverse=True)[:topn]\n",
    "                ,'seens':interests}\n",
    "\n",
    "    def print_artist(self, song_list ):\n",
    "        for song in song_list:\n",
    "            try:\n",
    "                if type(song) in { tuple, list } :\n",
    "                    song = song[0]\n",
    "                song = int(song)\n",
    "                artist = self.streamings.loc[song][:1].ARTIST_ID.tolist()[0]\n",
    "                n = self.artist.loc[str(artist)][:1].ARTIST_NAME\n",
    "                print(song, n)\n",
    "            except:\n",
    "                print(song, 'no-artist')"
   ]
  },
  {
   "cell_type": "code",
   "execution_count": 13,
   "metadata": {
    "collapsed": false
   },
   "outputs": [
    {
     "name": "stdout",
     "output_type": "stream",
     "text": [
      "init\n"
     ]
    },
    {
     "name": "stderr",
     "output_type": "stream",
     "text": [
      "/Library/Frameworks/Python.framework/Versions/3.4/lib/python3.4/site-packages/pandas/io/parsers.py:1159: DtypeWarning: Columns (0) have mixed types. Specify dtype option on import or set low_memory=False.\n",
      "  data = self._reader.read(nrows)\n"
     ]
    }
   ],
   "source": [
    "rs = music_recsys()\n",
    "rs.data_load()"
   ]
  },
  {
   "cell_type": "code",
   "execution_count": 3,
   "metadata": {
    "collapsed": false
   },
   "outputs": [
    {
     "name": "stdout",
     "output_type": "stream",
     "text": [
      "init\n",
      "model trained\n"
     ]
    },
    {
     "name": "stderr",
     "output_type": "stream",
     "text": [
      "/Library/Frameworks/Python.framework/Versions/3.4/lib/python3.4/site-packages/pandas/io/parsers.py:1159: DtypeWarning: Columns (0) have mixed types. Specify dtype option on import or set low_memory=False.\n",
      "  data = self._reader.read(nrows)\n"
     ]
    }
   ],
   "source": [
    "rs.training()"
   ]
  },
  {
   "cell_type": "code",
   "execution_count": 11,
   "metadata": {
    "collapsed": false
   },
   "outputs": [],
   "source": [
    "rs.save_model('./resource/music2vec_rs.model')"
   ]
  },
  {
   "cell_type": "code",
   "execution_count": 14,
   "metadata": {
    "collapsed": false
   },
   "outputs": [
    {
     "name": "stdout",
     "output_type": "stream",
     "text": [
      "model loaded ./resource/music2vec_rs.model\n"
     ]
    }
   ],
   "source": [
    "rs.load_model('./resource/music2vec_rs.model')"
   ]
  },
  {
   "cell_type": "code",
   "execution_count": 16,
   "metadata": {
    "collapsed": false
   },
   "outputs": [
    {
     "name": "stdout",
     "output_type": "stream",
     "text": [
      "84699045 원더걸스 (Wonder Girls)\n",
      "84581811 no-artist\n",
      "84686902 BIGBANG\n",
      "84760929 Simon Dominic\n",
      "84568778 Apink (에이핑크)\n",
      "84688028 스컬&하하\n",
      "84618059 no-artist\n",
      "84688029 스컬&하하\n",
      "84702220 no-artist\n",
      "84564465 구하라\n",
      "84672668 유승우\n",
      "84686922 원더걸스 (Wonder Girls)\n",
      "84715237 김그림\n",
      "84702304 티아라 (T-ara)\n",
      "84581594 Patrick Joseph\n",
      "84688715 틴 탑 (Teen Top)\n",
      "84699077 원더걸스 (Wonder Girls)\n",
      "84699078 원더걸스 (Wonder Girls)\n",
      "84686921 원더걸스 (Wonder Girls)\n",
      "84699047 원더걸스 (Wonder Girls)\n",
      "84649923 딕펑스 (Dickpunks)\n"
     ]
    }
   ],
   "source": [
    "## 84699045 원더걸스 (Wonder Girls) 유사한 음원은?\n",
    "ret = rs.nearest_neighbors('84699045', topn=20)\n",
    "rs.print_artist([84699045]+ret)"
   ]
  },
  {
   "cell_type": "code",
   "execution_count": 15,
   "metadata": {
    "collapsed": false
   },
   "outputs": [
    {
     "name": "stdout",
     "output_type": "stream",
     "text": [
      "*** 추천 음악 ***\n",
      "48197709 엠씨더맥스 (M.C the MAX)\n",
      "16178434 SG워너비\n",
      "16128654 이기찬\n",
      "16131081 윤미래 (T)\n",
      "16098763 뱅크\n",
      "16174214 유엔 (UN)\n",
      "52802787 프리스타일 (Free Style)\n",
      "75195354 플라이 투 더 스카이 (Fly To The Sky)\n",
      "80696497 씨야 (SeeYa)\n",
      "80743667 플라워 (Flower)\n",
      "44366571 윤민수 (Vibe)\n",
      "16110221 컨츄리 꼬꼬\n",
      "16108396 이수영\n",
      "82030328 The 1975\n",
      "16109561 크라잉 넛\n",
      "81360096 에피톤 프로젝트 (Epitone Project)\n",
      "34987791 노블레스 (Noblesse)\n",
      "16128471 박지윤\n",
      "82795971 Sam Smith\n",
      "16186783 배치기\n",
      "*** 시청한 음악 ***\n",
      "15965255 no-artist\n",
      "16186222 테이 (Tei)\n",
      "17465599 버즈 (Buzz)\n",
      "40207122 하동균\n",
      "49619416 Boyz II Men\n",
      "82872166 비스트 (Beast)\n",
      "83360622 제아 (브라운아이드걸스)\n"
     ]
    }
   ],
   "source": [
    "ret = rs.recommend_music(301863475 ,topn=20)\n",
    "print('*** 추천 음악 ***')\n",
    "rs.print_artist(ret['recommended'])\n",
    "print('*** 시청한 음악 ***')\n",
    "rs.print_artist(ret['seens'])"
   ]
  },
  {
   "cell_type": "code",
   "execution_count": null,
   "metadata": {
    "collapsed": true
   },
   "outputs": [],
   "source": []
  }
 ],
 "metadata": {
  "kernelspec": {
   "display_name": "Python 3",
   "language": "python",
   "name": "python3"
  },
  "language_info": {
   "codemirror_mode": {
    "name": "ipython",
    "version": 3
   },
   "file_extension": ".py",
   "mimetype": "text/x-python",
   "name": "python",
   "nbconvert_exporter": "python",
   "pygments_lexer": "ipython3",
   "version": "3.4.3"
  }
 },
 "nbformat": 4,
 "nbformat_minor": 0
}
